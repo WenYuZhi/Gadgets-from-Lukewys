{
 "cells": [
  {
   "cell_type": "code",
   "execution_count": 1,
   "metadata": {
    "collapsed": true
   },
   "outputs": [],
   "source": [
    "import tensorflow as tf\n",
    "import magenta\n",
    "import os"
   ]
  },
  {
   "cell_type": "code",
   "execution_count": 2,
   "metadata": {
    "collapsed": false
   },
   "outputs": [],
   "source": [
    "sess=tf.InteractiveSession()"
   ]
  },
  {
   "cell_type": "code",
   "execution_count": 3,
   "metadata": {
    "collapsed": false
   },
   "outputs": [],
   "source": [
    "#加这行是因为jupyter notebook对tf.app.flags.FLAGS有bug\n",
    "#见https://github.com/tensorflow/tensorflow/issues/17702\n",
    "tf.app.flags.DEFINE_string('f', '', 'kernel')"
   ]
  },
  {
   "cell_type": "code",
   "execution_count": 4,
   "metadata": {
    "collapsed": true
   },
   "outputs": [],
   "source": [
    "import magenta.models.melody_rnn.melody_rnn_config_flags as config_flags\n",
    "\n",
    "config_flags.FLAGS.config = 'basic_rnn'\n",
    "config_flags.FLAGS.hparams = 'batch_size=10,rnn_layer_sizes=[128,128]'"
   ]
  },
  {
   "cell_type": "code",
   "execution_count": 5,
   "metadata": {
    "collapsed": true
   },
   "outputs": [],
   "source": [
    "from magenta.models.melody_rnn import melody_rnn_config_flags\n",
    "config = melody_rnn_config_flags.config_from_flags()"
   ]
  },
  {
   "cell_type": "code",
   "execution_count": 6,
   "metadata": {
    "collapsed": false
   },
   "outputs": [],
   "source": [
    "FLAGS = tf.app.flags.FLAGS\n",
    "tf.app.flags.DEFINE_string('run_dir', r'E:\\Magenta\\Modify\\melody_rnn\\weight_jazz',\n",
    "                           'Path to the directory where checkpoints and '\n",
    "                           'summary events will be saved during training and '\n",
    "                           'evaluation. Separate subdirectories for training '\n",
    "                           'events and eval events will be created within '\n",
    "                           '`run_dir`. Multiple runs can be stored within the '\n",
    "                           'parent directory of `run_dir`. Point TensorBoard '\n",
    "                           'to the parent directory of `run_dir` to see all '\n",
    "                           'your runs.')\n",
    "tf.app.flags.DEFINE_string('sequence_example_file_1', r'E:\\Magenta\\Dataset\\melody_rnn_bach\\training_melodies.tfrecord',\n",
    "                           'Path to first dataset TFRecord file containing '\n",
    "                           'tf.SequenceExample records for training or '\n",
    "                           'evaluation. A filepattern may also be provided, '\n",
    "                           'which will be expanded to all matching files.')\n",
    "tf.app.flags.DEFINE_string('sequence_example_file_2', r'E:\\Magenta\\Dataset\\melody_rnn_jazz_single\\training_melodies.tfrecord',\n",
    "                           'Path to second dataset TFRecord file containing '\n",
    "                           'tf.SequenceExample records for training or '\n",
    "                           'evaluation. A filepattern may also be provided, '\n",
    "                           'which will be expanded to all matching files.')\n",
    "tf.app.flags.DEFINE_integer('num_training_steps', 0,\n",
    "                            'The the number of global training steps your '\n",
    "                            'model should take before exiting training. '\n",
    "                            'Leave as 0 to run until terminated manually.')\n",
    "tf.app.flags.DEFINE_integer('num_eval_examples', 0,\n",
    "                            'The number of evaluation examples your model '\n",
    "                            'should process for each evaluation step.'\n",
    "                            'Leave as 0 to use the entire evaluation set.')\n",
    "tf.app.flags.DEFINE_integer('summary_frequency', 100,\n",
    "                            'A summary statement will be logged every '\n",
    "                            '`summary_frequency` steps during training or '\n",
    "                            'every `summary_frequency` seconds during '\n",
    "                            'evaluation.')\n",
    "tf.app.flags.DEFINE_integer('num_checkpoints', 10,\n",
    "                            'The number of most recent checkpoints to keep in '\n",
    "                            'the training directory. Keeps all if 0.')\n",
    "tf.app.flags.DEFINE_boolean('eval', False,\n",
    "                            'If True, this process only evaluates the model '\n",
    "                            'and does not update weights.')\n",
    "tf.app.flags.DEFINE_boolean('condition', True,\n",
    "                            'If True, will use two datasets above and using condition input.')\n",
    "tf.app.flags.DEFINE_string('log', 'INFO',\n",
    "                           'The threshold for what messages will be logged '\n",
    "                           'DEBUG, INFO, WARN, ERROR, or FATAL.')"
   ]
  },
  {
   "cell_type": "code",
   "execution_count": 7,
   "metadata": {
    "collapsed": false
   },
   "outputs": [],
   "source": [
    "tf.logging.set_verbosity(FLAGS.log)\n",
    "\n",
    "if not FLAGS.run_dir:\n",
    "    tf.logging.fatal('--run_dir required')\n",
    "if not FLAGS.sequence_example_file_1:\n",
    "    tf.logging.fatal('--sequence_example_file_1 required')\n",
    "if (not FLAGS.sequence_example_file_2) and FLAGS.condition:\n",
    "    tf.logging.fatal('--sequence_example_file_2 required')\n",
    "# If use conditioning, add the second example_file to the list\n",
    "if FLAGS.condition:\n",
    "    sequence_example_file_paths = (tf.gfile.Glob(\n",
    "        os.path.expanduser(FLAGS.sequence_example_file_1))\n",
    "                                   + tf.gfile.Glob(\n",
    "                os.path.expanduser(FLAGS.sequence_example_file_2)))\n",
    "else:\n",
    "    sequence_example_file_paths = tf.gfile.Glob(\n",
    "        os.path.expanduser(FLAGS.sequence_example_file_1))\n",
    "run_dir = os.path.expanduser(FLAGS.run_dir)"
   ]
  },
  {
   "cell_type": "code",
   "execution_count": 8,
   "metadata": {
    "collapsed": false
   },
   "outputs": [
    {
     "name": "stdout",
     "output_type": "stream",
     "text": [
      "['E:\\\\Magenta\\\\Dataset\\\\melody_rnn_bach_single\\\\training_melodies.tfrecord', 'E:\\\\Magenta\\\\Dataset\\\\melody_rnn_jazz_single\\\\training_melodies.tfrecord']\n",
      "<class 'list'>\n"
     ]
    }
   ],
   "source": [
    "print(sequence_example_file_paths)\n",
    "print(type(sequence_example_file_paths))"
   ]
  },
  {
   "cell_type": "code",
   "execution_count": 9,
   "metadata": {
    "collapsed": true
   },
   "outputs": [],
   "source": [
    "config = melody_rnn_config_flags.config_from_flags()\n",
    "\n",
    "mode = 'eval' if FLAGS.eval else 'train'"
   ]
  },
  {
   "cell_type": "code",
   "execution_count": 10,
   "metadata": {
    "collapsed": false
   },
   "outputs": [
    {
     "name": "stdout",
     "output_type": "stream",
     "text": [
      "INFO:tensorflow:hparams = {'dropout_keep_prob': 0.5, 'batch_size': 10, 'clip_norm': 5, 'use_cudnn': False, 'rnn_layer_sizes': [128, 128], 'attn_length': 0, 'residual_connections': False, 'learning_rate': 0.001}\n"
     ]
    }
   ],
   "source": [
    "hparams = config.hparams\n",
    "encoder_decoder = config.encoder_decoder\n",
    "tf.logging.info('hparams = %s', hparams.values())\n",
    "\n",
    "input_size = encoder_decoder.input_size\n",
    "num_classes = encoder_decoder.num_classes\n",
    "no_event_label = encoder_decoder.default_event_label"
   ]
  },
  {
   "cell_type": "code",
   "execution_count": 11,
   "metadata": {
    "collapsed": true
   },
   "outputs": [],
   "source": [
    "import numbers\n",
    "from magenta.models.shared.events_rnn_graph import *\n",
    "inputs, labels, lengths = None, None, None"
   ]
  },
  {
   "cell_type": "code",
   "execution_count": 12,
   "metadata": {
    "collapsed": true
   },
   "outputs": [],
   "source": [
    "if mode == 'train' or mode == 'eval':\n",
    "    if isinstance(no_event_label, numbers.Number):\n",
    "        label_shape = []\n",
    "    else:\n",
    "        label_shape = [len(no_event_label)]\n"
   ]
  },
  {
   "cell_type": "code",
   "execution_count": 13,
   "metadata": {
    "collapsed": true
   },
   "outputs": [],
   "source": [
    "'''\n",
    "inputs, labels, lengths = magenta.common.get_padded_batch(\n",
    "          sequence_example_file_paths, hparams.batch_size, input_size,\n",
    "          label_shape=label_shape, shuffle=mode == 'train')\n",
    "'''\n",
    "file_list=sequence_example_file_paths\n",
    "batch_size=hparams.batch_size\n",
    "num_enqueuing_threads=4\n",
    "#shuffle=mode == 'train'\n",
    "shuffle=False"
   ]
  },
  {
   "cell_type": "code",
   "execution_count": 14,
   "metadata": {
    "collapsed": true
   },
   "outputs": [],
   "source": [
    "import math\n",
    "from magenta.common.sequence_example_lib import *\n",
    "def _shuffle_inputs(input_tensors, capacity, min_after_dequeue, num_threads):\n",
    "    \"\"\"Shuffles tensors in `input_tensors`, maintaining grouping.\"\"\"\n",
    "    shuffle_queue = tf.RandomShuffleQueue(\n",
    "        capacity, min_after_dequeue, dtypes=[t.dtype for t in input_tensors])\n",
    "    enqueue_op = shuffle_queue.enqueue(input_tensors)\n",
    "    runner = tf.train.QueueRunner(shuffle_queue, [enqueue_op] * num_threads)\n",
    "    tf.train.add_queue_runner(runner)\n",
    "\n",
    "    output_tensors = shuffle_queue.dequeue()\n",
    "\n",
    "    for i in range(len(input_tensors)):\n",
    "        output_tensors[i].set_shape(input_tensors[i].shape)\n",
    "\n",
    "    return output_tensors"
   ]
  },
  {
   "cell_type": "code",
   "execution_count": 15,
   "metadata": {
    "collapsed": false
   },
   "outputs": [
    {
     "name": "stdout",
     "output_type": "stream",
     "text": [
      "WARNING:tensorflow:From D:\\Anaconda3\\envs\\tensorflow\\lib\\site-packages\\tensorflow\\python\\training\\input.py:187: QueueRunner.__init__ (from tensorflow.python.training.queue_runner_impl) is deprecated and will be removed in a future version.\n",
      "Instructions for updating:\n",
      "To construct input pipelines, use the `tf.data` module.\n",
      "WARNING:tensorflow:From D:\\Anaconda3\\envs\\tensorflow\\lib\\site-packages\\tensorflow\\python\\training\\input.py:187: add_queue_runner (from tensorflow.python.training.queue_runner_impl) is deprecated and will be removed in a future version.\n",
      "Instructions for updating:\n",
      "To construct input pipelines, use the `tf.data` module.\n"
     ]
    }
   ],
   "source": [
    "file_queue = tf.train.string_input_producer(file_list)\n",
    "reader = tf.TFRecordReader()\n",
    "read_queue, serialized_example = reader.read(file_queue)\n",
    "\n",
    "sequence_features = {\n",
    "    'inputs': tf.FixedLenSequenceFeature(shape=[input_size],\n",
    "                                         dtype=tf.float32),\n",
    "    'labels': tf.FixedLenSequenceFeature(shape=label_shape or [],\n",
    "                                         dtype=tf.int64)}\n",
    "\n",
    "single_queue, sequence = tf.parse_single_sequence_example(\n",
    "    serialized_example, sequence_features=sequence_features)\n"
   ]
  },
  {
   "cell_type": "code",
   "execution_count": null,
   "metadata": {
    "collapsed": false
   },
   "outputs": [],
   "source": [
    "'''file_queue = tf.train.string_input_producer(file_list)\n",
    "reader = tf.TFRecordReader()\n",
    "_, serialized_example = reader.read(file_queue)\n",
    "\n",
    "sequence_features = {\n",
    "    'inputs': tf.FixedLenSequenceFeature(shape=[input_size],\n",
    "                                         dtype=tf.float32),\n",
    "    'labels': tf.FixedLenSequenceFeature(shape=label_shape or [],\n",
    "                                         dtype=tf.int64)}\n",
    "\n",
    "_, sequence = tf.parse_single_sequence_example(\n",
    "    serialized_example, sequence_features=sequence_features)\n",
    "\n",
    "length = tf.shape(sequence['inputs'])[0]\n",
    "input_tensors = [sequence['inputs'], sequence['labels'], length]\n",
    "\n",
    "if shuffle:\n",
    "    if num_enqueuing_threads < 2:\n",
    "        raise ValueError(\n",
    "            '`num_enqueuing_threads` must be at least 2 when shuffling.')\n",
    "    shuffle_threads = int(math.ceil(num_enqueuing_threads) / 2.)\n",
    "\n",
    "    # Since there may be fewer records than SHUFFLE_MIN_AFTER_DEQUEUE, take the\n",
    "    # minimum of that number and the number of records.\n",
    "    min_after_dequeue = count_records(\n",
    "        file_list, stop_at=SHUFFLE_MIN_AFTER_DEQUEUE)\n",
    "    input_tensors = _shuffle_inputs(\n",
    "        input_tensors, capacity=QUEUE_CAPACITY,\n",
    "        min_after_dequeue=min_after_dequeue,\n",
    "        num_threads=shuffle_threads)\n",
    "\n",
    "    num_enqueuing_threads -= shuffle_threads\n",
    "\n",
    "tf.logging.info(input_tensors)\n",
    "'''"
   ]
  },
  {
   "cell_type": "markdown",
   "metadata": {},
   "source": [
    "# 看原始输出"
   ]
  },
  {
   "cell_type": "code",
   "execution_count": 22,
   "metadata": {
    "collapsed": false
   },
   "outputs": [
    {
     "name": "stdout",
     "output_type": "stream",
     "text": [
      "INFO:tensorflow:Error reported to Coordinator: <class 'tensorflow.python.framework.errors_impl.CancelledError'>, FIFOQueue '_1_input_producer' is closed.\n",
      "\t [[{{node input_producer/input_producer_EnqueueMany}} = QueueEnqueueManyV2[Tcomponents=[DT_STRING], timeout_ms=-1, _device=\"/job:localhost/replica:0/task:0/device:CPU:0\"](input_producer, input_producer/RandomShuffle)]]\n",
      "(303, 38)\n",
      "(303,)\n",
      "(303, 38)\n",
      "(303,)\n",
      "(303, 38)\n",
      "(303,)\n",
      "(303, 38)\n",
      "(303,)\n",
      "(303, 38)\n",
      "(303,)\n",
      "(511, 38)\n",
      "(511,)\n",
      "(111, 38)\n",
      "(111,)\n",
      "(511, 38)\n",
      "(511,)\n",
      "(502, 38)\n",
      "(502,)\n",
      "(502, 38)\n",
      "(502,)\n"
     ]
    }
   ],
   "source": [
    "coord = tf.train.Coordinator()\n",
    "threads = tf.train.start_queue_runners(sess, coord)\n",
    "f=0\n",
    "try:\n",
    "    for i in range (10):\n",
    "        seq=sess.run(sequence)\n",
    "        # print(np.argmax(inp['inputs'],axis=1).shape)\n",
    "        print(seq['inputs'].shape)\n",
    "        print(seq['labels'].shape)\n",
    "        #print(type(seq))\n",
    "except tf.errors.OutOfRangeError:\n",
    "    print(\"done\")\n",
    "finally:\n",
    "    coord.request_stop()\n",
    "#coord.join(threads)"
   ]
  },
  {
   "cell_type": "code",
   "execution_count": 17,
   "metadata": {
    "collapsed": true
   },
   "outputs": [],
   "source": [
    "inp=np.argmax(seq['inputs'],axis=1)\n"
   ]
  },
  {
   "cell_type": "code",
   "execution_count": 18,
   "metadata": {
    "collapsed": false
   },
   "outputs": [
    {
     "data": {
      "text/plain": [
       "array([ 0,  0,  0,  0, 18,  0,  0,  0,  0,  0,  0,  0,  0,  0,  0,  0, 19,\n",
       "        0,  0,  0,  0,  0,  0,  1, 18,  0,  0,  0,  0,  0,  0,  0,  1,  0,\n",
       "        0, 18,  0,  0,  0,  0, 16,  0,  0,  0,  0,  0,  0,  0, 15,  0,  0,\n",
       "        0,  0,  0,  0,  1, 15,  0,  0,  0,  0,  0,  0,  0,  1,  0,  0, 14,\n",
       "        0,  0,  0,  0,  0,  0,  0,  0,  0,  0,  0,  0, 13,  0,  0,  0,  0,\n",
       "        0,  0,  1, 13,  0,  0,  0,  0,  0,  0,  0,  1,  0,  0, 12,  0,  0,\n",
       "        0,  0,  0,  0,  0,  0,  0,  0,  0,  0, 13,  0,  0,  0,  0,  0,  0,\n",
       "        0,  0,  0,  0,  0,  0,  0,  0,  0,  1,  0,  0, 11,  0,  0,  0,  0,\n",
       "        0,  0,  0,  0,  0,  0,  0], dtype=int64)"
      ]
     },
     "execution_count": 18,
     "metadata": {},
     "output_type": "execute_result"
    }
   ],
   "source": [
    "inp"
   ]
  },
  {
   "cell_type": "code",
   "execution_count": 20,
   "metadata": {
    "collapsed": false
   },
   "outputs": [
    {
     "data": {
      "text/plain": [
       "array([ 0,  0,  0, 18,  0,  0,  0,  0,  0,  0,  0,  0,  0,  0,  0, 19,  0,\n",
       "        0,  0,  0,  0,  0,  1, 18,  0,  0,  0,  0,  0,  0,  0,  1,  0,  0,\n",
       "       18,  0,  0,  0,  0, 16,  0,  0,  0,  0,  0,  0,  0, 15,  0,  0,  0,\n",
       "        0,  0,  0,  1, 15,  0,  0,  0,  0,  0,  0,  0,  1,  0,  0, 14,  0,\n",
       "        0,  0,  0,  0,  0,  0,  0,  0,  0,  0,  0, 13,  0,  0,  0,  0,  0,\n",
       "        0,  1, 13,  0,  0,  0,  0,  0,  0,  0,  1,  0,  0, 12,  0,  0,  0,\n",
       "        0,  0,  0,  0,  0,  0,  0,  0,  0, 13,  0,  0,  0,  0,  0,  0,  0,\n",
       "        0,  0,  0,  0,  0,  0,  0,  0,  1,  0,  0, 11,  0,  0,  0,  0,  0,\n",
       "        0,  0,  0,  0,  0,  0,  0], dtype=int64)"
      ]
     },
     "execution_count": 20,
     "metadata": {},
     "output_type": "execute_result"
    }
   ],
   "source": [
    "seq['labels']"
   ]
  },
  {
   "cell_type": "code",
   "execution_count": 15,
   "metadata": {
    "collapsed": false
   },
   "outputs": [
    {
     "name": "stdout",
     "output_type": "stream",
     "text": [
      "WARNING:tensorflow:From <ipython-input-15-27a49832d9cb>:2: start_queue_runners (from tensorflow.python.training.queue_runner_impl) is deprecated and will be removed in a future version.\n",
      "Instructions for updating:\n",
      "To construct input pipelines, use the `tf.data` module.\n",
      "b'E:\\\\Magenta\\\\Dataset\\\\melody_rnn_bach_single\\\\training_melodies.tfrecord:0'\n",
      "<class 'bytes'>\n",
      "b'E:\\\\Magenta\\\\Dataset\\\\melody_rnn_bach_single\\\\training_melodies.tfrecord:50954'\n",
      "<class 'bytes'>\n",
      "b'E:\\\\Magenta\\\\Dataset\\\\melody_rnn_bach_single\\\\training_melodies.tfrecord:101908'\n",
      "<class 'bytes'>\n",
      "b'E:\\\\Magenta\\\\Dataset\\\\melody_rnn_bach_single\\\\training_melodies.tfrecord:152862'\n",
      "<class 'bytes'>\n",
      "b'E:\\\\Magenta\\\\Dataset\\\\melody_rnn_bach_single\\\\training_melodies.tfrecord:203816'\n",
      "<class 'bytes'>\n",
      "b'E:\\\\Magenta\\\\Dataset\\\\melody_rnn_jazz_single\\\\training_melodies.tfrecord:0'\n",
      "<class 'bytes'>\n",
      "b'E:\\\\Magenta\\\\Dataset\\\\melody_rnn_jazz_single\\\\training_melodies.tfrecord:85898'\n",
      "<class 'bytes'>\n",
      "b'E:\\\\Magenta\\\\Dataset\\\\melody_rnn_jazz_single\\\\training_melodies.tfrecord:104596'\n",
      "<class 'bytes'>\n",
      "b'E:\\\\Magenta\\\\Dataset\\\\melody_rnn_jazz_single\\\\training_melodies.tfrecord:190494'\n",
      "<class 'bytes'>\n",
      "b'E:\\\\Magenta\\\\Dataset\\\\melody_rnn_jazz_single\\\\training_melodies.tfrecord:274880'\n",
      "<class 'bytes'>\n"
     ]
    }
   ],
   "source": [
    "coord = tf.train.Coordinator()\n",
    "threads = tf.train.start_queue_runners(sess, coord)\n",
    "f=0\n",
    "try:\n",
    "    for i in range (10):\n",
    "        que=sess.run(read_queue)\n",
    "        # print(np.argmax(inp['inputs'],axis=1).shape)\n",
    "        print(que)\n",
    "        print(type(que))\n",
    "except tf.errors.OutOfRangeError:\n",
    "    print(\"done\")\n",
    "finally:\n",
    "    coord.request_stop()\n",
    "coord.join(threads)"
   ]
  },
  {
   "cell_type": "code",
   "execution_count": 18,
   "metadata": {
    "collapsed": false
   },
   "outputs": [
    {
     "data": {
      "text/plain": [
       "b'E:\\\\Magenta\\\\Dataset\\\\melody_rnn_jazz_single\\\\training_melodies.tfrecord:700756'"
      ]
     },
     "execution_count": 18,
     "metadata": {},
     "output_type": "execute_result"
    }
   ],
   "source": [
    "que"
   ]
  },
  {
   "cell_type": "code",
   "execution_count": 19,
   "metadata": {
    "collapsed": false
   },
   "outputs": [
    {
     "data": {
      "text/plain": [
       "\"b'E:\\\\\\\\Magenta\\\\\\\\Dataset\\\\\\\\melody_rnn_jazz_single\\\\\\\\training_melodies.tfrecord:700756'\""
      ]
     },
     "execution_count": 19,
     "metadata": {},
     "output_type": "execute_result"
    }
   ],
   "source": [
    "str(que)"
   ]
  },
  {
   "cell_type": "code",
   "execution_count": 22,
   "metadata": {
    "collapsed": false
   },
   "outputs": [
    {
     "data": {
      "text/plain": [
       "-1"
      ]
     },
     "execution_count": 22,
     "metadata": {},
     "output_type": "execute_result"
    }
   ],
   "source": [
    "str_que=str(que)\n",
    "str_que.find('bach')"
   ]
  },
  {
   "cell_type": "code",
   "execution_count": 30,
   "metadata": {
    "collapsed": false
   },
   "outputs": [
    {
     "data": {
      "text/plain": [
       "True"
      ]
     },
     "execution_count": 30,
     "metadata": {},
     "output_type": "execute_result"
    }
   ],
   "source": [
    "type(que) is list"
   ]
  },
  {
   "cell_type": "code",
   "execution_count": 28,
   "metadata": {
    "collapsed": false
   },
   "outputs": [],
   "source": [
    "a=type(que)"
   ]
  },
  {
   "cell_type": "code",
   "execution_count": 29,
   "metadata": {
    "collapsed": false
   },
   "outputs": [
    {
     "data": {
      "text/plain": [
       "type"
      ]
     },
     "execution_count": 29,
     "metadata": {},
     "output_type": "execute_result"
    }
   ],
   "source": [
    "type(a)"
   ]
  },
  {
   "cell_type": "code",
   "execution_count": null,
   "metadata": {
    "collapsed": false
   },
   "outputs": [],
   "source": [
    "coord = tf.train.Coordinator()\n",
    "threads = tf.train.start_queue_runners(sess, coord)\n",
    "f=0\n",
    "try:\n",
    "    seq_list=[]\n",
    "    for i in range (100):\n",
    "        seq=sess.run(sequence)\n",
    "        seq_list.append((seq['inputs'].shape[0]))\n",
    "        #print('inputs: '+str(seq['inputs'].shape)+' labels:'+str(seq['labels'].shape))\n",
    "        if i %500 ==0:\n",
    "            print(i)\n",
    "except tf.errors.OutOfRangeError:\n",
    "    print(\"done\")\n",
    "finally:\n",
    "    coord.request_stop()\n",
    "coord.join(threads)"
   ]
  },
  {
   "cell_type": "code",
   "execution_count": null,
   "metadata": {
    "collapsed": false
   },
   "outputs": [],
   "source": [
    "seq_list"
   ]
  },
  {
   "cell_type": "code",
   "execution_count": null,
   "metadata": {
    "collapsed": false
   },
   "outputs": [],
   "source": [
    "l_len=10\n",
    "f=0\n",
    "for i in range(1,1990):\n",
    "    for index in range(10):\n",
    "        if seq_list[index+i]!= seq_list[index]:\n",
    "            f-=1\n",
    "        f+=1\n",
    "    if f==10:\n",
    "        print('Found: '+str(i))\n",
    "    else:\n",
    "        f=0\n",
    "\n"
   ]
  },
  {
   "cell_type": "code",
   "execution_count": null,
   "metadata": {
    "collapsed": false
   },
   "outputs": [],
   "source": [
    "seq_list"
   ]
  },
  {
   "cell_type": "code",
   "execution_count": null,
   "metadata": {
    "collapsed": true
   },
   "outputs": [],
   "source": [
    "\n",
    "        for index in range(10):\n",
    "            if seq_list[index-10]!= seq_list[index]:\n",
    "                f-=1\n",
    "            f+=1\n",
    "            print(f)\n",
    "            if f==10:\n",
    "                print('Found: '+str(i))\n",
    "            else:\n",
    "                f=0"
   ]
  },
  {
   "cell_type": "code",
   "execution_count": null,
   "metadata": {
    "collapsed": true
   },
   "outputs": [],
   "source": []
  },
  {
   "cell_type": "code",
   "execution_count": null,
   "metadata": {
    "collapsed": false
   },
   "outputs": [],
   "source": [
    "len(seq_list)"
   ]
  },
  {
   "cell_type": "code",
   "execution_count": null,
   "metadata": {
    "collapsed": false
   },
   "outputs": [],
   "source": [
    "print(seq_list[0:10])\n",
    "print(seq_list[1513:1513+10])"
   ]
  },
  {
   "cell_type": "markdown",
   "metadata": {},
   "source": [
    "WARNING:tensorflow:From <ipython-input-15-da84dd1d818a>:2: start_queue_runners (from tensorflow.python.training.queue_runner_impl) is deprecated and will be removed in a future version.\n",
    "Instructions for updating:\n",
    "To construct input pipelines, use the `tf.data` module.\n",
    "inputs: (351, 38) labels:(351,)\n",
    "inputs: (175, 38) labels:(175,)\n",
    "inputs: (175, 38) labels:(175,)\n",
    "inputs: (239, 38) labels:(239,)\n",
    "inputs: (239, 38) labels:(239,)\n",
    "inputs: (211, 38) labels:(211,)\n",
    "inputs: (359, 38) labels:(359,)\n",
    "inputs: (159, 38) labels:(159,)\n",
    "inputs: (159, 38) labels:(159,)\n",
    "inputs: (307, 38) labels:(307,)"
   ]
  },
  {
   "cell_type": "code",
   "execution_count": null,
   "metadata": {
    "collapsed": false
   },
   "outputs": [],
   "source": [
    "seq"
   ]
  },
  {
   "cell_type": "code",
   "execution_count": null,
   "metadata": {
    "collapsed": false
   },
   "outputs": [],
   "source": [
    "len(seq)"
   ]
  },
  {
   "cell_type": "code",
   "execution_count": 9,
   "metadata": {
    "collapsed": false
   },
   "outputs": [
    {
     "data": {
      "text/plain": [
       "['E:\\\\Magenta\\\\Dataset\\\\melody_rnn_bach\\\\training_melodies.tfrecord',\n",
       " 'E:\\\\Magenta\\\\Dataset\\\\melody_rnn_jazz_single\\\\training_melodies.tfrecord']"
      ]
     },
     "execution_count": 9,
     "metadata": {},
     "output_type": "execute_result"
    }
   ],
   "source": [
    "sequence_example_file_paths"
   ]
  },
  {
   "cell_type": "code",
   "execution_count": 10,
   "metadata": {
    "collapsed": true
   },
   "outputs": [],
   "source": [
    "file_path=sequence_example_file_paths[0]"
   ]
  },
  {
   "cell_type": "code",
   "execution_count": 11,
   "metadata": {
    "collapsed": false
   },
   "outputs": [
    {
     "data": {
      "text/plain": [
       "'E:\\\\Magenta\\\\Dataset\\\\melody_rnn_bach\\\\training_melodies.tfrecord'"
      ]
     },
     "execution_count": 11,
     "metadata": {},
     "output_type": "execute_result"
    }
   ],
   "source": [
    "file_path"
   ]
  },
  {
   "cell_type": "code",
   "execution_count": null,
   "metadata": {
    "collapsed": false
   },
   "outputs": [],
   "source": [
    "c = 0\n",
    "for fn in file_path:\n",
    "    for record in tf.python_io.tf_record_iterator(fn):\n",
    "        c += 1\n",
    "    print(c)"
   ]
  },
  {
   "cell_type": "code",
   "execution_count": 13,
   "metadata": {
    "collapsed": false
   },
   "outputs": [
    {
     "data": {
      "text/plain": [
       "0"
      ]
     },
     "execution_count": 13,
     "metadata": {},
     "output_type": "execute_result"
    },
    {
     "name": "stdout",
     "output_type": "stream",
     "text": [
      "ERROR! Session/line number was not unique in database. History logging moved to new session 539\n"
     ]
    }
   ],
   "source": [
    "c"
   ]
  },
  {
   "cell_type": "code",
   "execution_count": null,
   "metadata": {
    "collapsed": true
   },
   "outputs": [],
   "source": []
  }
 ],
 "metadata": {
  "anaconda-cloud": {},
  "kernelspec": {
   "display_name": "Python [conda env:tensorflow]",
   "language": "python",
   "name": "conda-env-tensorflow-py"
  },
  "language_info": {
   "codemirror_mode": {
    "name": "ipython",
    "version": 3
   },
   "file_extension": ".py",
   "mimetype": "text/x-python",
   "name": "python",
   "nbconvert_exporter": "python",
   "pygments_lexer": "ipython3",
   "version": "3.5.4"
  }
 },
 "nbformat": 4,
 "nbformat_minor": 1
}
