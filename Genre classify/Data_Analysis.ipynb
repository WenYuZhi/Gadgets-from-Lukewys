{
 "cells": [
  {
   "cell_type": "code",
   "execution_count": 1,
   "metadata": {
    "collapsed": true
   },
   "outputs": [],
   "source": [
    "import tensorflow as tf\n",
    "import numpy as np\n",
    "from matplotlib import pyplot as plt\n",
    "%matplotlib inline"
   ]
  },
  {
   "cell_type": "code",
   "execution_count": 2,
   "metadata": {
    "collapsed": true
   },
   "outputs": [],
   "source": [
    "data=np.load('jazz.npy')"
   ]
  },
  {
   "cell_type": "code",
   "execution_count": 3,
   "metadata": {
    "collapsed": true
   },
   "outputs": [],
   "source": [
    "lengths=[]\n",
    "for piece in data:\n",
    "    length=piece['inputs'].shape[0]\n",
    "    lengths.append(length)"
   ]
  },
  {
   "cell_type": "code",
   "execution_count": 4,
   "metadata": {
    "collapsed": false
   },
   "outputs": [
    {
     "data": {
      "image/png": "[encoded data removed]",
      "text/plain": [
       "<matplotlib.figure.Figure at 0x21be8ae3c18>"
      ]
     },
     "metadata": {},
     "output_type": "display_data"
    }
   ],
   "source": [
    "plt.hist(lengths,50)\n",
    "plt.show()"
   ]
  },
  {
   "cell_type": "code",
   "execution_count": 5,
   "metadata": {
    "collapsed": false
   },
   "outputs": [
    {
     "name": "stdout",
     "output_type": "stream",
     "text": [
      "min: 57\n",
      "max: 511\n"
     ]
    }
   ],
   "source": [
    "print('min: ' + str(np.min(np.array(lengths))))\n",
    "print('max: ' + str(np.max(np.array(lengths))))"
   ]
  },
  {
   "cell_type": "code",
   "execution_count": 13,
   "metadata": {
    "collapsed": false
   },
   "outputs": [
    {
     "data": {
      "text/plain": [
       "1070"
      ]
     },
     "execution_count": 13,
     "metadata": {},
     "output_type": "execute_result"
    }
   ],
   "source": [
    "len(data)"
   ]
  },
  {
   "cell_type": "code",
   "execution_count": 45,
   "metadata": {
    "collapsed": true
   },
   "outputs": [],
   "source": [
    "data=np.load('bach_g64.npy')"
   ]
  },
  {
   "cell_type": "code",
   "execution_count": 29,
   "metadata": {
    "collapsed": false
   },
   "outputs": [
    {
     "name": "stdout",
     "output_type": "stream",
     "text": [
      "4\n",
      "[224]\n",
      "65\n",
      "[136]\n",
      "67\n",
      "[136]\n",
      "107\n",
      "[ 28  92 220]\n",
      "108\n",
      "[ 28  92 220]\n",
      "109\n",
      "[ 28  92 220]\n",
      "110\n",
      "[ 28  92 220]\n",
      "135\n",
      "[ 80 176 336 432]\n",
      "136\n",
      "[ 80 176 336 432]\n",
      "137\n",
      "[ 80 176 336 432]\n",
      "138\n",
      "[ 80 176 336 432]\n",
      "159\n",
      "[24 56]\n",
      "160\n",
      "[24 56]\n",
      "161\n",
      "[24 56]\n",
      "162\n",
      "[24 56]\n",
      "195\n",
      "[128]\n",
      "196\n",
      "[128]\n",
      "197\n",
      "[128]\n",
      "198\n",
      "[128]\n",
      "211\n",
      "[184]\n",
      "212\n",
      "[184]\n",
      "213\n",
      "[184]\n",
      "214\n",
      "[184]\n",
      "243\n",
      "[188]\n",
      "244\n",
      "[188]\n",
      "245\n",
      "[188]\n",
      "246\n",
      "[188]\n",
      "247\n",
      "[188]\n",
      "252\n",
      "[ 84 228 324]\n",
      "253\n",
      "[ 84 228 324]\n",
      "254\n",
      "[ 84 228 324]\n",
      "255\n",
      "[ 84 228 324]\n",
      "256\n",
      "[ 84 228 324]\n",
      "257\n",
      "[ 84 228 324]\n",
      "258\n",
      "[ 84 228 324]\n",
      "291\n",
      "[184]\n",
      "295\n",
      "[24 56]\n",
      "296\n",
      "[24 56]\n",
      "297\n",
      "[24 56]\n",
      "298\n",
      "[24 56]\n",
      "307\n",
      "[36]\n",
      "308\n",
      "[36 84 96]\n",
      "326\n",
      "[ 32 112]\n",
      "327\n",
      "[ 32 112]\n",
      "328\n",
      "[ 32 112]\n",
      "329\n",
      "[ 32 112]\n",
      "334\n",
      "[ 24  88 152 184 216]\n",
      "335\n",
      "[ 24  88 152 184 216]\n",
      "336\n",
      "[ 24  88 152 184 216]\n",
      "337\n",
      "[ 24  88 152 184 216]\n",
      "346\n",
      "[ 40 120 168 280]\n",
      "347\n",
      "[ 40 120 168 280]\n",
      "348\n",
      "[ 40 120 168 280]\n",
      "349\n",
      "[ 40 120 168 280]\n",
      "351\n",
      "[208]\n",
      "363\n",
      "[ 36  60  96 132 156 232]\n",
      "364\n",
      "[ 36  60  96 132 156 260]\n",
      "365\n",
      "[ 10  28  96 106 124 224 264 274]\n",
      "514\n",
      "[ 28  36  84  92 140 148 196 204 220]\n",
      "519\n",
      "[  4  36 228 292 324]\n",
      "536\n",
      "[208]\n",
      "569\n",
      "[28 60 92]\n",
      "570\n",
      "[28 60 92]\n",
      "571\n",
      "[28 60 92]\n",
      "572\n",
      "[28 60 92]\n",
      "577\n",
      "[ 44 108 156 220]\n",
      "578\n",
      "[ 44 108 156 220]\n",
      "579\n",
      "[ 44 108 156 220]\n",
      "580\n",
      "[ 44 108 156 220]\n",
      "581\n",
      "[ 8 44 76]\n",
      "582\n",
      "[ 8 44 76]\n",
      "583\n",
      "[ 8 44 76]\n",
      "584\n",
      "[ 8 44 76]\n",
      "596\n",
      "[98]\n",
      "617\n",
      "[56 88]\n",
      "618\n",
      "[56 88]\n",
      "619\n",
      "[56 88]\n",
      "620\n",
      "[56 88]\n",
      "621\n",
      "[128]\n",
      "622\n",
      "[128]\n",
      "623\n",
      "[128]\n",
      "624\n",
      "[128]\n",
      "625\n",
      "[60]\n",
      "626\n",
      "[60]\n",
      "627\n",
      "[60]\n",
      "628\n",
      "[60]\n",
      "633\n",
      "[128]\n",
      "634\n",
      "[128]\n",
      "635\n",
      "[128]\n",
      "636\n",
      "[128]\n",
      "637\n",
      "[128]\n",
      "638\n",
      "[128]\n",
      "639\n",
      "[128]\n",
      "640\n",
      "[128]\n",
      "645\n",
      "[60]\n",
      "646\n",
      "[60]\n",
      "647\n",
      "[60]\n",
      "648\n",
      "[60]\n",
      "681\n",
      "[76]\n",
      "682\n",
      "[76]\n",
      "683\n",
      "[76]\n",
      "684\n",
      "[76]\n",
      "701\n",
      "[ 60  92 124 156 188]\n",
      "702\n",
      "[ 60  92 124 156 188]\n",
      "703\n",
      "[ 60  92 124 156 188]\n",
      "704\n",
      "[ 60  92 124 156 188]\n",
      "721\n",
      "[ 28  92 156 188 220]\n",
      "722\n",
      "[ 28  92 156 188 220]\n",
      "723\n",
      "[ 28  92 156 188 220]\n",
      "724\n",
      "[ 28  92 156 188 220]\n",
      "746\n",
      "[140]\n",
      "748\n",
      "[140]\n",
      "770\n",
      "[ 40 136]\n",
      "771\n",
      "[ 40 136]\n",
      "772\n",
      "[ 40 136]\n",
      "773\n",
      "[ 40 136]\n",
      "778\n",
      "[ 44 124]\n",
      "779\n",
      "[ 44 124]\n",
      "780\n",
      "[ 44 124]\n",
      "781\n",
      "[ 44 124]\n",
      "786\n",
      "[192 232]\n",
      "787\n",
      "[192 232]\n",
      "788\n",
      "[192 232]\n",
      "789\n",
      "[192 232]\n",
      "830\n",
      "[372]\n",
      "831\n",
      "[372]\n",
      "832\n",
      "[372]\n",
      "833\n",
      "[372]\n",
      "838\n",
      "[ 96 168]\n",
      "839\n",
      "[ 96 168]\n",
      "840\n",
      "[ 96 168]\n",
      "841\n",
      "[ 96 168]\n",
      "858\n",
      "[28]\n",
      "859\n",
      "[28]\n",
      "860\n",
      "[28]\n",
      "861\n",
      "[28]\n",
      "886\n",
      "[ 40  80 120 160 200 240]\n",
      "887\n",
      "[ 40  80 120 160 200 240]\n",
      "888\n",
      "[ 40  80 120 160 200 240]\n",
      "889\n",
      "[ 40  80 120 160 200 240]\n",
      "890\n",
      "[44 92]\n",
      "891\n",
      "[44 92]\n",
      "892\n",
      "[44 92]\n",
      "893\n",
      "[44 92]\n",
      "910\n",
      "[ 76 124]\n",
      "911\n",
      "[ 76 124]\n",
      "912\n",
      "[ 76 124]\n",
      "913\n",
      "[ 76 124]\n",
      "962\n",
      "[188]\n",
      "963\n",
      "[188]\n",
      "964\n",
      "[188]\n",
      "981\n",
      "[ 40  72 104]\n",
      "982\n",
      "[ 40  72 104]\n",
      "983\n",
      "[ 40  72 104]\n",
      "984\n",
      "[ 40  72 104]\n",
      "985\n",
      "[136]\n",
      "986\n",
      "[136]\n",
      "987\n",
      "[136]\n",
      "988\n",
      "[136]\n",
      "999\n",
      "[288]\n",
      "1001\n",
      "[88]\n",
      "1002\n",
      "[88]\n",
      "1003\n",
      "[88]\n",
      "1004\n",
      "[88]\n",
      "1013\n",
      "[456]\n",
      "1014\n",
      "[456]\n",
      "1015\n",
      "[456]\n",
      "1016\n",
      "[456]\n",
      "1025\n",
      "[ 28  92 180 236 268]\n",
      "1026\n",
      "[ 28  92 180 236 268]\n",
      "1027\n",
      "[ 28  92 180 236 268]\n",
      "1028\n",
      "[ 28  92 180 236 268]\n",
      "1039\n",
      "[ 28  60  92 124 156 220]\n",
      "1040\n",
      "[ 28  60  92 124 156 220]\n",
      "1041\n",
      "[ 28  60  92 124 156 220]\n",
      "1042\n",
      "[ 28  60  92 124 156 220]\n",
      "1063\n",
      "[160 200 280 312 472]\n",
      "1064\n",
      "[160 200 280 312 472]\n",
      "1065\n",
      "[160 200 280 312 472]\n",
      "1066\n",
      "[160 200 280 312 472]\n",
      "1067\n",
      "[120]\n",
      "1068\n",
      "[120]\n",
      "1069\n",
      "[120]\n",
      "1070\n",
      "[120]\n",
      "1079\n",
      "[ 28  92 156 188 220]\n",
      "1080\n",
      "[ 28  92 156 188 220]\n",
      "1081\n",
      "[ 28  92 156 188 220]\n",
      "1082\n",
      "[ 28  92 156 188 220]\n",
      "1095\n",
      "[88]\n",
      "1096\n",
      "[88]\n",
      "1097\n",
      "[88]\n",
      "1098\n",
      "[88]\n",
      "1107\n",
      "[92]\n",
      "1108\n",
      "[92]\n",
      "1109\n",
      "[92]\n",
      "1110\n",
      "[92]\n",
      "1119\n",
      "[ 24  88 152 184 216]\n",
      "1120\n",
      "[ 24  88 152 184 216]\n",
      "1121\n",
      "[ 24  88 152 184 216]\n",
      "1122\n",
      "[ 24  88 152 184 216]\n",
      "1123\n",
      "[60]\n",
      "1124\n",
      "[60]\n",
      "1125\n",
      "[60]\n",
      "1126\n",
      "[60]\n",
      "1131\n",
      "[128]\n",
      "1132\n",
      "[128]\n",
      "1133\n",
      "[128]\n",
      "1134\n",
      "[128]\n",
      "1163\n",
      "[96]\n",
      "1164\n",
      "[96]\n",
      "1165\n",
      "[96]\n",
      "1166\n",
      "[96]\n",
      "1171\n",
      "[ 16  64 112 160]\n",
      "1172\n",
      "[ 16  64 112 160]\n",
      "1173\n",
      "[ 16  64 112 160]\n",
      "1174\n",
      "[ 16  64 112 160]\n",
      "1183\n",
      "[ 40  88 136]\n",
      "1184\n",
      "[ 40  88 136]\n",
      "1185\n",
      "[ 40  88 136]\n",
      "1186\n",
      "[ 40  88 136]\n",
      "1232\n",
      "[ 48  96 120 144]\n",
      "1233\n",
      "[ 48  96 120 144]\n",
      "1234\n",
      "[ 48  96 120 144]\n",
      "1235\n",
      "[ 48  96 120 144]\n",
      "1244\n",
      "[ 28  60  92 156]\n",
      "1245\n",
      "[ 28  60  92 156]\n",
      "1246\n",
      "[ 28  60  92 156]\n",
      "1247\n",
      "[ 28  60  92 156]\n",
      "1248\n",
      "[40 88]\n",
      "1249\n",
      "[40 88]\n",
      "1250\n",
      "[40 88]\n",
      "1251\n",
      "[40 88]\n",
      "1252\n",
      "[ 92 140 188 220 300 332]\n",
      "1253\n",
      "[ 92 140 188 220 300 332]\n",
      "1254\n",
      "[ 92 140 188 220 300 332]\n",
      "1255\n",
      "[ 92 140 188 220 300 332]\n",
      "1275\n",
      "[ 24  48 128 152 176 256 280 304 344 368 392]\n",
      "1276\n",
      "[ 24  48 128 152 176 256 280 304 344 368 392]\n",
      "1277\n",
      "[ 24  48 128 152 176 256 280 304 344 368 392]\n",
      "1278\n",
      "[ 24  48 128 152 176 256 280 304 344 368 392]\n",
      "1287\n",
      "[192]\n",
      "1288\n",
      "[192]\n",
      "1289\n",
      "[192]\n",
      "1290\n",
      "[192]\n",
      "1299\n",
      "[ 28  92 156 188 220]\n",
      "1300\n",
      "[ 28  92 156 188 220]\n",
      "1301\n",
      "[ 28  92 156 188 220]\n",
      "1302\n",
      "[ 28  92 156 188 220]\n",
      "1303\n",
      "[88]\n",
      "1304\n",
      "[88]\n",
      "1305\n",
      "[88]\n",
      "1306\n",
      "[88]\n",
      "1307\n",
      "[24 56 88]\n",
      "1308\n",
      "[24 56 88]\n",
      "1309\n",
      "[24 56 88]\n",
      "1310\n",
      "[24 56 88]\n",
      "1311\n",
      "[ 32  72 112]\n",
      "1312\n",
      "[ 32  72 112]\n",
      "1313\n",
      "[ 32  72 112]\n",
      "1314\n",
      "[ 32  72 112]\n",
      "1331\n",
      "[ 44  84 124 148 172]\n",
      "1332\n",
      "[ 44  84 124 148 172]\n",
      "1333\n",
      "[ 44  84 124 148 172]\n",
      "1334\n",
      "[ 44  84 124 148 172]\n",
      "1335\n",
      "[ 44  84 124 148 172]\n",
      "1336\n",
      "[ 44  84 124 148 172]\n",
      "1337\n",
      "[ 48  96 144]\n",
      "1338\n",
      "[ 48  96 144]\n",
      "1339\n",
      "[ 48  96 144]\n",
      "1340\n",
      "[ 48  96 144]\n",
      "1341\n",
      "[140 176]\n",
      "1342\n",
      "[140 176]\n",
      "1343\n",
      "[140 176]\n",
      "1344\n",
      "[140 176]\n",
      "1349\n",
      "[ 24 112 144 176 224 272 296]\n",
      "1350\n",
      "[ 24 112 144 176 224 272 296]\n",
      "1351\n",
      "[ 24 112 144 176 224 272 296]\n",
      "1352\n",
      "[ 24 112 144 176 224 272 296]\n",
      "1353\n",
      "[ 84 228 324]\n",
      "1354\n",
      "[ 84 228 324]\n",
      "1355\n",
      "[ 84 228 324]\n",
      "1356\n",
      "[ 84 228 324]\n",
      "1357\n",
      "[ 84 228 324]\n",
      "1358\n",
      "[ 84 228 324]\n",
      "1359\n",
      "[ 84 228 324]\n",
      "1372\n",
      "[56]\n",
      "1373\n",
      "[56]\n",
      "1374\n",
      "[56]\n",
      "1375\n",
      "[56]\n",
      "1397\n",
      "[ 40 136]\n",
      "1398\n",
      "[ 40 136]\n",
      "1399\n",
      "[ 40 136]\n",
      "1400\n",
      "[ 40 136]\n",
      "1401\n",
      "[108]\n",
      "1402\n",
      "[108]\n",
      "1403\n",
      "[ 76 108]\n",
      "1423\n",
      "[ 32 112 192]\n",
      "1424\n",
      "[ 32 112 192]\n",
      "1425\n",
      "[ 32 112 192]\n",
      "1426\n",
      "[ 32 112 192]\n",
      "1441\n",
      "[ 40  80 120 160 192 264]\n",
      "1442\n",
      "[ 40  80 120 160 192 220]\n",
      "1443\n",
      "[  4  12  20  28  36  44  52  60  68  76  84  92 100 108 116 124 132 140\n",
      " 148 156 164 172 180 188 196 204 228 236 244 252 260 268 276 284 292 300\n",
      " 308 316 324 332 340 348 356 364 372 380 388 396 404 412 420 428 452 460\n",
      " 468 476 484 492 500 508]\n",
      "1444\n",
      "[136 360]\n",
      "1445\n",
      "[136 360]\n",
      "1446\n",
      "[120 132 140 148]\n",
      "1451\n",
      "[ 40 120]\n",
      "1452\n",
      "[ 40 120]\n",
      "1453\n",
      "[ 40 120]\n",
      "1454\n",
      "[ 40 120]\n",
      "1485\n",
      "[ 36 116 196]\n",
      "1486\n",
      "[ 36 116 196]\n",
      "1487\n",
      "[ 36 116 196]\n",
      "1488\n",
      "[ 36 116 196]\n"
     ]
    }
   ],
   "source": [
    "i=0\n",
    "for p in data:\n",
    "    i+=1\n",
    "    if np.where(p==1)[0].shape[0]!=0:\n",
    "        print(i)\n",
    "        print(np.where(p==1)[0])"
   ]
  },
  {
   "cell_type": "code",
   "execution_count": 30,
   "metadata": {
    "collapsed": false
   },
   "outputs": [
    {
     "data": {
      "text/plain": [
       "array([19,  0, 18,  0, 19,  0,  0,  0, 19,  0,  0,  0, 19,  0, 18, 16, 18,\n",
       "        0,  0,  0, 19,  0,  0,  0,  0,  0,  0,  0,  1,  0,  0,  0, 23,  0,\n",
       "        0,  0, 25,  0,  0,  0, 27,  0,  0,  0, 28,  0,  0,  0, 25,  0,  0,\n",
       "        0, 23,  0,  0,  0,  0,  0, 21,  0, 19,  0,  0,  0, 19,  0, 18,  0,\n",
       "       19,  0,  0,  0, 19,  0,  0,  0, 19,  0, 18, 16, 18,  0,  0,  0, 19,\n",
       "        0,  0,  0,  0,  0,  0,  0,  1,  0,  0,  0, 23,  0,  0,  0, 25,  0,\n",
       "        0,  0, 27,  0,  0,  0, 28,  0,  0,  0, 25,  0,  0,  0, 23,  0,  0,\n",
       "        0,  0,  0, 21,  0, 19,  0,  0,  0, 21,  0,  0,  0, 21,  0,  0,  0,\n",
       "       23,  0,  0,  0, 23,  0, 19,  0, 21,  0,  0,  0, 21,  0,  0,  0,  0,\n",
       "        0,  0,  0,  0,  0,  0,  0, 21,  0,  0,  0, 21,  0, 23,  0, 25,  0,\n",
       "        0,  0, 26,  0,  0,  0, 21,  0,  0,  0, 21,  0,  0,  0,  0,  0,  0,\n",
       "        0,  0,  0,  0,  0, 21,  0,  0,  0, 23,  0,  0,  0, 24,  0, 23,  0,\n",
       "       21,  0,  0,  0, 21,  0,  0,  0, 19,  0,  0,  0,  0,  0,  0,  0,  1,\n",
       "        0,  0,  0, 19,  0,  0,  0, 19,  0,  0,  0, 21,  0,  0,  0, 21,  0,\n",
       "       23,  0, 24,  0,  0], dtype=int64)"
      ]
     },
     "execution_count": 30,
     "metadata": {},
     "output_type": "execute_result"
    }
   ],
   "source": [
    "data[107]"
   ]
  },
  {
   "cell_type": "code",
   "execution_count": 33,
   "metadata": {
    "collapsed": true
   },
   "outputs": [],
   "source": [
    "def event2note(seq):\n",
    "    length=len(seq)\n",
    "    for i in range(length):\n",
    "        note=seq[i]\n",
    "        if note==1:\n",
    "            seq[i]=0\n",
    "        for j in range(i+1,length):\n",
    "            if seq[j]==0:\n",
    "                if note==1:\n",
    "                    pass\n",
    "                else:\n",
    "                    seq[j]=note\n",
    "            else:\n",
    "                break\n",
    "    return seq"
   ]
  },
  {
   "cell_type": "code",
   "execution_count": 42,
   "metadata": {
    "collapsed": true
   },
   "outputs": [],
   "source": [
    "def event2note(seq):\n",
    "    length=len(seq)\n",
    "    for i in range(length):\n",
    "        note=seq[i]\n",
    "        for j in range(i+1,length):\n",
    "            if seq[j]==0:\n",
    "                seq[j]=note\n",
    "            else:\n",
    "                break\n",
    "    return seq"
   ]
  },
  {
   "cell_type": "code",
   "execution_count": 46,
   "metadata": {
    "collapsed": false
   },
   "outputs": [
    {
     "data": {
      "text/plain": [
       "array([19,  0, 18,  0, 19,  0,  0,  0, 19,  0,  0,  0, 19,  0, 18, 16, 18,\n",
       "        0,  0,  0, 19,  0,  0,  0,  0,  0,  0,  0,  1,  0,  0,  0, 23,  0,\n",
       "        0,  0, 25,  0,  0,  0, 27,  0,  0,  0, 28,  0,  0,  0, 25,  0,  0,\n",
       "        0, 23,  0,  0,  0,  0,  0, 21,  0, 19,  0,  0,  0, 19,  0, 18,  0,\n",
       "       19,  0,  0,  0, 19,  0,  0,  0, 19,  0, 18, 16, 18,  0,  0,  0, 19,\n",
       "        0,  0,  0,  0,  0,  0,  0,  1,  0,  0,  0, 23,  0,  0,  0, 25,  0,\n",
       "        0,  0, 27,  0,  0,  0, 28,  0,  0,  0, 25,  0,  0,  0, 23,  0,  0,\n",
       "        0,  0,  0, 21,  0, 19,  0,  0,  0, 21,  0,  0,  0, 21,  0,  0,  0,\n",
       "       23,  0,  0,  0, 23,  0, 19,  0, 21,  0,  0,  0, 21,  0,  0,  0,  0,\n",
       "        0,  0,  0,  0,  0,  0,  0, 21,  0,  0,  0, 21,  0, 23,  0, 25,  0,\n",
       "        0,  0, 26,  0,  0,  0, 21,  0,  0,  0, 21,  0,  0,  0,  0,  0,  0,\n",
       "        0,  0,  0,  0,  0, 21,  0,  0,  0, 23,  0,  0,  0, 24,  0, 23,  0,\n",
       "       21,  0,  0,  0, 21,  0,  0,  0, 19,  0,  0,  0,  0,  0,  0,  0,  1,\n",
       "        0,  0,  0, 19,  0,  0,  0, 19,  0,  0,  0, 21,  0,  0,  0, 21,  0,\n",
       "       23,  0, 24,  0,  0], dtype=int64)"
      ]
     },
     "execution_count": 46,
     "metadata": {},
     "output_type": "execute_result"
    }
   ],
   "source": [
    "data[107]"
   ]
  },
  {
   "cell_type": "code",
   "execution_count": 47,
   "metadata": {
    "collapsed": false
   },
   "outputs": [
    {
     "data": {
      "text/plain": [
       "array([19, 19, 18, 18, 19, 19, 19, 19, 19, 19, 19, 19, 19, 19, 18, 16, 18,\n",
       "       18, 18, 18, 19, 19, 19, 19, 19, 19, 19, 19,  1,  1,  1,  1, 23, 23,\n",
       "       23, 23, 25, 25, 25, 25, 27, 27, 27, 27, 28, 28, 28, 28, 25, 25, 25,\n",
       "       25, 23, 23, 23, 23, 23, 23, 21, 21, 19, 19, 19, 19, 19, 19, 18, 18,\n",
       "       19, 19, 19, 19, 19, 19, 19, 19, 19, 19, 18, 16, 18, 18, 18, 18, 19,\n",
       "       19, 19, 19, 19, 19, 19, 19,  1,  1,  1,  1, 23, 23, 23, 23, 25, 25,\n",
       "       25, 25, 27, 27, 27, 27, 28, 28, 28, 28, 25, 25, 25, 25, 23, 23, 23,\n",
       "       23, 23, 23, 21, 21, 19, 19, 19, 19, 21, 21, 21, 21, 21, 21, 21, 21,\n",
       "       23, 23, 23, 23, 23, 23, 19, 19, 21, 21, 21, 21, 21, 21, 21, 21, 21,\n",
       "       21, 21, 21, 21, 21, 21, 21, 21, 21, 21, 21, 21, 21, 23, 23, 25, 25,\n",
       "       25, 25, 26, 26, 26, 26, 21, 21, 21, 21, 21, 21, 21, 21, 21, 21, 21,\n",
       "       21, 21, 21, 21, 21, 21, 21, 21, 21, 23, 23, 23, 23, 24, 24, 23, 23,\n",
       "       21, 21, 21, 21, 21, 21, 21, 21, 19, 19, 19, 19, 19, 19, 19, 19,  1,\n",
       "        1,  1,  1, 19, 19, 19, 19, 19, 19, 19, 19, 21, 21, 21, 21, 21, 21,\n",
       "       23, 23, 24, 24, 24], dtype=int64)"
      ]
     },
     "execution_count": 47,
     "metadata": {},
     "output_type": "execute_result"
    }
   ],
   "source": [
    "event2note(data[107])"
   ]
  },
  {
   "cell_type": "code",
   "execution_count": 48,
   "metadata": {
    "collapsed": false
   },
   "outputs": [],
   "source": [
    "data=np.load('bach_g64.npy')\n",
    "notes=[]\n",
    "for seq in data:\n",
    "    notes.append(event2note(seq))"
   ]
  },
  {
   "cell_type": "code",
   "execution_count": 49,
   "metadata": {
    "collapsed": false
   },
   "outputs": [
    {
     "data": {
      "text/plain": [
       "1513"
      ]
     },
     "execution_count": 49,
     "metadata": {},
     "output_type": "execute_result"
    }
   ],
   "source": [
    "len(notes)"
   ]
  },
  {
   "cell_type": "code",
   "execution_count": 50,
   "metadata": {
    "collapsed": false
   },
   "outputs": [
    {
     "data": {
      "text/plain": [
       "array([19, 19, 18, 18, 19, 19, 19, 19, 19, 19, 19, 19, 19, 19, 18, 16, 18,\n",
       "       18, 18, 18, 19, 19, 19, 19, 19, 19, 19, 19,  1,  1,  1,  1, 23, 23,\n",
       "       23, 23, 25, 25, 25, 25, 27, 27, 27, 27, 28, 28, 28, 28, 25, 25, 25,\n",
       "       25, 23, 23, 23, 23, 23, 23, 21, 21, 19, 19, 19, 19, 19, 19, 18, 18,\n",
       "       19, 19, 19, 19, 19, 19, 19, 19, 19, 19, 18, 16, 18, 18, 18, 18, 19,\n",
       "       19, 19, 19, 19, 19, 19, 19,  1,  1,  1,  1, 23, 23, 23, 23, 25, 25,\n",
       "       25, 25, 27, 27, 27, 27, 28, 28, 28, 28, 25, 25, 25, 25, 23, 23, 23,\n",
       "       23, 23, 23, 21, 21, 19, 19, 19, 19, 21, 21, 21, 21, 21, 21, 21, 21,\n",
       "       23, 23, 23, 23, 23, 23, 19, 19, 21, 21, 21, 21, 21, 21, 21, 21, 21,\n",
       "       21, 21, 21, 21, 21, 21, 21, 21, 21, 21, 21, 21, 21, 23, 23, 25, 25,\n",
       "       25, 25, 26, 26, 26, 26, 21, 21, 21, 21, 21, 21, 21, 21, 21, 21, 21,\n",
       "       21, 21, 21, 21, 21, 21, 21, 21, 21, 23, 23, 23, 23, 24, 24, 23, 23,\n",
       "       21, 21, 21, 21, 21, 21, 21, 21, 19, 19, 19, 19, 19, 19, 19, 19,  1,\n",
       "        1,  1,  1, 19, 19, 19, 19, 19, 19, 19, 19, 21, 21, 21, 21, 21, 21,\n",
       "       23, 23, 24, 24, 24], dtype=int64)"
      ]
     },
     "execution_count": 50,
     "metadata": {},
     "output_type": "execute_result"
    }
   ],
   "source": [
    "notes[107]"
   ]
  },
  {
   "cell_type": "code",
   "execution_count": 51,
   "metadata": {
    "collapsed": true
   },
   "outputs": [],
   "source": [
    "np.save('bach_g64_notes.npy',notes)"
   ]
  },
  {
   "cell_type": "code",
   "execution_count": 52,
   "metadata": {
    "collapsed": true
   },
   "outputs": [],
   "source": [
    "data=np.load('jazz_g64.npy')\n",
    "notes=[]\n",
    "for seq in data:\n",
    "    notes.append(event2note(seq))"
   ]
  },
  {
   "cell_type": "code",
   "execution_count": 53,
   "metadata": {
    "collapsed": true
   },
   "outputs": [],
   "source": [
    "np.save('jazz_g64_notes.npy',notes)"
   ]
  },
  {
   "cell_type": "code",
   "execution_count": null,
   "metadata": {
    "collapsed": true
   },
   "outputs": [],
   "source": []
  },
  {
   "cell_type": "code",
   "execution_count": null,
   "metadata": {
    "collapsed": true
   },
   "outputs": [],
   "source": []
  },
  {
   "cell_type": "code",
   "execution_count": null,
   "metadata": {
    "collapsed": true
   },
   "outputs": [],
   "source": []
  },
  {
   "cell_type": "code",
   "execution_count": 3,
   "metadata": {
    "collapsed": false
   },
   "outputs": [],
   "source": [
    "data_jazz=np.load('jazz_g64.npy')\n",
    "data_bach=np.load('bach_g64.npy')"
   ]
  },
  {
   "cell_type": "code",
   "execution_count": 4,
   "metadata": {
    "collapsed": true
   },
   "outputs": [],
   "source": [
    "def corr_two_seq(seq1,seq2,gate_size):\n",
    "    corr=[]\n",
    "    for m in range(len(seq1)-gate_size):\n",
    "        seqa=seq1[m:m+gate_size]\n",
    "        corr.append(np.correlate(seqa,seq2))\n",
    "    return corr\n",
    "\n",
    "def mean_corr_normalize(corr):\n",
    "    means=[]\n",
    "    for pieces in corr:\n",
    "        pieces=pieces/np.max(pieces)\n",
    "        means.append(np.mean(pieces))\n",
    "    return np.mean(np.array(means))\n",
    "\n",
    "def combine(seq1,seq2,gate_size):\n",
    "    corr=corr_two_seq(seq1,seq2,gate_size)\n",
    "    return mean_corr_normalize(corr)\n",
    "\n",
    "def cor_score(data_1,data_2,num):\n",
    "    i=0\n",
    "    s=0\n",
    "    for piece1 in data_1:\n",
    "        for piece2 in data_2:\n",
    "            s+=combine(piece1,piece2,64)\n",
    "            i+=1\n",
    "    s=s/i\n",
    "    global FINISH_FLAG\n",
    "    FINISH_FLAG[num]=1\n",
    "    global SCORE_LIST\n",
    "    SCORE_LIST[num]=s\n",
    "    \n",
    "def elapsed(sec):\n",
    "    if sec<60:\n",
    "        return str(sec) + \" sec\"\n",
    "    elif sec<(60*60):\n",
    "        return str(sec/60) + \" min\"\n",
    "    else:\n",
    "        return str(sec/(60*60)) + \" hr\"\n"
   ]
  },
  {
   "cell_type": "code",
   "execution_count": 96,
   "metadata": {
    "collapsed": false
   },
   "outputs": [
    {
     "data": {
      "text/plain": [
       "'threading.start_new_thread( cor_score, (data_bach[400:500],data_jazz[400:500], 4) )\\nthreading.start_new_thread( cor_score, (data_bach[500:600],data_jazz[500:600], 5) )\\nthreading.start_new_thread( cor_score, (data_bach[600:700],data_jazz[600:700], 6) )\\nthreading.start_new_thread( cor_score, (data_bach[700:800],data_jazz[700:800], 7) )'"
      ]
     },
     "execution_count": 96,
     "metadata": {},
     "output_type": "execute_result"
    }
   ],
   "source": [
    "import threading\n",
    "threads = []\n",
    "threads.append(threading.Thread( target=cor_score, args=(data_bach[0:100],data_jazz[0:100], 0) ))\n",
    "threads.append(threading.Thread( target=cor_score, args=(data_bach[100:200],data_jazz[100:200], 1) ))\n",
    "threads.append(threading.Thread( target=cor_score, args=(data_bach[200:300],data_jazz[200:300], 2) ))\n",
    "threads.append(threading.Thread( target=cor_score, args=(data_bach[300:400],data_jazz[300:400], 3) ))\n",
    "\n",
    "'''threading.start_new_thread( cor_score, (data_bach[400:500],data_jazz[400:500], 4) )\n",
    "threading.start_new_thread( cor_score, (data_bach[500:600],data_jazz[500:600], 5) )\n",
    "threading.start_new_thread( cor_score, (data_bach[600:700],data_jazz[600:700], 6) )\n",
    "threading.start_new_thread( cor_score, (data_bach[700:800],data_jazz[700:800], 7) )'''"
   ]
  },
  {
   "cell_type": "code",
   "execution_count": 97,
   "metadata": {
    "collapsed": true
   },
   "outputs": [],
   "source": [
    "for t in threads:\n",
    "    t.setDaemon(True)\n",
    "    t.start()"
   ]
  },
  {
   "cell_type": "code",
   "execution_count": 6,
   "metadata": {
    "collapsed": true
   },
   "outputs": [],
   "source": [
    "def multi_corr(func,arg1,arg2,data_span,thread_amount):\n",
    "    threads = []\n",
    "    n=0\n",
    "    for i in range(thread_amount):\n",
    "        threads.append(threading.Thread( target=func, args=(arg1[n:n+data_span],arg2[n:n+data_span], i) ))\n",
    "        n+=data_span\n",
    "    return threads"
   ]
  },
  {
   "cell_type": "code",
   "execution_count": 5,
   "metadata": {
    "collapsed": false
   },
   "outputs": [],
   "source": [
    "SCORE_LIST=[0,0,0,0,0,0,0,0]\n",
    "FINISH_FLAG=[0,0,0,0,0,0,0,0]"
   ]
  },
  {
   "cell_type": "code",
   "execution_count": 5,
   "metadata": {
    "collapsed": false
   },
   "outputs": [
    {
     "ename": "NameError",
     "evalue": "name 'multi_corr' is not defined",
     "output_type": "error",
     "traceback": [
      "\u001b[1;31m---------------------------------------------------------------------------\u001b[0m",
      "\u001b[1;31mNameError\u001b[0m                                 Traceback (most recent call last)",
      "\u001b[1;32m<ipython-input-5-f896e8c42f4a>\u001b[0m in \u001b[0;36m<module>\u001b[1;34m()\u001b[0m\n\u001b[0;32m      1\u001b[0m \u001b[1;32mimport\u001b[0m \u001b[0mthreading\u001b[0m\u001b[1;33m\u001b[0m\u001b[0m\n\u001b[1;32m----> 2\u001b[1;33m \u001b[0mthreads\u001b[0m\u001b[1;33m=\u001b[0m\u001b[0mmulti_corr\u001b[0m\u001b[1;33m(\u001b[0m\u001b[0mcor_score\u001b[0m\u001b[1;33m,\u001b[0m\u001b[0mdata_bach\u001b[0m\u001b[1;33m,\u001b[0m\u001b[0mdata_jazz\u001b[0m\u001b[1;33m,\u001b[0m\u001b[1;36m50\u001b[0m\u001b[1;33m,\u001b[0m\u001b[1;36m8\u001b[0m\u001b[1;33m)\u001b[0m\u001b[1;33m\u001b[0m\u001b[0m\n\u001b[0m",
      "\u001b[1;31mNameError\u001b[0m: name 'multi_corr' is not defined"
     ]
    }
   ],
   "source": [
    "import threading\n",
    "threads=multi_corr(cor_score,data_bach,data_jazz,50,8)"
   ]
  },
  {
   "cell_type": "code",
   "execution_count": 7,
   "metadata": {
    "collapsed": false
   },
   "outputs": [],
   "source": [
    "for t in threads:\n",
    "    t.setDaemon(True)\n",
    "    t.start()"
   ]
  },
  {
   "cell_type": "code",
   "execution_count": 9,
   "metadata": {
    "collapsed": false
   },
   "outputs": [
    {
     "data": {
      "text/plain": [
       "[1, 1, 1, 1, 1, 1, 1, 1]"
      ]
     },
     "execution_count": 9,
     "metadata": {},
     "output_type": "execute_result"
    }
   ],
   "source": [
    "FINISH_FLAG"
   ]
  },
  {
   "cell_type": "code",
   "execution_count": 10,
   "metadata": {
    "collapsed": false
   },
   "outputs": [
    {
     "data": {
      "text/plain": [
       "[0.34164258798311564,\n",
       " 0.3260805434345181,\n",
       " 0.32989184315107317,\n",
       " 0.3574394181833532,\n",
       " 0.4215894644637651,\n",
       " 0.37050554584234824,\n",
       " 0.3953366866628322,\n",
       " 0.33817291490585155]"
      ]
     },
     "execution_count": 10,
     "metadata": {},
     "output_type": "execute_result"
    }
   ],
   "source": [
    "SCORE_LIST"
   ]
  },
  {
   "cell_type": "code",
   "execution_count": 11,
   "metadata": {
    "collapsed": false
   },
   "outputs": [
    {
     "data": {
      "text/plain": [
       "0.36008237557835715"
      ]
     },
     "execution_count": 11,
     "metadata": {},
     "output_type": "execute_result"
    }
   ],
   "source": [
    "np.mean(SCORE_LIST)"
   ]
  },
  {
   "cell_type": "code",
   "execution_count": 7,
   "metadata": {
    "collapsed": true
   },
   "outputs": [],
   "source": [
    "num_threads=16"
   ]
  },
  {
   "cell_type": "code",
   "execution_count": 8,
   "metadata": {
    "collapsed": true
   },
   "outputs": [],
   "source": [
    "SCORE_LIST=np.zeros((num_threads))\n",
    "FINISH_FLAG=np.zeros((num_threads))\n",
    "threads=multi_corr(cor_score,data_bach,data_bach,50,num_threads)\n",
    "for t in threads:\n",
    "    t.setDaemon(True)\n",
    "    t.start()\n"
   ]
  },
  {
   "cell_type": "code",
   "execution_count": 44,
   "metadata": {
    "collapsed": false
   },
   "outputs": [
    {
     "data": {
      "text/plain": [
       "[0, 0, 0, 0, 0, 0, 0, 0]"
      ]
     },
     "execution_count": 44,
     "metadata": {},
     "output_type": "execute_result"
    }
   ],
   "source": [
    "start_time=time.time()\n",
    "while np.sum(FINISH_FLAG)!=len(FINISH_FLAG):\n",
    "    if np.sum(FINISH_FLAG)==len(FINISH_FLAG):\n",
    "        print(elapsed(start_time-time.time()))\n",
    "        break\n",
    "print(SCORE_LIST)\n",
    "print(np.mean(SCORE_LIST))"
   ]
  },
  {
   "cell_type": "code",
   "execution_count": 22,
   "metadata": {
    "collapsed": false
   },
   "outputs": [
    {
     "data": {
      "text/plain": [
       "[0.30348737709510654,\n",
       " 0.2718525490271977,\n",
       " 0.27429218414472095,\n",
       " 0.29031867201933853,\n",
       " 0.28695039771483577,\n",
       " 0.2956518162535046,\n",
       " 0.284025792701097,\n",
       " 0.3132552075017872]"
      ]
     },
     "execution_count": 22,
     "metadata": {},
     "output_type": "execute_result"
    }
   ],
   "source": [
    "print(SCORE_LIST)"
   ]
  },
  {
   "cell_type": "code",
   "execution_count": 23,
   "metadata": {
    "collapsed": false
   },
   "outputs": [
    {
     "data": {
      "text/plain": [
       "0.28997924955719856"
      ]
     },
     "execution_count": 23,
     "metadata": {},
     "output_type": "execute_result"
    }
   ],
   "source": [
    "print(np.mean(SCORE_LIST))"
   ]
  },
  {
   "cell_type": "code",
   "execution_count": null,
   "metadata": {
    "collapsed": true
   },
   "outputs": [],
   "source": []
  },
  {
   "cell_type": "code",
   "execution_count": 24,
   "metadata": {
    "collapsed": true
   },
   "outputs": [],
   "source": [
    "import threading\n",
    "threads = []\n",
    "threads.append(threading.Thread( target=cor_score, args=(data_bach[0:100],data_jazz[0:100], 0) ))\n",
    "threads.append(threading.Thread( target=cor_score, args=(data_bach[100:200],data_jazz[100:200], 1) ))\n",
    "threads.append(threading.Thread( target=cor_score, args=(data_bach[200:300],data_jazz[200:300], 2) ))\n",
    "threads.append(threading.Thread( target=cor_score, args=(data_bach[300:400],data_jazz[300:400], 3) ))\n",
    "\n",
    "'''threading.start_new_thread( cor_score, (data_bach[400:500],data_jazz[400:500], 4) )\n",
    "threading.start_new_thread( cor_score, (data_bach[500:600],data_jazz[500:600], 5) )\n",
    "threading.start_new_thread( cor_score, (data_bach[600:700],data_jazz[600:700], 6) )\n",
    "threading.start_new_thread( cor_score, (data_bach[700:800],data_jazz[700:800], 7) )'''\n",
    "for t in threads:\n",
    "    t.setDaemon(True)\n",
    "    t.start()"
   ]
  },
  {
   "cell_type": "code",
   "execution_count": 40,
   "metadata": {
    "collapsed": false
   },
   "outputs": [
    {
     "data": {
      "text/plain": [
       "[1, 1, 1, 1, 0, 0, 0, 0]"
      ]
     },
     "execution_count": 40,
     "metadata": {},
     "output_type": "execute_result"
    }
   ],
   "source": [
    "FINISH_FLAG"
   ]
  },
  {
   "cell_type": "code",
   "execution_count": 41,
   "metadata": {
    "collapsed": false
   },
   "outputs": [
    {
     "data": {
      "text/plain": [
       "[0.33305201756063896,\n",
       " 0.34395482147540135,\n",
       " 0.3966760572123562,\n",
       " 0.36656540758460987,\n",
       " 0.28695039771483577,\n",
       " 0.2956518162535046,\n",
       " 0.284025792701097,\n",
       " 0.3132552075017872]"
      ]
     },
     "execution_count": 41,
     "metadata": {},
     "output_type": "execute_result"
    }
   ],
   "source": [
    "SCORE_LIST"
   ]
  },
  {
   "cell_type": "code",
   "execution_count": 42,
   "metadata": {
    "collapsed": false
   },
   "outputs": [
    {
     "data": {
      "text/plain": [
       "0.3600620759582516"
      ]
     },
     "execution_count": 42,
     "metadata": {},
     "output_type": "execute_result"
    }
   ],
   "source": [
    "np.mean(SCORE_LIST[:4])"
   ]
  },
  {
   "cell_type": "code",
   "execution_count": null,
   "metadata": {
    "collapsed": true
   },
   "outputs": [],
   "source": []
  }
 ],
 "metadata": {
  "kernelspec": {
   "display_name": "Python [conda env:tensorflow]",
   "language": "python",
   "name": "conda-env-tensorflow-py"
  },
  "language_info": {
   "codemirror_mode": {
    "name": "ipython",
    "version": 3
   },
   "file_extension": ".py",
   "mimetype": "text/x-python",
   "name": "python",
   "nbconvert_exporter": "python",
   "pygments_lexer": "ipython3",
   "version": "3.5.4"
  }
 },
 "nbformat": 4,
 "nbformat_minor": 1
}
