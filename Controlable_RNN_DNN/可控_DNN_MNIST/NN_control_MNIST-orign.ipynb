{
 "cells": [
  {
   "cell_type": "code",
   "execution_count": 1,
   "metadata": {
    "collapsed": false
   },
   "outputs": [
    {
     "name": "stdout",
     "output_type": "stream",
     "text": [
      "WARNING:tensorflow:From D:\\Anaconda3\\envs\\tensorflow\\lib\\site-packages\\tensorflow\\contrib\\learn\\python\\learn\\datasets\\base.py:198: retry (from tensorflow.contrib.learn.python.learn.datasets.base) is deprecated and will be removed in a future version.\n",
      "Instructions for updating:\n",
      "Use the retry module or similar alternatives.\n"
     ]
    }
   ],
   "source": [
    "from tensorflow.examples.tutorials.mnist import input_data\n",
    "import tensorflow as tf\n",
    "import numpy as np\n",
    "import matplotlib.pyplot as plt\n",
    "import time"
   ]
  },
  {
   "cell_type": "code",
   "execution_count": 2,
   "metadata": {
    "collapsed": true
   },
   "outputs": [],
   "source": [
    "def elapsed(sec):\n",
    "    if sec < 60:\n",
    "        return \"{:.2f}\".format(sec) + \" sec\"\n",
    "    elif sec < (60 * 60):\n",
    "        return \"{:.2f}\".format(sec / 60) + \" min\"\n",
    "    else:\n",
    "        return \"{:.2f}\".format(sec / (60 * 60)) + \" hr\""
   ]
  },
  {
   "cell_type": "code",
   "execution_count": 3,
   "metadata": {
    "collapsed": true
   },
   "outputs": [],
   "source": [
    "def showimg(img):\n",
    "    plt.figure(\"Image\")\n",
    "    plt.imshow(img,cmap='gray')\n",
    "    plt.axis('on')\n",
    "    plt.title('image')\n",
    "    plt.show()"
   ]
  },
  {
   "cell_type": "code",
   "execution_count": 4,
   "metadata": {
    "collapsed": false
   },
   "outputs": [
    {
     "name": "stdout",
     "output_type": "stream",
     "text": [
      "WARNING:tensorflow:From <ipython-input-4-a839aeb82f4b>:1: read_data_sets (from tensorflow.contrib.learn.python.learn.datasets.mnist) is deprecated and will be removed in a future version.\n",
      "Instructions for updating:\n",
      "Please use alternatives such as official/mnist/dataset.py from tensorflow/models.\n",
      "WARNING:tensorflow:From D:\\Anaconda3\\envs\\tensorflow\\lib\\site-packages\\tensorflow\\contrib\\learn\\python\\learn\\datasets\\mnist.py:260: maybe_download (from tensorflow.contrib.learn.python.learn.datasets.base) is deprecated and will be removed in a future version.\n",
      "Instructions for updating:\n",
      "Please write your own downloading logic.\n",
      "WARNING:tensorflow:From D:\\Anaconda3\\envs\\tensorflow\\lib\\site-packages\\tensorflow\\contrib\\learn\\python\\learn\\datasets\\mnist.py:262: extract_images (from tensorflow.contrib.learn.python.learn.datasets.mnist) is deprecated and will be removed in a future version.\n",
      "Instructions for updating:\n",
      "Please use tf.data to implement this functionality.\n",
      "Extracting MNIST_data/train-images-idx3-ubyte.gz\n",
      "WARNING:tensorflow:From D:\\Anaconda3\\envs\\tensorflow\\lib\\site-packages\\tensorflow\\contrib\\learn\\python\\learn\\datasets\\mnist.py:267: extract_labels (from tensorflow.contrib.learn.python.learn.datasets.mnist) is deprecated and will be removed in a future version.\n",
      "Instructions for updating:\n",
      "Please use tf.data to implement this functionality.\n",
      "Extracting MNIST_data/train-labels-idx1-ubyte.gz\n",
      "WARNING:tensorflow:From D:\\Anaconda3\\envs\\tensorflow\\lib\\site-packages\\tensorflow\\contrib\\learn\\python\\learn\\datasets\\mnist.py:110: dense_to_one_hot (from tensorflow.contrib.learn.python.learn.datasets.mnist) is deprecated and will be removed in a future version.\n",
      "Instructions for updating:\n",
      "Please use tf.one_hot on tensors.\n",
      "Extracting MNIST_data/t10k-images-idx3-ubyte.gz\n",
      "Extracting MNIST_data/t10k-labels-idx1-ubyte.gz\n",
      "WARNING:tensorflow:From D:\\Anaconda3\\envs\\tensorflow\\lib\\site-packages\\tensorflow\\contrib\\learn\\python\\learn\\datasets\\mnist.py:290: DataSet.__init__ (from tensorflow.contrib.learn.python.learn.datasets.mnist) is deprecated and will be removed in a future version.\n",
      "Instructions for updating:\n",
      "Please use alternatives such as official/mnist/dataset.py from tensorflow/models.\n"
     ]
    }
   ],
   "source": [
    "mnist = input_data.read_data_sets(\"MNIST_data/\", one_hot=True)"
   ]
  },
  {
   "cell_type": "code",
   "execution_count": 5,
   "metadata": {
    "collapsed": false
   },
   "outputs": [],
   "source": [
    "HIDDEN_SIZE=128\n",
    "INPUT_SIZE=787\n",
    "INPUT_NUMBER=128\n",
    "LAYER_NUMBER=4"
   ]
  },
  {
   "cell_type": "code",
   "execution_count": 6,
   "metadata": {
    "collapsed": false
   },
   "outputs": [],
   "source": [
    "def make_layer(INPUT_SIZE,HIDDEN_SIZE,LAYER_NUMBER):\n",
    "    x = tf.placeholder(tf.float32, [None, INPUT_SIZE])\n",
    "    weights={'W0':tf.Variable(tf.truncated_normal([INPUT_SIZE, HIDDEN_SIZE], stddev=0.1))}\n",
    "    bias={'b0':tf.Variable(tf.constant(0.1, shape=[HIDDEN_SIZE]))}\n",
    "    a={'a0':tf.nn.tanh(tf.matmul(x, weights['W0']) + bias['b0'])}\n",
    "    for i in range(1,LAYER_NUMBER+1):\n",
    "        weights['W'+str(i)] = tf.Variable(tf.truncated_normal([HIDDEN_SIZE, HIDDEN_SIZE], stddev=0.1))\n",
    "        bias['b' + str(i)] = tf.Variable(tf.constant(0.1, shape=[HIDDEN_SIZE]))\n",
    "        a['a' + str(i)] = tf.nn.tanh(tf.matmul(a['a' + str(i-1)],weights['W'+str(i)]) + bias['b' + str(i)])\n",
    "    weights['W' + str(LAYER_NUMBER+1)] = tf.Variable(tf.truncated_normal([HIDDEN_SIZE, 784], stddev=0.1))\n",
    "    bias['b' + str(LAYER_NUMBER+1)] = tf.Variable(tf.constant(0.1, shape=[784]))\n",
    "    y = tf.nn.sigmoid(tf.matmul(a['a' + str(LAYER_NUMBER)],weights['W'+str(LAYER_NUMBER+1)])\n",
    "                      + bias['b' + str(LAYER_NUMBER+1)])\n",
    "    return x,y \n",
    "x,y=make_layer(INPUT_SIZE,HIDDEN_SIZE,LAYER_NUMBER)"
   ]
  },
  {
   "cell_type": "code",
   "execution_count": 7,
   "metadata": {
    "collapsed": false
   },
   "outputs": [],
   "source": [
    "def make_index(NUM,INPUT_SIZE):\n",
    "    l=np.array([])\n",
    "    for i in range(NUM):\n",
    "        p=np.zeros((INPUT_SIZE))\n",
    "        b=bin(i)[2:]\n",
    "        _=len(b)-1\n",
    "        for k in b:\n",
    "            p[_]=k\n",
    "            _-=1\n",
    "        l=np.append(l,p)\n",
    "    return l.reshape(-1,INPUT_SIZE)"
   ]
  },
  {
   "cell_type": "code",
   "execution_count": 8,
   "metadata": {
    "collapsed": true
   },
   "outputs": [],
   "source": [
    "global_step = tf.Variable(0)\n",
    "learning_rate = tf.train.exponential_decay(0.001,global_step,2000, 0.98, staircase=True) "
   ]
  },
  {
   "cell_type": "code",
   "execution_count": 9,
   "metadata": {
    "collapsed": false
   },
   "outputs": [],
   "source": [
    "labels=tf.placeholder(tf.float32, [None, 784])\n",
    "loss=tf.losses.mean_squared_error(labels,y)\n",
    "train_step = tf.train.AdamOptimizer(learning_rate=learning_rate).minimize(loss,global_step=global_step)\n",
    "sess = tf.InteractiveSession()\n",
    "tf.global_variables_initializer().run()"
   ]
  },
  {
   "cell_type": "code",
   "execution_count": 10,
   "metadata": {
    "collapsed": false
   },
   "outputs": [
    {
     "name": "stdout",
     "output_type": "stream",
     "text": [
      "(384, 787)\n",
      "(384, 784)\n"
     ]
    }
   ],
   "source": [
    "batch_xs, batch_ys = mnist.train.next_batch(INPUT_NUMBER)\n",
    "inp=[]\n",
    "tran=[]\n",
    "ind=np.zeros(3)\n",
    "for i in range(len(batch_xs)):\n",
    "    t_=batch_xs[i].reshape(28,28)\n",
    "    t_=t_.reshape(-1)\n",
    "    tran.append(t_)\n",
    "    z=ind\n",
    "    z[0]=1\n",
    "    inp_=np.append(batch_xs[i],z)\n",
    "    inp.append(inp_)\n",
    "for i in range(len(batch_xs)):\n",
    "    t_=batch_xs[i][::-1].reshape(28,28)\n",
    "    t_=t_.reshape(-1)\n",
    "    tran.append(t_)\n",
    "    z=ind\n",
    "    z[1]=1\n",
    "    inp_=np.append(batch_xs[i],z)\n",
    "    inp.append(inp_)\n",
    "for i in range(len(batch_xs)):\n",
    "    im=batch_xs[i].reshape(28,28)\n",
    "    im_=np.zeros((im.shape[1],im.shape[0]))\n",
    "    for j in range(im.shape[0]):\n",
    "        im_[:,-j]=im[j]\n",
    "    t_=im_\n",
    "    t_=t_.reshape(-1)\n",
    "    tran.append(t_)\n",
    "    z=ind\n",
    "    z[2]=1\n",
    "    inp_=np.append(batch_xs[i],z)\n",
    "    inp.append(inp_)\n",
    "inp=np.array(inp)\n",
    "tran=np.array(tran)\n",
    "print(inp.shape)\n",
    "print(tran.shape)\n"
   ]
  },
  {
   "cell_type": "code",
   "execution_count": 11,
   "metadata": {
    "collapsed": false,
    "scrolled": true
   },
   "outputs": [
    {
     "name": "stdout",
     "output_type": "stream",
     "text": [
      "0.25591588\n",
      "TPI:0.00597902774810791sec\n",
      "0.017251674\n",
      "0.0032495048\n",
      "0.0013014646\n",
      "0.0007239949\n",
      "0.00046059975\n",
      "0.0003481979\n",
      "0.00026813414\n",
      "0.00022124895\n",
      "0.00019031565\n",
      "0.00017412438\n",
      "0.00015113724\n",
      "0.00014664345\n",
      "0.00013692\n",
      "0.00012793337\n",
      "0.00012429198\n",
      "0.00011818058\n",
      "0.000114395\n",
      "0.00012143382\n",
      "0.00012342747\n",
      "0.00010742052\n",
      "ITERATION:20952\n",
      "Elapsed time:  2.03 min\n"
     ]
    }
   ],
   "source": [
    "cost=1\n",
    "i=0\n",
    "start_time=time.time()\n",
    "while cost>0.0001:\n",
    "    unuse,cost=sess.run([train_step,loss],feed_dict={x:inp,labels:tran})\n",
    "    if i % 1000==0:\n",
    "        print(cost)\n",
    "    if i==500:\n",
    "        tpi=(time.time() - start_time)/500\n",
    "        print('TPI:'+str(tpi)+'sec')\n",
    "    i+=1\n",
    "print('ITERATION:'+str(i))\n",
    "print(\"Elapsed time: \", elapsed(time.time() - start_time))"
   ]
  },
  {
   "cell_type": "code",
   "execution_count": 12,
   "metadata": {
    "collapsed": false
   },
   "outputs": [],
   "source": [
    "newimg,lb=mnist.test.next_batch(1)\n",
    "newimg=newimg.reshape(-1)"
   ]
  },
  {
   "cell_type": "code",
   "execution_count": 13,
   "metadata": {
    "collapsed": false
   },
   "outputs": [
    {
     "name": "stdout",
     "output_type": "stream",
     "text": [
      "newimg:\n"
     ]
    },
    {
     "data": {
      "image/png": "[encoded data removed]",
      "text/plain": [
       "<matplotlib.figure.Figure at 0x2625148b588>"
      ]
     },
     "metadata": {},
     "output_type": "display_data"
    },
    {
     "name": "stdout",
     "output_type": "stream",
     "text": [
      "GROUND TRUTH1:\n"
     ]
    },
    {
     "data": {
      "image/png": "[encoded data removed]",
      "text/plain": [
       "<matplotlib.figure.Figure at 0x26255a42f60>"
      ]
     },
     "metadata": {},
     "output_type": "display_data"
    },
    {
     "name": "stdout",
     "output_type": "stream",
     "text": [
      "TRANS1:\n"
     ]
    },
    {
     "data": {
      "image/png": "[encoded data removed]",
      "text/plain": [
       "<matplotlib.figure.Figure at 0x26258730e80>"
      ]
     },
     "metadata": {},
     "output_type": "display_data"
    },
    {
     "name": "stdout",
     "output_type": "stream",
     "text": [
      "GROUND TRUTH2:\n"
     ]
    },
    {
     "data": {
      "image/png": "[encoded data removed]",
      "text/plain": [
       "<matplotlib.figure.Figure at 0x26255a65160>"
      ]
     },
     "metadata": {},
     "output_type": "display_data"
    },
    {
     "name": "stdout",
     "output_type": "stream",
     "text": [
      "TRANS2:\n"
     ]
    },
    {
     "data": {
      "image/png": "[encoded data removed]",
      "text/plain": [
       "<matplotlib.figure.Figure at 0x26255a2d748>"
      ]
     },
     "metadata": {},
     "output_type": "display_data"
    },
    {
     "name": "stdout",
     "output_type": "stream",
     "text": [
      "GROUND TRUTH3:\n"
     ]
    },
    {
     "data": {
      "image/png": "[encoded data removed]",
      "text/plain": [
       "<matplotlib.figure.Figure at 0x2625878f710>"
      ]
     },
     "metadata": {},
     "output_type": "display_data"
    },
    {
     "name": "stdout",
     "output_type": "stream",
     "text": [
      "TRANS3:\n"
     ]
    },
    {
     "data": {
      "image/png": "[encoded data removed]",
      "text/plain": [
       "<matplotlib.figure.Figure at 0x262587e9b70>"
      ]
     },
     "metadata": {},
     "output_type": "display_data"
    }
   ],
   "source": [
    "z=np.zeros(3)\n",
    "print('newimg:')\n",
    "showimg(newimg.reshape(28,28))\n",
    "print('GROUND TRUTH1:')\n",
    "showimg(newimg.reshape(28,28))\n",
    "print('TRANS1:')\n",
    "k=z\n",
    "k[0]=1\n",
    "inpt=np.append(newimg,k).reshape(1,-1)\n",
    "oupt=sess.run(y,feed_dict={x:inpt})\n",
    "showimg(oupt.reshape(28,28))\n",
    "print('GROUND TRUTH2:')\n",
    "newimg1=newimg[::-1].reshape(28,28)\n",
    "newimg1=newimg1.reshape(-1)\n",
    "showimg(newimg1.reshape(28,28))\n",
    "print('TRANS2:')\n",
    "k=z\n",
    "k[1]=1\n",
    "inpt=np.append(newimg,k).reshape(1,-1)\n",
    "oupt=sess.run(y,feed_dict={x:inpt})\n",
    "showimg(oupt.reshape(28,28))\n",
    "print('GROUND TRUTH3:')\n",
    "im=newimg.reshape(28,28)\n",
    "im_=np.zeros((im.shape[1],im.shape[0]))\n",
    "for i in range(im.shape[0]):\n",
    "    im_[:,-i]=im[i]\n",
    "showimg(im_)\n",
    "print('TRANS3:')\n",
    "k=z\n",
    "k[2]=1\n",
    "inpt=np.append(newimg,k).reshape(1,-1)\n",
    "oupt=sess.run(y,feed_dict={x:inpt})\n",
    "showimg(oupt.reshape(28,28))"
   ]
  },
  {
   "cell_type": "code",
   "execution_count": 14,
   "metadata": {
    "collapsed": false
   },
   "outputs": [
    {
     "data": {
      "text/plain": [
       "(787,)"
      ]
     },
     "execution_count": 14,
     "metadata": {},
     "output_type": "execute_result"
    }
   ],
   "source": [
    "inpt=inp[0]\n",
    "inpt.shape"
   ]
  },
  {
   "cell_type": "code",
   "execution_count": 15,
   "metadata": {
    "collapsed": false
   },
   "outputs": [
    {
     "data": {
      "image/png": "[encoded data removed]",
      "text/plain": [
       "<matplotlib.figure.Figure at 0x26251613cf8>"
      ]
     },
     "metadata": {},
     "output_type": "display_data"
    }
   ],
   "source": [
    "inpt=inpt.reshape(-1)\n",
    "inpt[-1]=1\n",
    "inpt=inpt.reshape(1,-1)\n",
    "oupt=sess.run(y,feed_dict={x:inpt})\n",
    "showimg(oupt.reshape(28,28))"
   ]
  },
  {
   "cell_type": "code",
   "execution_count": 16,
   "metadata": {
    "collapsed": false
   },
   "outputs": [
    {
     "data": {
      "text/plain": [
       "array([0.        , 0.        , 0.        , 0.        , 0.        ,\n",
       "       0.        , 0.        , 0.        , 0.        , 0.        ,\n",
       "       0.        , 0.        , 0.        , 0.        , 0.        ,\n",
       "       0.        , 0.        , 0.        , 0.        , 0.        ,\n",
       "       0.        , 0.        , 0.        , 0.        , 0.        ,\n",
       "       0.        , 0.        , 0.        , 0.        , 0.        ,\n",
       "       0.        , 0.        , 0.        , 0.        , 0.        ,\n",
       "       0.        , 0.        , 0.        , 0.        , 0.        ,\n",
       "       0.        , 0.        , 0.        , 0.        , 0.        ,\n",
       "       0.        , 0.        , 0.        , 0.        , 0.        ,\n",
       "       0.        , 0.        , 0.        , 0.        , 0.        ,\n",
       "       0.        , 0.        , 0.        , 0.        , 0.        ,\n",
       "       0.        , 0.        , 0.        , 0.        , 0.        ,\n",
       "       0.        , 0.        , 0.        , 0.        , 0.        ,\n",
       "       0.        , 0.        , 0.        , 0.        , 0.        ,\n",
       "       0.        , 0.        , 0.        , 0.        , 0.        ,\n",
       "       0.        , 0.        , 0.        , 0.        , 0.        ,\n",
       "       0.        , 0.        , 0.        , 0.        , 0.        ,\n",
       "       0.        , 0.        , 0.        , 0.        , 0.        ,\n",
       "       0.        , 0.        , 0.        , 0.        , 0.        ,\n",
       "       0.        , 0.        , 0.        , 0.        , 0.        ,\n",
       "       0.        , 0.        , 0.        , 0.        , 0.        ,\n",
       "       0.        , 0.        , 0.        , 0.        , 0.        ,\n",
       "       0.        , 0.        , 0.        , 0.        , 0.        ,\n",
       "       0.        , 0.        , 0.        , 0.        , 0.        ,\n",
       "       0.        , 0.        , 0.        , 0.        , 0.        ,\n",
       "       0.        , 0.        , 0.        , 0.        , 0.        ,\n",
       "       0.        , 0.        , 0.        , 0.        , 0.        ,\n",
       "       0.        , 0.        , 0.        , 0.        , 0.        ,\n",
       "       0.        , 0.        , 0.        , 0.        , 0.0509804 ,\n",
       "       0.52941179, 0.57647061, 0.57647061, 0.96862751, 0.90980399,\n",
       "       0.57647061, 0.53725493, 0.15294118, 0.03137255, 0.        ,\n",
       "       0.        , 0.        , 0.        , 0.        , 0.        ,\n",
       "       0.        , 0.        , 0.        , 0.        , 0.        ,\n",
       "       0.        , 0.        , 0.        , 0.        , 0.        ,\n",
       "       0.        , 0.        , 0.45098042, 0.99607849, 0.99607849,\n",
       "       0.99607849, 0.99607849, 0.99607849, 0.99607849, 0.99607849,\n",
       "       0.99607849, 0.43137258, 0.01176471, 0.        , 0.        ,\n",
       "       0.        , 0.        , 0.        , 0.        , 0.        ,\n",
       "       0.        , 0.        , 0.        , 0.        , 0.        ,\n",
       "       0.        , 0.        , 0.        , 0.01960784, 0.52156866,\n",
       "       0.96862751, 0.99607849, 0.99607849, 0.99607849, 0.97647065,\n",
       "       0.99215692, 0.99607849, 0.99607849, 0.99607849, 0.99607849,\n",
       "       0.24313727, 0.        , 0.        , 0.        , 0.        ,\n",
       "       0.        , 0.        , 0.        , 0.        , 0.        ,\n",
       "       0.        , 0.        , 0.        , 0.        , 0.        ,\n",
       "       0.        , 0.7019608 , 0.99607849, 0.99607849, 0.99607849,\n",
       "       0.88235301, 0.4039216 , 0.03529412, 0.25882354, 0.80000007,\n",
       "       0.99607849, 0.99607849, 0.99607849, 0.95686281, 0.19215688,\n",
       "       0.        , 0.        , 0.        , 0.        , 0.        ,\n",
       "       0.        , 0.        , 0.        , 0.        , 0.        ,\n",
       "       0.        , 0.        , 0.        , 0.09803922, 0.91372555,\n",
       "       0.99607849, 0.99607849, 0.99607849, 0.94901967, 0.17647059,\n",
       "       0.        , 0.        , 0.24705884, 0.84313732, 0.99607849,\n",
       "       0.99607849, 0.99607849, 0.45490199, 0.        , 0.        ,\n",
       "       0.        , 0.        , 0.        , 0.        , 0.        ,\n",
       "       0.        , 0.        , 0.        , 0.        , 0.        ,\n",
       "       0.        , 0.29019609, 0.99215692, 0.99607849, 0.99607849,\n",
       "       0.99607849, 0.90588242, 0.1254902 , 0.        , 0.        ,\n",
       "       0.        , 0.12941177, 0.99607849, 0.99607849, 0.99607849,\n",
       "       0.86274517, 0.09803922, 0.        , 0.        , 0.        ,\n",
       "       0.        , 0.        , 0.        , 0.        , 0.        ,\n",
       "       0.        , 0.        , 0.        , 0.        , 0.        ,\n",
       "       0.87450987, 0.99607849, 0.99607849, 0.99607849, 0.72549021,\n",
       "       0.        , 0.        , 0.        , 0.        , 0.03529412,\n",
       "       0.70588237, 0.99607849, 0.99607849, 0.99607849, 0.84313732,\n",
       "       0.01176471, 0.        , 0.        , 0.        , 0.        ,\n",
       "       0.        , 0.        , 0.        , 0.        , 0.        ,\n",
       "       0.        , 0.        , 0.        , 0.87450987, 0.99607849,\n",
       "       0.99607849, 0.96470594, 0.09019608, 0.        , 0.        ,\n",
       "       0.        , 0.        , 0.        , 0.15686275, 0.9333334 ,\n",
       "       0.99607849, 0.99607849, 0.99607849, 0.30980393, 0.        ,\n",
       "       0.        , 0.        , 0.        , 0.        , 0.        ,\n",
       "       0.        , 0.        , 0.        , 0.        , 0.        ,\n",
       "       0.14901961, 0.9333334 , 0.99607849, 0.99607849, 0.95686281,\n",
       "       0.05490196, 0.        , 0.        , 0.        , 0.        ,\n",
       "       0.        , 0.        , 0.7843138 , 0.99607849, 0.99607849,\n",
       "       0.99607849, 0.87843144, 0.01960784, 0.        , 0.        ,\n",
       "       0.        , 0.        , 0.        , 0.        , 0.        ,\n",
       "       0.        , 0.        , 0.        , 0.48235297, 0.99607849,\n",
       "       0.99607849, 0.99607849, 0.98823535, 0.63137257, 0.        ,\n",
       "       0.        , 0.        , 0.        , 0.        , 0.        ,\n",
       "       0.30588236, 0.98823535, 0.99607849, 0.99607849, 0.99607849,\n",
       "       0.29803923, 0.        , 0.        , 0.        , 0.        ,\n",
       "       0.        , 0.        , 0.        , 0.        , 0.        ,\n",
       "       0.        , 0.3019608 , 0.99607849, 0.99607849, 0.99607849,\n",
       "       0.6156863 , 0.        , 0.        , 0.        , 0.        ,\n",
       "       0.        , 0.        , 0.        , 0.        , 0.80392164,\n",
       "       0.99607849, 0.99607849, 0.99607849, 0.29803923, 0.        ,\n",
       "       0.        , 0.        , 0.        , 0.        , 0.        ,\n",
       "       0.        , 0.        , 0.        , 0.        , 0.3019608 ,\n",
       "       0.99607849, 0.99607849, 0.99607849, 0.9333334 , 0.03529412,\n",
       "       0.        , 0.        , 0.        , 0.        , 0.        ,\n",
       "       0.        , 0.        , 0.53333336, 0.99607849, 0.99607849,\n",
       "       0.99607849, 0.29803923, 0.        , 0.        , 0.        ,\n",
       "       0.        , 0.        , 0.        , 0.        , 0.        ,\n",
       "       0.        , 0.        , 0.10196079, 0.81568635, 0.99607849,\n",
       "       0.99607849, 0.99607849, 0.66274512, 0.        , 0.        ,\n",
       "       0.        , 0.        , 0.        , 0.        , 0.        ,\n",
       "       0.53333336, 0.99607849, 0.99607849, 0.99607849, 0.29803923,\n",
       "       0.        , 0.        , 0.        , 0.        , 0.        ,\n",
       "       0.        , 0.        , 0.        , 0.        , 0.        ,\n",
       "       0.        , 0.10196079, 0.99607849, 0.99607849, 0.99607849,\n",
       "       0.87843144, 0.09019608, 0.        , 0.        , 0.        ,\n",
       "       0.        , 0.        , 0.        , 0.53333336, 0.99607849,\n",
       "       0.99607849, 0.99607849, 0.29803923, 0.        , 0.        ,\n",
       "       0.        , 0.        , 0.        , 0.        , 0.        ,\n",
       "       0.        , 0.        , 0.        , 0.        , 0.01176471,\n",
       "       0.73725492, 0.99607849, 0.99607849, 0.99607849, 0.82352948,\n",
       "       0.13725491, 0.        , 0.        , 0.        , 0.        ,\n",
       "       0.        , 0.76078439, 0.99607849, 0.99607849, 0.99607849,\n",
       "       0.29803923, 0.        , 0.        , 0.        , 0.        ,\n",
       "       0.        , 0.        , 0.        , 0.        , 0.        ,\n",
       "       0.        , 0.        , 0.        , 0.05490196, 0.71764708,\n",
       "       0.99607849, 0.99607849, 0.99607849, 0.97647065, 0.41176474,\n",
       "       0.16470589, 0.        , 0.        , 0.10196079, 0.96862751,\n",
       "       1.        , 0.99607849, 0.90980399, 0.09411766, 0.        ,\n",
       "       0.        , 0.        , 0.        , 0.        , 0.        ,\n",
       "       0.        , 0.        , 0.        , 0.        , 0.        ,\n",
       "       0.        , 0.        , 0.19215688, 0.95686281, 0.99607849,\n",
       "       0.99607849, 0.99607849, 0.99607849, 0.93725497, 0.7960785 ,\n",
       "       0.40784317, 0.81568635, 0.99607849, 0.99607849, 0.99607849,\n",
       "       0.69803923, 0.        , 0.        , 0.        , 0.        ,\n",
       "       0.        , 0.        , 0.        , 0.        , 0.        ,\n",
       "       0.        , 0.        , 0.        , 0.        , 0.        ,\n",
       "       0.        , 0.21960786, 0.70588237, 0.96862751, 0.99607849,\n",
       "       0.99607849, 0.99607849, 0.99607849, 0.99607849, 0.99607849,\n",
       "       0.99607849, 0.99607849, 0.9450981 , 0.02352941, 0.        ,\n",
       "       0.        , 0.        , 0.        , 0.        , 0.        ,\n",
       "       0.        , 0.        , 0.        , 0.        , 0.        ,\n",
       "       0.        , 0.        , 0.        , 0.        , 0.        ,\n",
       "       0.        , 0.227451  , 0.82352948, 0.99607849, 0.99607849,\n",
       "       0.99607849, 0.99607849, 0.99607849, 0.99607849, 0.69803923,\n",
       "       0.17647059, 0.        , 0.        , 0.        , 0.        ,\n",
       "       0.        , 0.        , 0.        , 0.        , 0.        ,\n",
       "       0.        , 0.        , 0.        , 0.        , 0.        ,\n",
       "       0.        , 0.        , 0.        , 0.        , 0.        ,\n",
       "       0.07450981, 0.2392157 , 0.57254905, 0.75294125, 0.57254905,\n",
       "       0.57254905, 0.34509805, 0.04705883, 0.        , 0.        ,\n",
       "       0.        , 0.        , 0.        , 0.        , 0.        ,\n",
       "       0.        , 0.        , 0.        , 0.        , 0.        ,\n",
       "       0.        , 0.        , 0.        , 0.        , 0.        ,\n",
       "       0.        , 0.        , 0.        , 0.        , 0.        ,\n",
       "       0.        , 0.        , 0.        , 0.        , 0.        ,\n",
       "       0.        , 0.        , 0.        , 0.        , 0.        ,\n",
       "       0.        , 0.        , 0.        , 0.        , 0.        ,\n",
       "       0.        , 0.        , 0.        , 0.        , 0.        ,\n",
       "       0.        , 0.        , 0.        , 0.        , 0.        ,\n",
       "       0.        , 0.        , 0.        , 0.        , 0.        ,\n",
       "       0.        , 0.        , 0.        , 0.        , 0.        ,\n",
       "       0.        , 0.        , 0.        , 0.        , 0.        ,\n",
       "       0.        , 0.        , 0.        , 0.        , 0.        ,\n",
       "       0.        , 0.        , 0.        , 0.        , 0.        ,\n",
       "       0.        , 0.        , 0.        , 0.        , 0.        ,\n",
       "       0.        , 0.        , 0.        , 0.        , 0.        ,\n",
       "       0.        , 0.        , 0.        , 0.        , 0.        ,\n",
       "       0.        , 0.        , 0.        , 0.        , 1.        ,\n",
       "       0.        , 1.        ])"
      ]
     },
     "execution_count": 16,
     "metadata": {},
     "output_type": "execute_result"
    }
   ],
   "source": [
    "inpt[-1]"
   ]
  },
  {
   "cell_type": "code",
   "execution_count": 17,
   "metadata": {
    "collapsed": false
   },
   "outputs": [
    {
     "data": {
      "image/png": "[encoded data removed]",
      "text/plain": [
       "<matplotlib.figure.Figure at 0x26251613ac8>"
      ]
     },
     "metadata": {},
     "output_type": "display_data"
    }
   ],
   "source": [
    "oupt=sess.run(y,feed_dict={x:inp[256].reshape(1,-1)})\n",
    "showimg(oupt.reshape(28,28))"
   ]
  },
  {
   "cell_type": "code",
   "execution_count": null,
   "metadata": {
    "collapsed": true
   },
   "outputs": [],
   "source": []
  }
 ],
 "metadata": {
  "anaconda-cloud": {},
  "kernelspec": {
   "display_name": "Python [conda env:tensorflow]",
   "language": "python",
   "name": "conda-env-tensorflow-py"
  },
  "language_info": {
   "codemirror_mode": {
    "name": "ipython",
    "version": 3
   },
   "file_extension": ".py",
   "mimetype": "text/x-python",
   "name": "python",
   "nbconvert_exporter": "python",
   "pygments_lexer": "ipython3",
   "version": "3.5.4"
  }
 },
 "nbformat": 4,
 "nbformat_minor": 1
}
