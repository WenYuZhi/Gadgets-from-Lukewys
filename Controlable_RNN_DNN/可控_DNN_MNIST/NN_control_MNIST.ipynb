{
 "cells": [
  {
   "cell_type": "code",
   "execution_count": 1,
   "metadata": {
    "collapsed": false
   },
   "outputs": [
    {
     "name": "stderr",
     "output_type": "stream",
     "text": [
      "D:\\Anaconda3\\envs\\tensorflow\\lib\\site-packages\\h5py\\__init__.py:36: FutureWarning: Conversion of the second argument of issubdtype from `float` to `np.floating` is deprecated. In future, it will be treated as `np.float64 == np.dtype(float).type`.\n",
      "  from ._conv import register_converters as _register_converters\n"
     ]
    },
    {
     "name": "stdout",
     "output_type": "stream",
     "text": [
      "WARNING:tensorflow:From D:\\Anaconda3\\envs\\tensorflow\\lib\\site-packages\\tensorflow\\contrib\\learn\\python\\learn\\datasets\\base.py:198: retry (from tensorflow.contrib.learn.python.learn.datasets.base) is deprecated and will be removed in a future version.\n",
      "Instructions for updating:\n",
      "Use the retry module or similar alternatives.\n"
     ]
    }
   ],
   "source": [
    "from tensorflow.examples.tutorials.mnist import input_data\n",
    "import tensorflow as tf\n",
    "import numpy as np\n",
    "import matplotlib.pyplot as plt\n",
    "import time"
   ]
  },
  {
   "cell_type": "code",
   "execution_count": 2,
   "metadata": {
    "collapsed": true
   },
   "outputs": [],
   "source": [
    "def elapsed(sec):\n",
    "    if sec < 60:\n",
    "        return \"{:.2f}\".format(sec) + \" sec\"\n",
    "    elif sec < (60 * 60):\n",
    "        return \"{:.2f}\".format(sec / 60) + \" min\"\n",
    "    else:\n",
    "        return \"{:.2f}\".format(sec / (60 * 60)) + \" hr\""
   ]
  },
  {
   "cell_type": "code",
   "execution_count": 3,
   "metadata": {
    "collapsed": true
   },
   "outputs": [],
   "source": [
    "def showimg(img):\n",
    "    plt.figure(\"Image\")\n",
    "    plt.imshow(img,cmap='gray')\n",
    "    plt.axis('on')\n",
    "    plt.title('image')\n",
    "    plt.show()"
   ]
  },
  {
   "cell_type": "code",
   "execution_count": 4,
   "metadata": {
    "collapsed": false
   },
   "outputs": [
    {
     "name": "stdout",
     "output_type": "stream",
     "text": [
      "WARNING:tensorflow:From <ipython-input-4-a839aeb82f4b>:1: read_data_sets (from tensorflow.contrib.learn.python.learn.datasets.mnist) is deprecated and will be removed in a future version.\n",
      "Instructions for updating:\n",
      "Please use alternatives such as official/mnist/dataset.py from tensorflow/models.\n",
      "WARNING:tensorflow:From D:\\Anaconda3\\envs\\tensorflow\\lib\\site-packages\\tensorflow\\contrib\\learn\\python\\learn\\datasets\\mnist.py:260: maybe_download (from tensorflow.contrib.learn.python.learn.datasets.base) is deprecated and will be removed in a future version.\n",
      "Instructions for updating:\n",
      "Please write your own downloading logic.\n",
      "WARNING:tensorflow:From D:\\Anaconda3\\envs\\tensorflow\\lib\\site-packages\\tensorflow\\contrib\\learn\\python\\learn\\datasets\\mnist.py:262: extract_images (from tensorflow.contrib.learn.python.learn.datasets.mnist) is deprecated and will be removed in a future version.\n",
      "Instructions for updating:\n",
      "Please use tf.data to implement this functionality.\n",
      "Extracting MNIST_data/train-images-idx3-ubyte.gz\n",
      "WARNING:tensorflow:From D:\\Anaconda3\\envs\\tensorflow\\lib\\site-packages\\tensorflow\\contrib\\learn\\python\\learn\\datasets\\mnist.py:267: extract_labels (from tensorflow.contrib.learn.python.learn.datasets.mnist) is deprecated and will be removed in a future version.\n",
      "Instructions for updating:\n",
      "Please use tf.data to implement this functionality.\n",
      "Extracting MNIST_data/train-labels-idx1-ubyte.gz\n",
      "WARNING:tensorflow:From D:\\Anaconda3\\envs\\tensorflow\\lib\\site-packages\\tensorflow\\contrib\\learn\\python\\learn\\datasets\\mnist.py:110: dense_to_one_hot (from tensorflow.contrib.learn.python.learn.datasets.mnist) is deprecated and will be removed in a future version.\n",
      "Instructions for updating:\n",
      "Please use tf.one_hot on tensors.\n",
      "Extracting MNIST_data/t10k-images-idx3-ubyte.gz\n",
      "Extracting MNIST_data/t10k-labels-idx1-ubyte.gz\n",
      "WARNING:tensorflow:From D:\\Anaconda3\\envs\\tensorflow\\lib\\site-packages\\tensorflow\\contrib\\learn\\python\\learn\\datasets\\mnist.py:290: DataSet.__init__ (from tensorflow.contrib.learn.python.learn.datasets.mnist) is deprecated and will be removed in a future version.\n",
      "Instructions for updating:\n",
      "Please use alternatives such as official/mnist/dataset.py from tensorflow/models.\n"
     ]
    }
   ],
   "source": [
    "mnist = input_data.read_data_sets(\"MNIST_data/\", one_hot=True)"
   ]
  },
  {
   "cell_type": "code",
   "execution_count": 5,
   "metadata": {
    "collapsed": false
   },
   "outputs": [],
   "source": [
    "HIDDEN_SIZE=128\n",
    "INPUT_SIZE=787\n",
    "INPUT_NUMBER=128\n",
    "LAYER_NUMBER=4"
   ]
  },
  {
   "cell_type": "code",
   "execution_count": 6,
   "metadata": {
    "collapsed": false
   },
   "outputs": [],
   "source": [
    "def make_layer(INPUT_SIZE,HIDDEN_SIZE,LAYER_NUMBER):\n",
    "    x = tf.placeholder(tf.float32, [None, INPUT_SIZE])\n",
    "    weights={'W0':tf.Variable(tf.truncated_normal([INPUT_SIZE, HIDDEN_SIZE], stddev=0.1))}\n",
    "    bias={'b0':tf.Variable(tf.constant(0.1, shape=[HIDDEN_SIZE]))}\n",
    "    a={'a0':tf.nn.tanh(tf.matmul(x, weights['W0']) + bias['b0'])}\n",
    "    for i in range(1,LAYER_NUMBER+1):\n",
    "        weights['W'+str(i)] = tf.Variable(tf.truncated_normal([HIDDEN_SIZE, HIDDEN_SIZE], stddev=0.1))\n",
    "        bias['b' + str(i)] = tf.Variable(tf.constant(0.1, shape=[HIDDEN_SIZE]))\n",
    "        a['a' + str(i)] = tf.nn.tanh(tf.matmul(a['a' + str(i-1)],weights['W'+str(i)]) + bias['b' + str(i)])\n",
    "\n",
    "    weights['W' + str(LAYER_NUMBER+1)] = tf.Variable(tf.truncated_normal([HIDDEN_SIZE, 784], stddev=0.1))\n",
    "    bias['b' + str(LAYER_NUMBER+1)] = tf.Variable(tf.constant(0.1, shape=[784]))\n",
    "    y = tf.nn.sigmoid(tf.matmul(a['a' + str(LAYER_NUMBER)],weights['W'+str(LAYER_NUMBER+1)])\n",
    "                      + bias['b' + str(LAYER_NUMBER+1)])\n",
    "    return x,y \n",
    "x,y=make_layer(INPUT_SIZE,HIDDEN_SIZE,LAYER_NUMBER)"
   ]
  },
  {
   "cell_type": "code",
   "execution_count": 7,
   "metadata": {
    "collapsed": false
   },
   "outputs": [],
   "source": [
    "def make_index(NUM,INPUT_SIZE):\n",
    "    l=np.array([])\n",
    "    for i in range(NUM):\n",
    "        p=np.zeros((INPUT_SIZE))\n",
    "        b=bin(i)[2:]\n",
    "        _=len(b)-1\n",
    "        for k in b:\n",
    "            p[_]=k\n",
    "            _-=1\n",
    "        l=np.append(l,p)\n",
    "    return l.reshape(-1,INPUT_SIZE)"
   ]
  },
  {
   "cell_type": "code",
   "execution_count": 8,
   "metadata": {
    "collapsed": false
   },
   "outputs": [],
   "source": [
    "labels=tf.placeholder(tf.float32, [None, 784])\n",
    "loss=tf.losses.mean_squared_error(labels,y)\n",
    "train_step = tf.train.AdamOptimizer(0.00001).minimize(loss)\n",
    "sess = tf.InteractiveSession()\n",
    "tf.global_variables_initializer().run()"
   ]
  },
  {
   "cell_type": "code",
   "execution_count": 9,
   "metadata": {
    "collapsed": false
   },
   "outputs": [
    {
     "name": "stdout",
     "output_type": "stream",
     "text": [
      "(384, 787)\n",
      "(384, 784)\n"
     ]
    }
   ],
   "source": [
    "batch_xs, batch_ys = mnist.train.next_batch(INPUT_NUMBER)\n",
    "inp=[]\n",
    "tran=[]\n",
    "ind=np.zeros(3)\n",
    "for i in range(len(batch_xs)):\n",
    "    t_=batch_xs[i].reshape(28,28)\n",
    "    t_=t_.reshape(-1)\n",
    "    tran.append(t_)\n",
    "    z=ind\n",
    "    z[0]=1\n",
    "    inp_=np.append(batch_xs[i],z)\n",
    "    inp.append(inp_)\n",
    "for i in range(len(batch_xs)):\n",
    "    t_=batch_xs[i][::-1].reshape(28,28)\n",
    "    t_=t_.reshape(-1)\n",
    "    tran.append(t_)\n",
    "    z=ind\n",
    "    z[1]=1\n",
    "    inp_=np.append(batch_xs[i],z)\n",
    "    inp.append(inp_)\n",
    "for i in range(len(batch_xs)):\n",
    "    t_=batch_xs[i][::-1].reshape(28,28).T\n",
    "    t_=t_.reshape(-1)\n",
    "    tran.append(t_)\n",
    "    z=ind\n",
    "    z[2]=1\n",
    "    inp_=np.append(batch_xs[i],z)\n",
    "    inp.append(inp_)\n",
    "inp=np.array(inp)\n",
    "tran=np.array(tran)\n",
    "print(inp.shape)\n",
    "print(tran.shape)\n"
   ]
  },
  {
   "cell_type": "code",
   "execution_count": 10,
   "metadata": {
    "collapsed": false,
    "scrolled": true
   },
   "outputs": [
    {
     "name": "stdout",
     "output_type": "stream",
     "text": [
      "0.25461763\n",
      "0.111564\n",
      "0.081597604\n",
      "0.075536504\n",
      "0.07370645\n",
      "0.072967656\n",
      "0.07261606\n",
      "0.07228473\n",
      "0.06624224\n",
      "0.060207095\n",
      "0.054171525\n",
      "0.048205778\n",
      "0.044592697\n",
      "0.040887594\n",
      "0.03752676\n",
      "0.034540188\n",
      "0.031630255\n",
      "0.028714683\n",
      "0.025936604\n",
      "0.023366172\n",
      "0.020987956\n",
      "0.018786578\n",
      "0.01680768\n",
      "0.015022394\n",
      "0.013419616\n",
      "0.011971377\n",
      "0.010668508\n",
      "0.009493645\n",
      "0.008439116\n",
      "0.0074944156\n",
      "0.0066483663\n",
      "0.0058912463\n",
      "0.0052183657\n",
      "0.004619428\n",
      "0.004087388\n",
      "0.0036163807\n",
      "0.0031999678\n",
      "0.002831419\n",
      "0.0025034712\n",
      "0.002215221\n",
      "0.001959973\n",
      "0.0017334963\n",
      "0.0015361257\n",
      "0.0013625633\n",
      "0.0012095983\n",
      "0.0010747382\n",
      "0.00095576607\n",
      "0.00085110945\n",
      "0.0007592168\n",
      "0.0006783603\n",
      "0.00060773373\n",
      "0.00054550974\n",
      "0.00049023615\n",
      "0.0004408834\n",
      "0.00039817722\n",
      "0.00036060103\n",
      "0.00032740654\n",
      "0.0002981896\n",
      "0.0002719778\n",
      "0.00024913516\n",
      "0.0002290534\n",
      "0.00021106841\n",
      "0.00019507243\n",
      "0.00018100836\n",
      "0.00016838731\n",
      "0.00015710632\n",
      "0.00014445602\n",
      "0.00012998824\n",
      "0.00012093894\n",
      "0.000113428956\n",
      "0.000106732725\n",
      "0.00010034181\n",
      "ITERATION:71057\n",
      "Elapsed time:  5.96 min\n"
     ]
    }
   ],
   "source": [
    "\n",
    "cost=1\n",
    "i=0\n",
    "start_time=time.time()\n",
    "while cost>0.0001:\n",
    "    unuse,cost=sess.run([train_step,loss],feed_dict={x:inp,labels:tran})\n",
    "    if i % 1000==0:\n",
    "        print(cost)\n",
    "    i+=1\n",
    "print('ITERATION:'+str(i))\n",
    "print(\"Elapsed time: \", elapsed(time.time() - start_time))"
   ]
  },
  {
   "cell_type": "code",
   "execution_count": 17,
   "metadata": {
    "collapsed": false
   },
   "outputs": [],
   "source": [
    "newimg,lb=mnist.test.next_batch(1)\n",
    "newimg=newimg.reshape(-1)"
   ]
  },
  {
   "cell_type": "code",
   "execution_count": 18,
   "metadata": {
    "collapsed": false
   },
   "outputs": [
    {
     "name": "stdout",
     "output_type": "stream",
     "text": [
      "newimg:\n"
     ]
    },
    {
     "data": {
      "image/png": "[encoded data removed]",
      "text/plain": [
       "<Figure size 432x288 with 1 Axes>"
      ]
     },
     "metadata": {},
     "output_type": "display_data"
    },
    {
     "name": "stdout",
     "output_type": "stream",
     "text": [
      "GROUND TRUTH1:\n"
     ]
    },
    {
     "data": {
      "image/png": "[encoded data removed]",
      "text/plain": [
       "<Figure size 432x288 with 1 Axes>"
      ]
     },
     "metadata": {},
     "output_type": "display_data"
    },
    {
     "name": "stdout",
     "output_type": "stream",
     "text": [
      "TRANS1:\n"
     ]
    },
    {
     "data": {
      "image/png": "[encoded data removed]",
      "text/plain": [
       "<Figure size 432x288 with 1 Axes>"
      ]
     },
     "metadata": {},
     "output_type": "display_data"
    },
    {
     "name": "stdout",
     "output_type": "stream",
     "text": [
      "GROUND TRUTH2:\n"
     ]
    },
    {
     "data": {
      "image/png": "[encoded data removed]",
      "text/plain": [
       "<Figure size 432x288 with 1 Axes>"
      ]
     },
     "metadata": {},
     "output_type": "display_data"
    },
    {
     "name": "stdout",
     "output_type": "stream",
     "text": [
      "TRANS2:\n"
     ]
    },
    {
     "data": {
      "image/png": "[encoded data removed]",
      "text/plain": [
       "<Figure size 432x288 with 1 Axes>"
      ]
     },
     "metadata": {},
     "output_type": "display_data"
    },
    {
     "name": "stdout",
     "output_type": "stream",
     "text": [
      "GROUND TRUTH3:\n"
     ]
    },
    {
     "data": {
      "image/png": "[encoded data removed]",
      "text/plain": [
       "<Figure size 432x288 with 1 Axes>"
      ]
     },
     "metadata": {},
     "output_type": "display_data"
    },
    {
     "name": "stdout",
     "output_type": "stream",
     "text": [
      "TRANS3:\n"
     ]
    },
    {
     "data": {
      "image/png": "[encoded data removed]",
      "text/plain": [
       "<Figure size 432x288 with 1 Axes>"
      ]
     },
     "metadata": {},
     "output_type": "display_data"
    }
   ],
   "source": [
    "z=np.zeros(3)\n",
    "print('newimg:')\n",
    "showimg(newimg.reshape(28,28))\n",
    "print('GROUND TRUTH1:')\n",
    "showimg(newimg.reshape(28,28))\n",
    "print('TRANS1:')\n",
    "k=z\n",
    "k[0]=1\n",
    "inpt=np.append(newimg,k).reshape(1,-1)\n",
    "oupt=sess.run(y,feed_dict={x:inpt})\n",
    "showimg(oupt.reshape(28,28))\n",
    "print('GROUND TRUTH2:')\n",
    "newimg1=newimg[::-1].reshape(28,28)\n",
    "newimg1=newimg1.reshape(-1)\n",
    "showimg(newimg1.reshape(28,28))\n",
    "print('TRANS2:')\n",
    "k=z\n",
    "k[1]=1\n",
    "inpt=np.append(newimg,k).reshape(1,-1)\n",
    "oupt=sess.run(y,feed_dict={x:inpt})\n",
    "showimg(oupt.reshape(28,28))\n",
    "print('GROUND TRUTH3:')\n",
    "showimg(newimg[::-1].reshape(28,28).T)\n",
    "print('TRANS3:')\n",
    "k=z\n",
    "k[2]=1\n",
    "inpt=np.append(newimg,k).reshape(1,-1)\n",
    "oupt=sess.run(y,feed_dict={x:inpt})\n",
    "showimg(oupt.reshape(28,28))"
   ]
  },
  {
   "cell_type": "code",
   "execution_count": 13,
   "metadata": {
    "collapsed": false
   },
   "outputs": [
    {
     "data": {
      "text/plain": [
       "(787,)"
      ]
     },
     "execution_count": 13,
     "metadata": {},
     "output_type": "execute_result"
    }
   ],
   "source": [
    "inpt=inp[0]\n",
    "inpt.shape"
   ]
  },
  {
   "cell_type": "code",
   "execution_count": 14,
   "metadata": {
    "collapsed": false
   },
   "outputs": [
    {
     "data": {
      "image/png": "[encoded data removed]",
      "text/plain": [
       "<Figure size 432x288 with 1 Axes>"
      ]
     },
     "metadata": {},
     "output_type": "display_data"
    }
   ],
   "source": [
    "inpt=inpt.reshape(-1)\n",
    "inpt[-1]=1\n",
    "inpt=inpt.reshape(1,-1)\n",
    "oupt=sess.run(y,feed_dict={x:inpt})\n",
    "showimg(oupt.reshape(28,28))"
   ]
  },
  {
   "cell_type": "code",
   "execution_count": 15,
   "metadata": {
    "collapsed": false
   },
   "outputs": [
    {
     "data": {
      "text/plain": [
       "array([0.        , 0.        , 0.        , 0.        , 0.        ,\n",
       "       0.        , 0.        , 0.        , 0.        , 0.        ,\n",
       "       0.        , 0.        , 0.        , 0.        , 0.        ,\n",
       "       0.        , 0.        , 0.        , 0.        , 0.        ,\n",
       "       0.        , 0.        , 0.        , 0.        , 0.        ,\n",
       "       0.        , 0.        , 0.        , 0.        , 0.        ,\n",
       "       0.        , 0.        , 0.        , 0.        , 0.        ,\n",
       "       0.        , 0.        , 0.        , 0.        , 0.        ,\n",
       "       0.        , 0.        , 0.        , 0.        , 0.        ,\n",
       "       0.        , 0.        , 0.        , 0.        , 0.        ,\n",
       "       0.        , 0.        , 0.        , 0.        , 0.        ,\n",
       "       0.        , 0.        , 0.        , 0.        , 0.        ,\n",
       "       0.        , 0.        , 0.        , 0.        , 0.        ,\n",
       "       0.        , 0.        , 0.        , 0.        , 0.        ,\n",
       "       0.        , 0.        , 0.        , 0.        , 0.        ,\n",
       "       0.        , 0.        , 0.        , 0.        , 0.        ,\n",
       "       0.        , 0.        , 0.        , 0.        , 0.        ,\n",
       "       0.        , 0.        , 0.        , 0.        , 0.        ,\n",
       "       0.        , 0.        , 0.        , 0.        , 0.        ,\n",
       "       0.        , 0.        , 0.        , 0.        , 0.        ,\n",
       "       0.        , 0.        , 0.        , 0.        , 0.        ,\n",
       "       0.        , 0.        , 0.        , 0.        , 0.        ,\n",
       "       0.        , 0.        , 0.        , 0.        , 0.        ,\n",
       "       0.        , 0.        , 0.        , 0.        , 0.        ,\n",
       "       0.        , 0.        , 0.        , 0.        , 0.        ,\n",
       "       0.        , 0.        , 0.        , 0.        , 0.        ,\n",
       "       0.        , 0.        , 0.        , 0.        , 0.        ,\n",
       "       0.        , 0.        , 0.        , 0.        , 0.        ,\n",
       "       0.        , 0.        , 0.        , 0.        , 0.        ,\n",
       "       0.        , 0.        , 0.        , 0.        , 0.        ,\n",
       "       0.        , 0.        , 0.        , 0.        , 0.21960786,\n",
       "       0.63921571, 0.91764712, 0.91764712, 0.91764712, 0.53333336,\n",
       "       0.14509805, 0.        , 0.        , 0.        , 0.        ,\n",
       "       0.        , 0.        , 0.        , 0.        , 0.        ,\n",
       "       0.        , 0.        , 0.        , 0.        , 0.        ,\n",
       "       0.        , 0.        , 0.        , 0.        , 0.        ,\n",
       "       0.        , 0.54509807, 0.92549026, 0.99215692, 0.99215692,\n",
       "       0.99215692, 0.99215692, 0.99215692, 0.89411771, 0.38431376,\n",
       "       0.        , 0.        , 0.        , 0.        , 0.        ,\n",
       "       0.        , 0.        , 0.        , 0.        , 0.        ,\n",
       "       0.        , 0.        , 0.        , 0.        , 0.        ,\n",
       "       0.        , 0.        , 0.        , 0.26274511, 0.90980399,\n",
       "       0.99215692, 0.99215692, 0.99215692, 0.99215692, 0.99215692,\n",
       "       0.99215692, 0.99215692, 0.45490199, 0.        , 0.        ,\n",
       "       0.        , 0.        , 0.        , 0.        , 0.        ,\n",
       "       0.        , 0.        , 0.        , 0.        , 0.        ,\n",
       "       0.        , 0.        , 0.        , 0.        , 0.        ,\n",
       "       0.        , 0.65490198, 0.99215692, 0.99215692, 0.99215692,\n",
       "       0.99215692, 0.94901967, 0.96470594, 0.99215692, 0.99215692,\n",
       "       0.45490199, 0.        , 0.        , 0.        , 0.        ,\n",
       "       0.        , 0.        , 0.        , 0.        , 0.        ,\n",
       "       0.        , 0.        , 0.        , 0.        , 0.        ,\n",
       "       0.        , 0.        , 0.        , 0.        , 0.07843138,\n",
       "       0.74901962, 0.96862751, 0.67450982, 0.4039216 , 0.27058825,\n",
       "       0.78039223, 0.99215692, 0.99215692, 0.45490199, 0.        ,\n",
       "       0.        , 0.        , 0.        , 0.        , 0.        ,\n",
       "       0.        , 0.        , 0.        , 0.        , 0.        ,\n",
       "       0.        , 0.        , 0.        , 0.        , 0.        ,\n",
       "       0.        , 0.        , 0.        , 0.        , 0.26274511,\n",
       "       0.        , 0.21176472, 0.50980395, 0.89019614, 0.99215692,\n",
       "       0.67058825, 0.22352943, 0.        , 0.        , 0.        ,\n",
       "       0.        , 0.        , 0.        , 0.        , 0.        ,\n",
       "       0.        , 0.        , 0.        , 0.        , 0.        ,\n",
       "       0.        , 0.        , 0.        , 0.        , 0.        ,\n",
       "       0.        , 0.28235295, 0.73725492, 0.97254908, 0.98039222,\n",
       "       0.99215692, 0.99215692, 0.60000002, 0.01176471, 0.        ,\n",
       "       0.        , 0.        , 0.        , 0.        , 0.        ,\n",
       "       0.        , 0.        , 0.        , 0.        , 0.        ,\n",
       "       0.        , 0.        , 0.        , 0.        , 0.        ,\n",
       "       0.        , 0.        , 0.        , 0.36078432, 0.95686281,\n",
       "       0.99215692, 0.99215692, 0.99215692, 0.99215692, 0.99215692,\n",
       "       0.83137262, 0.32549021, 0.        , 0.        , 0.        ,\n",
       "       0.        , 0.        , 0.        , 0.        , 0.        ,\n",
       "       0.        , 0.        , 0.        , 0.        , 0.        ,\n",
       "       0.        , 0.        , 0.        , 0.        , 0.        ,\n",
       "       0.22352943, 0.9450981 , 0.99215692, 0.99215692, 0.99215692,\n",
       "       0.99215692, 0.99215692, 0.99215692, 0.99215692, 0.90980399,\n",
       "       0.        , 0.        , 0.        , 0.        , 0.        ,\n",
       "       0.        , 0.        , 0.        , 0.        , 0.        ,\n",
       "       0.        , 0.        , 0.        , 0.        , 0.        ,\n",
       "       0.        , 0.        , 0.        , 0.21960786, 0.83921576,\n",
       "       0.99215692, 0.99215692, 0.90196085, 0.80392164, 0.80392164,\n",
       "       0.95294124, 0.99215692, 0.97254908, 0.43921572, 0.        ,\n",
       "       0.        , 0.        , 0.        , 0.        , 0.        ,\n",
       "       0.        , 0.        , 0.10980393, 0.60392159, 0.64705884,\n",
       "       0.15686275, 0.        , 0.        , 0.        , 0.        ,\n",
       "       0.        , 0.        , 0.06666667, 0.34901962, 0.34901962,\n",
       "       0.18039216, 0.        , 0.        , 0.27450982, 0.80392164,\n",
       "       0.99215692, 0.99215692, 0.        , 0.        , 0.        ,\n",
       "       0.        , 0.        , 0.        , 0.        , 0.        ,\n",
       "       0.99607849, 0.99215692, 0.99215692, 0.2392157 , 0.        ,\n",
       "       0.        , 0.        , 0.        , 0.        , 0.        ,\n",
       "       0.        , 0.        , 0.        , 0.        , 0.        ,\n",
       "       0.        , 0.15686275, 0.86666673, 0.99215692, 0.99215692,\n",
       "       0.        , 0.        , 0.        , 0.        , 0.        ,\n",
       "       0.        , 0.        , 0.        , 0.99607849, 0.99215692,\n",
       "       0.99215692, 0.2392157 , 0.        , 0.        , 0.        ,\n",
       "       0.        , 0.        , 0.        , 0.        , 0.        ,\n",
       "       0.        , 0.        , 0.        , 0.        , 0.78039223,\n",
       "       0.99215692, 0.99215692, 0.99215692, 0.        , 0.        ,\n",
       "       0.        , 0.        , 0.        , 0.        , 0.        ,\n",
       "       0.        , 0.99607849, 0.99215692, 0.99215692, 0.74901962,\n",
       "       0.        , 0.        , 0.        , 0.        , 0.        ,\n",
       "       0.        , 0.        , 0.        , 0.        , 0.        ,\n",
       "       0.38823533, 0.87450987, 0.98039222, 0.99215692, 0.96078438,\n",
       "       0.29803923, 0.        , 0.        , 0.        , 0.        ,\n",
       "       0.        , 0.        , 0.        , 0.        , 0.82352948,\n",
       "       0.99215692, 0.99215692, 0.84705889, 0.10588236, 0.        ,\n",
       "       0.        , 0.        , 0.        , 0.09019608, 0.32549021,\n",
       "       0.38431376, 0.86274517, 0.86274517, 0.98823535, 0.99215692,\n",
       "       0.91372555, 0.58039218, 0.12156864, 0.        , 0.        ,\n",
       "       0.        , 0.        , 0.        , 0.        , 0.        ,\n",
       "       0.        , 0.        , 0.09803922, 0.9333334 , 0.99215692,\n",
       "       0.99215692, 0.85098046, 0.78039223, 0.78039223, 0.78039223,\n",
       "       0.78039223, 0.83921576, 0.99215692, 0.99215692, 0.99215692,\n",
       "       0.99215692, 0.99215692, 0.78039223, 0.27450982, 0.        ,\n",
       "       0.        , 0.        , 0.        , 0.        , 0.        ,\n",
       "       0.        , 0.        , 0.        , 0.        , 0.        ,\n",
       "       0.        , 0.27058825, 0.79215693, 0.99215692, 0.99215692,\n",
       "       0.99215692, 0.99215692, 0.99215692, 0.99215692, 0.99215692,\n",
       "       0.96078438, 0.83137262, 0.81568635, 0.29411766, 0.29411766,\n",
       "       0.03921569, 0.        , 0.        , 0.        , 0.        ,\n",
       "       0.        , 0.        , 0.        , 0.        , 0.        ,\n",
       "       0.        , 0.        , 0.        , 0.        , 0.        ,\n",
       "       0.1137255 , 0.37647063, 0.73725492, 0.90980399, 0.90980399,\n",
       "       0.90980399, 0.72156864, 0.37647063, 0.30588236, 0.        ,\n",
       "       0.        , 0.        , 0.        , 0.        , 0.        ,\n",
       "       0.        , 0.        , 0.        , 0.        , 0.        ,\n",
       "       0.        , 0.        , 0.        , 0.        , 0.        ,\n",
       "       0.        , 0.        , 0.        , 0.        , 0.        ,\n",
       "       0.        , 0.        , 0.        , 0.        , 0.        ,\n",
       "       0.        , 0.        , 0.        , 0.        , 0.        ,\n",
       "       0.        , 0.        , 0.        , 0.        , 0.        ,\n",
       "       0.        , 0.        , 0.        , 0.        , 0.        ,\n",
       "       0.        , 0.        , 0.        , 0.        , 0.        ,\n",
       "       0.        , 0.        , 0.        , 0.        , 0.        ,\n",
       "       0.        , 0.        , 0.        , 0.        , 0.        ,\n",
       "       0.        , 0.        , 0.        , 0.        , 0.        ,\n",
       "       0.        , 0.        , 0.        , 0.        , 0.        ,\n",
       "       0.        , 0.        , 0.        , 0.        , 0.        ,\n",
       "       0.        , 0.        , 0.        , 0.        , 0.        ,\n",
       "       0.        , 0.        , 0.        , 0.        , 0.        ,\n",
       "       0.        , 0.        , 0.        , 0.        , 0.        ,\n",
       "       0.        , 0.        , 0.        , 0.        , 0.        ,\n",
       "       0.        , 0.        , 0.        , 0.        , 0.        ,\n",
       "       0.        , 0.        , 0.        , 0.        , 0.        ,\n",
       "       0.        , 0.        , 0.        , 0.        , 0.        ,\n",
       "       0.        , 0.        , 0.        , 0.        , 0.        ,\n",
       "       0.        , 0.        , 0.        , 0.        , 0.        ,\n",
       "       0.        , 0.        , 0.        , 0.        , 0.        ,\n",
       "       0.        , 0.        , 0.        , 0.        , 0.        ,\n",
       "       0.        , 0.        , 0.        , 0.        , 0.        ,\n",
       "       0.        , 0.        , 0.        , 0.        , 0.        ,\n",
       "       0.        , 0.        , 0.        , 0.        , 0.        ,\n",
       "       0.        , 0.        , 0.        , 0.        , 0.        ,\n",
       "       0.        , 0.        , 0.        , 0.        , 0.        ,\n",
       "       0.        , 0.        , 0.        , 0.        , 1.        ,\n",
       "       0.        , 1.        ])"
      ]
     },
     "execution_count": 15,
     "metadata": {},
     "output_type": "execute_result"
    }
   ],
   "source": [
    "inpt[-1]"
   ]
  },
  {
   "cell_type": "code",
   "execution_count": 16,
   "metadata": {
    "collapsed": false
   },
   "outputs": [
    {
     "data": {
      "image/png": "[encoded data removed]",
      "text/plain": [
       "<Figure size 432x288 with 1 Axes>"
      ]
     },
     "metadata": {},
     "output_type": "display_data"
    }
   ],
   "source": [
    "oupt=sess.run(y,feed_dict={x:inp[256].reshape(1,-1)})\n",
    "showimg(oupt.reshape(28,28))"
   ]
  },
  {
   "cell_type": "code",
   "execution_count": null,
   "metadata": {
    "collapsed": true
   },
   "outputs": [],
   "source": []
  }
 ],
 "metadata": {
  "anaconda-cloud": {},
  "kernelspec": {
   "display_name": "Python [conda env:tensorflow]",
   "language": "python",
   "name": "conda-env-tensorflow-py"
  },
  "language_info": {
   "codemirror_mode": {
    "name": "ipython",
    "version": 3
   },
   "file_extension": ".py",
   "mimetype": "text/x-python",
   "name": "python",
   "nbconvert_exporter": "python",
   "pygments_lexer": "ipython3",
   "version": "3.5.3"
  }
 },
 "nbformat": 4,
 "nbformat_minor": 1
}
