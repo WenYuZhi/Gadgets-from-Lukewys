{
 "cells": [
  {
   "cell_type": "code",
   "execution_count": 1,
   "metadata": {
    "collapsed": false
   },
   "outputs": [
    {
     "name": "stdout",
     "output_type": "stream",
     "text": [
      "WARNING:tensorflow:From D:\\Anaconda3\\envs\\tensorflow\\lib\\site-packages\\tensorflow\\contrib\\learn\\python\\learn\\datasets\\base.py:198: retry (from tensorflow.contrib.learn.python.learn.datasets.base) is deprecated and will be removed in a future version.\n",
      "Instructions for updating:\n",
      "Use the retry module or similar alternatives.\n"
     ]
    }
   ],
   "source": [
    "from tensorflow.examples.tutorials.mnist import input_data\n",
    "import tensorflow as tf\n",
    "import numpy as np\n",
    "import matplotlib.pyplot as plt\n",
    "import time"
   ]
  },
  {
   "cell_type": "code",
   "execution_count": 2,
   "metadata": {
    "collapsed": true
   },
   "outputs": [],
   "source": [
    "def elapsed(sec):\n",
    "    if sec < 60:\n",
    "        return \"{:.2f}\".format(sec) + \" sec\"\n",
    "    elif sec < (60 * 60):\n",
    "        return \"{:.2f}\".format(sec / 60) + \" min\"\n",
    "    else:\n",
    "        return \"{:.2f}\".format(sec / (60 * 60)) + \" hr\""
   ]
  },
  {
   "cell_type": "code",
   "execution_count": 3,
   "metadata": {
    "collapsed": true
   },
   "outputs": [],
   "source": [
    "def showimg(img):\n",
    "    plt.figure(\"Image\")\n",
    "    plt.imshow(img,cmap='gray')\n",
    "    plt.axis('on')\n",
    "    plt.title('image')\n",
    "    plt.show()"
   ]
  },
  {
   "cell_type": "code",
   "execution_count": 4,
   "metadata": {
    "collapsed": false
   },
   "outputs": [
    {
     "name": "stdout",
     "output_type": "stream",
     "text": [
      "WARNING:tensorflow:From <ipython-input-4-a839aeb82f4b>:1: read_data_sets (from tensorflow.contrib.learn.python.learn.datasets.mnist) is deprecated and will be removed in a future version.\n",
      "Instructions for updating:\n",
      "Please use alternatives such as official/mnist/dataset.py from tensorflow/models.\n",
      "WARNING:tensorflow:From D:\\Anaconda3\\envs\\tensorflow\\lib\\site-packages\\tensorflow\\contrib\\learn\\python\\learn\\datasets\\mnist.py:260: maybe_download (from tensorflow.contrib.learn.python.learn.datasets.base) is deprecated and will be removed in a future version.\n",
      "Instructions for updating:\n",
      "Please write your own downloading logic.\n",
      "WARNING:tensorflow:From D:\\Anaconda3\\envs\\tensorflow\\lib\\site-packages\\tensorflow\\contrib\\learn\\python\\learn\\datasets\\mnist.py:262: extract_images (from tensorflow.contrib.learn.python.learn.datasets.mnist) is deprecated and will be removed in a future version.\n",
      "Instructions for updating:\n",
      "Please use tf.data to implement this functionality.\n",
      "Extracting MNIST_data/train-images-idx3-ubyte.gz\n",
      "WARNING:tensorflow:From D:\\Anaconda3\\envs\\tensorflow\\lib\\site-packages\\tensorflow\\contrib\\learn\\python\\learn\\datasets\\mnist.py:267: extract_labels (from tensorflow.contrib.learn.python.learn.datasets.mnist) is deprecated and will be removed in a future version.\n",
      "Instructions for updating:\n",
      "Please use tf.data to implement this functionality.\n",
      "Extracting MNIST_data/train-labels-idx1-ubyte.gz\n",
      "WARNING:tensorflow:From D:\\Anaconda3\\envs\\tensorflow\\lib\\site-packages\\tensorflow\\contrib\\learn\\python\\learn\\datasets\\mnist.py:110: dense_to_one_hot (from tensorflow.contrib.learn.python.learn.datasets.mnist) is deprecated and will be removed in a future version.\n",
      "Instructions for updating:\n",
      "Please use tf.one_hot on tensors.\n",
      "Extracting MNIST_data/t10k-images-idx3-ubyte.gz\n",
      "Extracting MNIST_data/t10k-labels-idx1-ubyte.gz\n",
      "WARNING:tensorflow:From D:\\Anaconda3\\envs\\tensorflow\\lib\\site-packages\\tensorflow\\contrib\\learn\\python\\learn\\datasets\\mnist.py:290: DataSet.__init__ (from tensorflow.contrib.learn.python.learn.datasets.mnist) is deprecated and will be removed in a future version.\n",
      "Instructions for updating:\n",
      "Please use alternatives such as official/mnist/dataset.py from tensorflow/models.\n"
     ]
    }
   ],
   "source": [
    "mnist = input_data.read_data_sets(\"MNIST_data/\", one_hot=True)"
   ]
  },
  {
   "cell_type": "code",
   "execution_count": 5,
   "metadata": {
    "collapsed": false
   },
   "outputs": [],
   "source": [
    "HIDDEN_SIZE=128\n",
    "INPUT_SIZE=787\n",
    "INPUT_NUMBER=128\n",
    "LAYER_NUMBER=4"
   ]
  },
  {
   "cell_type": "code",
   "execution_count": 6,
   "metadata": {
    "collapsed": false
   },
   "outputs": [],
   "source": [
    "def make_layer(INPUT_SIZE,HIDDEN_SIZE,LAYER_NUMBER):\n",
    "    x = tf.placeholder(tf.float32, [None, INPUT_SIZE])\n",
    "    weights={'W0':tf.Variable(tf.truncated_normal([INPUT_SIZE, HIDDEN_SIZE], stddev=0.1))}\n",
    "    bias={'b0':tf.Variable(tf.constant(0.1, shape=[HIDDEN_SIZE]))}\n",
    "    a={'a0':tf.nn.tanh(tf.matmul(x, weights['W0']) + bias['b0'])}\n",
    "    for i in range(1,LAYER_NUMBER+1):\n",
    "        weights['W'+str(i)] = tf.Variable(tf.truncated_normal([HIDDEN_SIZE, HIDDEN_SIZE], stddev=0.1))\n",
    "        bias['b' + str(i)] = tf.Variable(tf.constant(0.1, shape=[HIDDEN_SIZE]))\n",
    "        a['a' + str(i)] = tf.nn.tanh(tf.matmul(a['a' + str(i-1)],weights['W'+str(i)]) + bias['b' + str(i)])\n",
    "\n",
    "    weights['W' + str(LAYER_NUMBER+1)] = tf.Variable(tf.truncated_normal([HIDDEN_SIZE, 784], stddev=0.1))\n",
    "    bias['b' + str(LAYER_NUMBER+1)] = tf.Variable(tf.constant(0.1, shape=[784]))\n",
    "    y = tf.nn.sigmoid(tf.matmul(a['a' + str(LAYER_NUMBER)],weights['W'+str(LAYER_NUMBER+1)])\n",
    "                      + bias['b' + str(LAYER_NUMBER+1)])\n",
    "    return x,y \n",
    "x,y=make_layer(INPUT_SIZE,HIDDEN_SIZE,LAYER_NUMBER)"
   ]
  },
  {
   "cell_type": "code",
   "execution_count": 7,
   "metadata": {
    "collapsed": false
   },
   "outputs": [],
   "source": [
    "def make_index(NUM,INPUT_SIZE):\n",
    "    l=np.array([])\n",
    "    for i in range(NUM):\n",
    "        p=np.zeros((INPUT_SIZE))\n",
    "        b=bin(i)[2:]\n",
    "        _=len(b)-1\n",
    "        for k in b:\n",
    "            p[_]=k\n",
    "            _-=1\n",
    "        l=np.append(l,p)\n",
    "    return l.reshape(-1,INPUT_SIZE)"
   ]
  },
  {
   "cell_type": "code",
   "execution_count": 8,
   "metadata": {
    "collapsed": false
   },
   "outputs": [],
   "source": [
    "labels=tf.placeholder(tf.float32, [None, 784])\n",
    "loss=tf.losses.mean_squared_error(labels,y)\n",
    "train_step = tf.train.AdamOptimizer(0.00001).minimize(loss)\n",
    "sess = tf.InteractiveSession()\n",
    "tf.global_variables_initializer().run()"
   ]
  },
  {
   "cell_type": "code",
   "execution_count": 9,
   "metadata": {
    "collapsed": false
   },
   "outputs": [
    {
     "name": "stdout",
     "output_type": "stream",
     "text": [
      "(384, 787)\n",
      "(384, 784)\n"
     ]
    }
   ],
   "source": [
    "batch_xs, batch_ys = mnist.train.next_batch(INPUT_NUMBER)\n",
    "inp=[]\n",
    "tran=[]\n",
    "ind=np.zeros(3)\n",
    "for i in range(len(batch_xs)):\n",
    "    t_=batch_xs[i].reshape(28,28)\n",
    "    t_=t_.reshape(-1)\n",
    "    tran.append(t_)\n",
    "    z=ind\n",
    "    z[0]=1\n",
    "    inp_=np.append(batch_xs[i],z)\n",
    "    inp.append(inp_)\n",
    "for i in range(len(batch_xs)):\n",
    "    t_=batch_xs[i][::-1].reshape(28,28)\n",
    "    t_=t_.reshape(-1)\n",
    "    tran.append(t_)\n",
    "    z=ind\n",
    "    z[1]=1\n",
    "    inp_=np.append(batch_xs[i],z)\n",
    "    inp.append(inp_)\n",
    "for i in range(len(batch_xs)):\n",
    "    im=batch_xs[i].reshape(28,28)\n",
    "    im_=np.zeros((im.shape[1],im.shape[0]))\n",
    "    for j in range(im.shape[0]):\n",
    "        im_[:,-j]=im[j]\n",
    "    t_=im_\n",
    "    t_=t_.reshape(-1)\n",
    "    tran.append(t_)\n",
    "    z=ind\n",
    "    z[2]=1\n",
    "    inp_=np.append(batch_xs[i],z)\n",
    "    inp.append(inp_)\n",
    "inp=np.array(inp)\n",
    "tran=np.array(tran)\n",
    "print(inp.shape)\n",
    "print(tran.shape)\n"
   ]
  },
  {
   "cell_type": "code",
   "execution_count": 10,
   "metadata": {
    "collapsed": false,
    "scrolled": true
   },
   "outputs": [
    {
     "name": "stdout",
     "output_type": "stream",
     "text": [
      "0.25381708\n",
      "0.11316154\n",
      "0.08187275\n",
      "0.07528264\n",
      "0.07318223\n",
      "0.07231017\n",
      "0.071892895\n",
      "0.07167624\n",
      "0.07154413\n",
      "0.065749586\n",
      "0.060619276\n",
      "0.053889938\n",
      "0.049113244\n",
      "0.04540478\n",
      "0.041703913\n",
      "0.03815167\n",
      "0.034822885\n",
      "0.03142128\n",
      "0.028099878\n",
      "0.025300171\n",
      "0.022849124\n",
      "0.020616671\n",
      "0.018563682\n",
      "0.016680323\n",
      "0.014960448\n",
      "0.013392998\n",
      "0.011967217\n",
      "0.010682084\n",
      "0.009527617\n",
      "0.0084958\n",
      "0.007568995\n",
      "0.006735604\n",
      "0.0059854095\n",
      "0.0053188065\n",
      "0.0047219354\n",
      "0.004187796\n",
      "0.0037124944\n",
      "0.0032935617\n",
      "0.0029214933\n",
      "0.0025922204\n",
      "0.0023003656\n",
      "0.0020428458\n",
      "0.0018150036\n",
      "0.0016121091\n",
      "0.0014302125\n",
      "0.0012619627\n",
      "0.0011181296\n",
      "0.0009947736\n",
      "0.0008861883\n",
      "0.00079011073\n",
      "0.0007057957\n",
      "0.00063197454\n",
      "0.0005670074\n",
      "0.0005095289\n",
      "0.00045717807\n",
      "0.00041184964\n",
      "0.0003718867\n",
      "0.00033648833\n",
      "0.0003052275\n",
      "0.0002775324\n",
      "0.0002530059\n",
      "0.00023134312\n",
      "0.0002121188\n",
      "0.00019499366\n",
      "0.00017968124\n",
      "0.00016595643\n",
      "0.00015297231\n",
      "0.00014181327\n",
      "0.00013226981\n",
      "0.00012364284\n",
      "0.000115930176\n",
      "0.00010906625\n",
      "0.00010285524\n",
      "ITERATION:72491\n",
      "Elapsed time:  6.19 min\n"
     ]
    }
   ],
   "source": [
    "cost=1\n",
    "i=0\n",
    "start_time=time.time()\n",
    "while cost>0.0001:\n",
    "    unuse,cost=sess.run([train_step,loss],feed_dict={x:inp,labels:tran})\n",
    "    if i % 1000==0:\n",
    "        print(cost)\n",
    "    if i==500:\n",
    "        tpi=(time.time() - start_time)/500\n",
    "        print('TPI:'+str(tpi)+'sec')\n",
    "    i+=1\n",
    "print('ITERATION:'+str(i))\n",
    "print(\"Elapsed time: \", elapsed(time.time() - start_time))"
   ]
  },
  {
   "cell_type": "code",
   "execution_count": 11,
   "metadata": {
    "collapsed": false
   },
   "outputs": [],
   "source": [
    "newimg,lb=mnist.test.next_batch(1)\n",
    "newimg=newimg.reshape(-1)"
   ]
  },
  {
   "cell_type": "code",
   "execution_count": 12,
   "metadata": {
    "collapsed": false
   },
   "outputs": [
    {
     "name": "stdout",
     "output_type": "stream",
     "text": [
      "newimg:\n"
     ]
    },
    {
     "data": {
      "image/png": "[encoded data removed]",
      "text/plain": [
       "<matplotlib.figure.Figure at 0x2158629a4e0>"
      ]
     },
     "metadata": {},
     "output_type": "display_data"
    },
    {
     "name": "stdout",
     "output_type": "stream",
     "text": [
      "GROUND TRUTH1:\n"
     ]
    },
    {
     "data": {
      "image/png": "[encoded data removed]",
      "text/plain": [
       "<matplotlib.figure.Figure at 0x2158639a2e8>"
      ]
     },
     "metadata": {},
     "output_type": "display_data"
    },
    {
     "name": "stdout",
     "output_type": "stream",
     "text": [
      "TRANS1:\n"
     ]
    },
    {
     "data": {
      "image/png": "[encoded data removed]",
      "text/plain": [
       "<matplotlib.figure.Figure at 0x2158d39b208>"
      ]
     },
     "metadata": {},
     "output_type": "display_data"
    },
    {
     "name": "stdout",
     "output_type": "stream",
     "text": [
      "GROUND TRUTH2:\n"
     ]
    },
    {
     "data": {
      "image/png": "[encoded data removed]",
      "text/plain": [
       "<matplotlib.figure.Figure at 0x2158d3eaf28>"
      ]
     },
     "metadata": {},
     "output_type": "display_data"
    },
    {
     "name": "stdout",
     "output_type": "stream",
     "text": [
      "TRANS2:\n"
     ]
    },
    {
     "data": {
      "image/png": "[encoded data removed]",
      "text/plain": [
       "<matplotlib.figure.Figure at 0x2158d3a7780>"
      ]
     },
     "metadata": {},
     "output_type": "display_data"
    },
    {
     "name": "stdout",
     "output_type": "stream",
     "text": [
      "GROUND TRUTH3:\n"
     ]
    },
    {
     "data": {
      "image/png": "[encoded data removed]",
      "text/plain": [
       "<matplotlib.figure.Figure at 0x2158629a4a8>"
      ]
     },
     "metadata": {},
     "output_type": "display_data"
    },
    {
     "name": "stdout",
     "output_type": "stream",
     "text": [
      "TRANS3:\n"
     ]
    },
    {
     "data": {
      "image/png": "[encoded data removed]",
      "text/plain": [
       "<matplotlib.figure.Figure at 0x2158d458128>"
      ]
     },
     "metadata": {},
     "output_type": "display_data"
    }
   ],
   "source": [
    "z=np.zeros(3)\n",
    "print('newimg:')\n",
    "showimg(newimg.reshape(28,28))\n",
    "print('GROUND TRUTH1:')\n",
    "showimg(newimg.reshape(28,28))\n",
    "print('TRANS1:')\n",
    "k=z\n",
    "k[0]=1\n",
    "inpt=np.append(newimg,k).reshape(1,-1)\n",
    "oupt=sess.run(y,feed_dict={x:inpt})\n",
    "showimg(oupt.reshape(28,28))\n",
    "print('GROUND TRUTH2:')\n",
    "newimg1=newimg[::-1].reshape(28,28)\n",
    "newimg1=newimg1.reshape(-1)\n",
    "showimg(newimg1.reshape(28,28))\n",
    "print('TRANS2:')\n",
    "k=z\n",
    "k[1]=1\n",
    "inpt=np.append(newimg,k).reshape(1,-1)\n",
    "oupt=sess.run(y,feed_dict={x:inpt})\n",
    "showimg(oupt.reshape(28,28))\n",
    "print('GROUND TRUTH3:')\n",
    "im=newimg.reshape(28,28)\n",
    "im_=np.zeros((im.shape[1],im.shape[0]))\n",
    "for i in range(im.shape[0]):\n",
    "    im_[:,-i]=im[i]\n",
    "showimg(im_)\n",
    "print('TRANS3:')\n",
    "k=z\n",
    "k[2]=1\n",
    "inpt=np.append(newimg,k).reshape(1,-1)\n",
    "oupt=sess.run(y,feed_dict={x:inpt})\n",
    "showimg(oupt.reshape(28,28))"
   ]
  },
  {
   "cell_type": "code",
   "execution_count": 13,
   "metadata": {
    "collapsed": false
   },
   "outputs": [
    {
     "data": {
      "text/plain": [
       "(787,)"
      ]
     },
     "execution_count": 13,
     "metadata": {},
     "output_type": "execute_result"
    }
   ],
   "source": [
    "inpt=inp[0]\n",
    "inpt.shape"
   ]
  },
  {
   "cell_type": "code",
   "execution_count": 14,
   "metadata": {
    "collapsed": false
   },
   "outputs": [
    {
     "data": {
      "image/png": "[encoded data removed]",
      "text/plain": [
       "<matplotlib.figure.Figure at 0x21585e43be0>"
      ]
     },
     "metadata": {},
     "output_type": "display_data"
    }
   ],
   "source": [
    "inpt=inpt.reshape(-1)\n",
    "inpt[-1]=1\n",
    "inpt=inpt.reshape(1,-1)\n",
    "oupt=sess.run(y,feed_dict={x:inpt})\n",
    "showimg(oupt.reshape(28,28))"
   ]
  },
  {
   "cell_type": "code",
   "execution_count": 15,
   "metadata": {
    "collapsed": false
   },
   "outputs": [
    {
     "data": {
      "text/plain": [
       "array([0.        , 0.        , 0.        , 0.        , 0.        ,\n",
       "       0.        , 0.        , 0.        , 0.        , 0.        ,\n",
       "       0.        , 0.        , 0.        , 0.        , 0.        ,\n",
       "       0.        , 0.        , 0.        , 0.        , 0.        ,\n",
       "       0.        , 0.        , 0.        , 0.        , 0.        ,\n",
       "       0.        , 0.        , 0.        , 0.        , 0.        ,\n",
       "       0.        , 0.        , 0.        , 0.        , 0.        ,\n",
       "       0.        , 0.        , 0.        , 0.        , 0.        ,\n",
       "       0.        , 0.        , 0.        , 0.        , 0.        ,\n",
       "       0.        , 0.        , 0.        , 0.        , 0.        ,\n",
       "       0.        , 0.        , 0.        , 0.        , 0.        ,\n",
       "       0.        , 0.        , 0.        , 0.        , 0.        ,\n",
       "       0.        , 0.        , 0.        , 0.        , 0.        ,\n",
       "       0.        , 0.        , 0.        , 0.        , 0.        ,\n",
       "       0.        , 0.        , 0.        , 0.05882353, 0.96470594,\n",
       "       1.        , 0.47450984, 0.00392157, 0.        , 0.        ,\n",
       "       0.        , 0.        , 0.        , 0.        , 0.        ,\n",
       "       0.        , 0.        , 0.        , 0.        , 0.        ,\n",
       "       0.        , 0.        , 0.        , 0.        , 0.        ,\n",
       "       0.        , 0.        , 0.        , 0.        , 0.        ,\n",
       "       0.        , 0.50980395, 0.99215692, 0.99215692, 0.7019608 ,\n",
       "       0.00784314, 0.        , 0.        , 0.        , 0.        ,\n",
       "       0.        , 0.        , 0.        , 0.        , 0.        ,\n",
       "       0.        , 0.        , 0.        , 0.        , 0.        ,\n",
       "       0.        , 0.        , 0.        , 0.        , 0.        ,\n",
       "       0.        , 0.        , 0.        , 0.21568629, 0.96862751,\n",
       "       0.99215692, 0.99215692, 0.21960786, 0.        , 0.        ,\n",
       "       0.        , 0.        , 0.        , 0.        , 0.        ,\n",
       "       0.        , 0.        , 0.        , 0.        , 0.        ,\n",
       "       0.        , 0.        , 0.        , 0.        , 0.        ,\n",
       "       0.        , 0.        , 0.        , 0.        , 0.        ,\n",
       "       0.1254902 , 0.8588236 , 0.99215692, 0.99215692, 0.76862752,\n",
       "       0.06666667, 0.        , 0.        , 0.        , 0.        ,\n",
       "       0.        , 0.        , 0.        , 0.        , 0.        ,\n",
       "       0.        , 0.        , 0.        , 0.        , 0.        ,\n",
       "       0.        , 0.        , 0.        , 0.        , 0.        ,\n",
       "       0.        , 0.        , 0.        , 0.64313728, 0.99215692,\n",
       "       0.99215692, 0.96078438, 0.21568629, 0.        , 0.        ,\n",
       "       0.        , 0.        , 0.        , 0.        , 0.        ,\n",
       "       0.        , 0.        , 0.        , 0.        , 0.        ,\n",
       "       0.        , 0.        , 0.        , 0.        , 0.        ,\n",
       "       0.        , 0.        , 0.        , 0.        , 0.        ,\n",
       "       0.52156866, 0.98823535, 0.99215692, 0.99215692, 0.30980393,\n",
       "       0.        , 0.        , 0.        , 0.        , 0.        ,\n",
       "       0.        , 0.        , 0.        , 0.        , 0.        ,\n",
       "       0.        , 0.        , 0.        , 0.        , 0.        ,\n",
       "       0.        , 0.        , 0.        , 0.        , 0.        ,\n",
       "       0.        , 0.        , 0.21568629, 0.91372555, 0.99215692,\n",
       "       0.99215692, 0.67450982, 0.01568628, 0.        , 0.        ,\n",
       "       0.        , 0.        , 0.        , 0.        , 0.        ,\n",
       "       0.        , 0.        , 0.        , 0.        , 0.        ,\n",
       "       0.        , 0.        , 0.        , 0.        , 0.        ,\n",
       "       0.        , 0.        , 0.        , 0.        , 0.19607845,\n",
       "       0.90980399, 0.99215692, 0.99215692, 0.81568635, 0.04705883,\n",
       "       0.        , 0.        , 0.        , 0.        , 0.        ,\n",
       "       0.        , 0.        , 0.        , 0.        , 0.        ,\n",
       "       0.        , 0.        , 0.        , 0.        , 0.        ,\n",
       "       0.        , 0.        , 0.        , 0.        , 0.        ,\n",
       "       0.        , 0.34117648, 0.95294124, 0.99215692, 0.99215692,\n",
       "       0.92549026, 0.20784315, 0.        , 0.00784314, 0.06666667,\n",
       "       0.06666667, 0.06666667, 0.04705883, 0.        , 0.        ,\n",
       "       0.        , 0.        , 0.        , 0.        , 0.        ,\n",
       "       0.        , 0.        , 0.        , 0.        , 0.        ,\n",
       "       0.        , 0.        , 0.        , 0.21568629, 0.90980399,\n",
       "       0.99215692, 0.99215692, 0.91764712, 0.38431376, 0.        ,\n",
       "       0.08235294, 0.65882355, 0.99215692, 0.99215692, 0.99215692,\n",
       "       0.89411771, 0.18431373, 0.        , 0.        , 0.        ,\n",
       "       0.        , 0.        , 0.        , 0.        , 0.        ,\n",
       "       0.        , 0.        , 0.        , 0.        , 0.        ,\n",
       "       0.18823531, 0.91372555, 0.99215692, 0.99215692, 0.91764712,\n",
       "       0.22352943, 0.55686277, 0.7843138 , 0.86666673, 0.99215692,\n",
       "       0.99215692, 0.99215692, 0.99215692, 0.99215692, 0.90588242,\n",
       "       0.        , 0.        , 0.        , 0.        , 0.        ,\n",
       "       0.        , 0.        , 0.        , 0.        , 0.        ,\n",
       "       0.        , 0.        , 0.02745098, 0.69411767, 0.99215692,\n",
       "       0.99215692, 0.99215692, 0.89019614, 0.84705889, 0.99215692,\n",
       "       0.99215692, 0.99215692, 0.99215692, 0.99215692, 0.99215692,\n",
       "       0.99215692, 0.99215692, 0.77647066, 0.        , 0.        ,\n",
       "       0.        , 0.        , 0.        , 0.        , 0.        ,\n",
       "       0.        , 0.        , 0.        , 0.        , 0.04313726,\n",
       "       0.65882355, 0.99215692, 0.99215692, 0.99215692, 0.99215692,\n",
       "       0.99215692, 0.99215692, 0.99215692, 0.93725497, 0.76078439,\n",
       "       0.53333336, 0.33725491, 0.60392159, 0.99215692, 0.99215692,\n",
       "       0.29019609, 0.        , 0.        , 0.        , 0.        ,\n",
       "       0.        , 0.        , 0.        , 0.        , 0.        ,\n",
       "       0.        , 0.01176471, 0.66666669, 0.99215692, 0.99215692,\n",
       "       0.99215692, 0.99215692, 0.99215692, 0.99215692, 0.99215692,\n",
       "       0.96078438, 0.29019609, 0.        , 0.        , 0.26274511,\n",
       "       0.81176478, 0.99215692, 0.99215692, 0.14509805, 0.        ,\n",
       "       0.        , 0.        , 0.        , 0.        , 0.        ,\n",
       "       0.        , 0.        , 0.        , 0.        , 0.43137258,\n",
       "       0.99215692, 0.99215692, 0.99215692, 0.99215692, 0.99215692,\n",
       "       0.99215692, 0.99215692, 0.75686282, 0.24313727, 0.        ,\n",
       "       0.        , 0.33333334, 0.84705889, 0.99215692, 0.98039222,\n",
       "       0.47450984, 0.00784314, 0.        , 0.        , 0.        ,\n",
       "       0.        , 0.        , 0.        , 0.        , 0.        ,\n",
       "       0.        , 0.07843138, 0.76862752, 0.99215692, 0.99215692,\n",
       "       0.99215692, 0.99215692, 0.99215692, 0.97647065, 0.47058827,\n",
       "       0.06666667, 0.02352941, 0.35686275, 0.67843139, 0.98039222,\n",
       "       0.99215692, 0.99215692, 0.47058827, 0.        , 0.        ,\n",
       "       0.        , 0.        , 0.        , 0.        , 0.        ,\n",
       "       0.        , 0.        , 0.        , 0.        , 0.65098041,\n",
       "       0.99215692, 0.99215692, 0.99215692, 0.99215692, 0.99215692,\n",
       "       0.99215692, 0.25098041, 0.40784317, 0.73725492, 0.84313732,\n",
       "       0.99215692, 0.99215692, 0.99215692, 0.71764708, 0.41960788,\n",
       "       0.00392157, 0.        , 0.        , 0.        , 0.        ,\n",
       "       0.        , 0.        , 0.        , 0.        , 0.        ,\n",
       "       0.        , 0.14117648, 0.87450987, 0.99215692, 0.99215692,\n",
       "       0.99215692, 0.99215692, 0.99215692, 0.99215692, 0.98039222,\n",
       "       0.99215692, 0.99215692, 0.99215692, 0.99215692, 0.89019614,\n",
       "       0.23529413, 0.00784314, 0.        , 0.        , 0.        ,\n",
       "       0.        , 0.        , 0.        , 0.        , 0.        ,\n",
       "       0.        , 0.        , 0.        , 0.        , 0.87450987,\n",
       "       0.99215692, 0.99215692, 0.99215692, 0.99215692, 0.99215692,\n",
       "       0.99215692, 0.99215692, 0.99215692, 0.99215692, 0.99215692,\n",
       "       0.73333335, 0.43921572, 0.05882353, 0.        , 0.        ,\n",
       "       0.        , 0.        , 0.        , 0.        , 0.        ,\n",
       "       0.        , 0.        , 0.        , 0.        , 0.        ,\n",
       "       0.        , 0.        , 0.14901961, 0.14509805, 0.14509805,\n",
       "       0.14509805, 0.28235295, 0.56862748, 0.56862748, 0.56862748,\n",
       "       0.5411765 , 0.14509805, 0.14509805, 0.01176471, 0.        ,\n",
       "       0.        , 0.        , 0.        , 0.        , 0.        ,\n",
       "       0.        , 0.        , 0.        , 0.        , 0.        ,\n",
       "       0.        , 0.        , 0.        , 0.        , 0.        ,\n",
       "       0.        , 0.        , 0.        , 0.        , 0.        ,\n",
       "       0.        , 0.        , 0.        , 0.        , 0.        ,\n",
       "       0.        , 0.        , 0.        , 0.        , 0.        ,\n",
       "       0.        , 0.        , 0.        , 0.        , 0.        ,\n",
       "       0.        , 0.        , 0.        , 0.        , 0.        ,\n",
       "       0.        , 0.        , 0.        , 0.        , 0.        ,\n",
       "       0.        , 0.        , 0.        , 0.        , 0.        ,\n",
       "       0.        , 0.        , 0.        , 0.        , 0.        ,\n",
       "       0.        , 0.        , 0.        , 0.        , 0.        ,\n",
       "       0.        , 0.        , 0.        , 0.        , 0.        ,\n",
       "       0.        , 0.        , 0.        , 0.        , 0.        ,\n",
       "       0.        , 0.        , 0.        , 0.        , 0.        ,\n",
       "       0.        , 0.        , 0.        , 0.        , 0.        ,\n",
       "       0.        , 0.        , 0.        , 0.        , 0.        ,\n",
       "       0.        , 0.        , 0.        , 0.        , 0.        ,\n",
       "       0.        , 0.        , 0.        , 0.        , 0.        ,\n",
       "       0.        , 0.        , 0.        , 0.        , 0.        ,\n",
       "       0.        , 0.        , 0.        , 0.        , 0.        ,\n",
       "       0.        , 0.        , 0.        , 0.        , 0.        ,\n",
       "       0.        , 0.        , 0.        , 0.        , 0.        ,\n",
       "       0.        , 0.        , 0.        , 0.        , 0.        ,\n",
       "       0.        , 0.        , 0.        , 0.        , 0.        ,\n",
       "       0.        , 0.        , 0.        , 0.        , 0.        ,\n",
       "       0.        , 0.        , 0.        , 0.        , 0.        ,\n",
       "       0.        , 0.        , 0.        , 0.        , 0.        ,\n",
       "       0.        , 0.        , 0.        , 0.        , 0.        ,\n",
       "       0.        , 0.        , 0.        , 0.        , 0.        ,\n",
       "       0.        , 0.        , 0.        , 0.        , 0.        ,\n",
       "       0.        , 0.        , 0.        , 0.        , 0.        ,\n",
       "       0.        , 0.        , 0.        , 0.        , 0.        ,\n",
       "       0.        , 0.        , 0.        , 0.        , 0.        ,\n",
       "       0.        , 0.        , 0.        , 0.        , 0.        ,\n",
       "       0.        , 0.        , 0.        , 0.        , 1.        ,\n",
       "       0.        , 1.        ])"
      ]
     },
     "execution_count": 15,
     "metadata": {},
     "output_type": "execute_result"
    }
   ],
   "source": [
    "inpt[-1]"
   ]
  },
  {
   "cell_type": "code",
   "execution_count": 16,
   "metadata": {
    "collapsed": false
   },
   "outputs": [
    {
     "data": {
      "image/png": "[encoded data removed]",
      "text/plain": [
       "<matplotlib.figure.Figure at 0x21586268ef0>"
      ]
     },
     "metadata": {},
     "output_type": "display_data"
    }
   ],
   "source": [
    "oupt=sess.run(y,feed_dict={x:inp[256].reshape(1,-1)})\n",
    "showimg(oupt.reshape(28,28))"
   ]
  },
  {
   "cell_type": "code",
   "execution_count": null,
   "metadata": {
    "collapsed": true
   },
   "outputs": [],
   "source": []
  }
 ],
 "metadata": {
  "anaconda-cloud": {},
  "kernelspec": {
   "display_name": "Python [conda env:tensorflow]",
   "language": "python",
   "name": "conda-env-tensorflow-py"
  },
  "language_info": {
   "codemirror_mode": {
    "name": "ipython",
    "version": 3
   },
   "file_extension": ".py",
   "mimetype": "text/x-python",
   "name": "python",
   "nbconvert_exporter": "python",
   "pygments_lexer": "ipython3",
   "version": "3.5.4"
  }
 },
 "nbformat": 4,
 "nbformat_minor": 1
}
