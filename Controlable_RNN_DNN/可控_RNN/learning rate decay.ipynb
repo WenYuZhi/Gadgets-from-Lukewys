{
 "cells": [
  {
   "cell_type": "code",
   "execution_count": 1,
   "metadata": {
    "collapsed": false
   },
   "outputs": [
    {
     "name": "stdout",
     "output_type": "stream",
     "text": [
      "WARNING:tensorflow:From D:\\Anaconda3\\envs\\tensorflow\\lib\\site-packages\\tensorflow\\contrib\\learn\\python\\learn\\datasets\\base.py:198: retry (from tensorflow.contrib.learn.python.learn.datasets.base) is deprecated and will be removed in a future version.\n",
      "Instructions for updating:\n",
      "Use the retry module or similar alternatives.\n"
     ]
    }
   ],
   "source": [
    "from tensorflow.examples.tutorials.mnist import input_data\n",
    "import tensorflow as tf\n",
    "from tensorflow.contrib import rnn\n",
    "import numpy as np\n",
    "import matplotlib.pyplot as plt\n",
    "import time\n",
    "def elapsed(sec):\n",
    "    if sec < 60:\n",
    "        return \"{:.2f}\".format(sec) + \" sec\"\n",
    "    elif sec < (60 * 60):\n",
    "        return \"{:.2f}\".format(sec / 60) + \" min\"\n",
    "    else:\n",
    "        return \"{:.2f}\".format(sec / (60 * 60)) + \" hr\"\n",
    "def showimg(img):\n",
    "    plt.figure(\"Image\")\n",
    "    plt.imshow(img,cmap='gray')\n",
    "    plt.axis('on')\n",
    "    plt.title('image')\n",
    "    plt.show()"
   ]
  },
  {
   "cell_type": "code",
   "execution_count": 2,
   "metadata": {
    "collapsed": false
   },
   "outputs": [],
   "source": [
    "MSE=tf.Variable(1.0)\n",
    "global_step = tf.Variable(0)\n",
    "learning_rate = tf.train.exponential_decay(1e-2,global_step,100, 0.96, staircase=True) \n",
    "train_step = tf.train.GradientDescentOptimizer(learning_rate).minimize(MSE,global_step=global_step)"
   ]
  },
  {
   "cell_type": "code",
   "execution_count": 3,
   "metadata": {
    "collapsed": false
   },
   "outputs": [],
   "source": [
    "sess=tf.Session()\n",
    "sess.run(tf.global_variables_initializer())"
   ]
  },
  {
   "cell_type": "code",
   "execution_count": 5,
   "metadata": {
    "collapsed": false
   },
   "outputs": [
    {
     "name": "stdout",
     "output_type": "stream",
     "text": [
      "0.01\n",
      "0.0095999995\n",
      "0.009215999\n",
      "0.008847359\n",
      "0.008493464\n",
      "0.008153725\n",
      "0.007827576\n",
      "0.007514473\n",
      "0.0072138947\n",
      "0.0069253384\n"
     ]
    }
   ],
   "source": [
    "for i in range (1000):\n",
    "    _=sess.run(train_step)\n",
    "    if i % 100==0:\n",
    "        print(sess.run(learning_rate))\n",
    "    i+=1"
   ]
  },
  {
   "cell_type": "code",
   "execution_count": null,
   "metadata": {
    "collapsed": true
   },
   "outputs": [],
   "source": []
  }
 ],
 "metadata": {
  "anaconda-cloud": {},
  "kernelspec": {
   "display_name": "Python [conda env:tensorflow]",
   "language": "python",
   "name": "conda-env-tensorflow-py"
  },
  "language_info": {
   "codemirror_mode": {
    "name": "ipython",
    "version": 3
   },
   "file_extension": ".py",
   "mimetype": "text/x-python",
   "name": "python",
   "nbconvert_exporter": "python",
   "pygments_lexer": "ipython3",
   "version": "3.5.4"
  }
 },
 "nbformat": 4,
 "nbformat_minor": 1
}
