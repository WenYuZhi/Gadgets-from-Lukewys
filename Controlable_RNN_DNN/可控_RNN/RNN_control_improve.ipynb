{
 "cells": [
  {
   "cell_type": "code",
   "execution_count": null,
   "metadata": {
    "collapsed": false
   },
   "outputs": [],
   "source": [
    "from tensorflow.examples.tutorials.mnist import input_data\n",
    "import tensorflow as tf\n",
    "from tensorflow.contrib import rnn\n",
    "import numpy as np\n",
    "import matplotlib.pyplot as plt\n",
    "import time\n",
    "def elapsed(sec):\n",
    "    if sec < 60:\n",
    "        return \"{:.2f}\".format(sec) + \" sec\"\n",
    "    elif sec < (60 * 60):\n",
    "        return \"{:.2f}\".format(sec / 60) + \" min\"\n",
    "    else:\n",
    "        return \"{:.2f}\".format(sec / (60 * 60)) + \" hr\"\n",
    "def showimg(img):\n",
    "    plt.figure(\"Image\")\n",
    "    plt.imshow(img,cmap='gray')\n",
    "    plt.axis('on')\n",
    "    plt.title('image')\n",
    "    plt.show()\n"
   ]
  },
  {
   "cell_type": "code",
   "execution_count": null,
   "metadata": {
    "collapsed": false
   },
   "outputs": [],
   "source": [
    "mnist = input_data.read_data_sets(\"MNIST_data/\", one_hot=True)"
   ]
  },
  {
   "cell_type": "code",
   "execution_count": null,
   "metadata": {
    "collapsed": true
   },
   "outputs": [],
   "source": [
    "HIDDEN_SIZE=512\n",
    "INPUT_SIZE=31\n",
    "OUTPUT_SIZE=784\n",
    "BATCH_SIZE=128\n",
    "NUM_LAYERS=2\n",
    "TIMESTEPS=28\n",
    "INDEX_WEIGHT=1\n",
    "is_training = tf.placeholder(tf.bool)"
   ]
  },
  {
   "cell_type": "code",
   "execution_count": null,
   "metadata": {
    "collapsed": true
   },
   "outputs": [],
   "source": [
    "def LstmCell(HIDDEN_SIZE):\n",
    "    # lstm_cell = rnn.BasicLSTMCell(HIDDEN_SIZE)\n",
    "    lstm_cell = rnn.LSTMCell(HIDDEN_SIZE)\n",
    "    return lstm_cell\n",
    "\n",
    "\n",
    "def RNN(x, weights, biases, HIDDEN_SIZE, TIMESTEPS, NUM_LAYERS):\n",
    "    x = tf.reshape(x, [-1, TIMESTEPS])\n",
    "    x = tf.split(x, TIMESTEPS, 1)\n",
    "    rnn_cell = rnn.MultiRNNCell([LstmCell(HIDDEN_SIZE) for _ in range(NUM_LAYERS)])\n",
    "    outputs, states = rnn.static_rnn(rnn_cell, x, dtype=tf.float32)\n",
    "    return tf.matmul(outputs[-1], weights['out']) + biases['out']\n",
    "\n",
    "\n",
    "def RNN_onehot_in(x, weights, biases, HIDDEN_SIZE, INPUT_SIZE, TIMESTEPS, NUM_LAYERS,is_training):\n",
    "    x = tf.transpose(x, [1, 0, 2])\n",
    "    x = tf.reshape(x, [-1, INPUT_SIZE])\n",
    "    x = tf.tanh(tf.matmul(x, weights['in']) + biases['in'])\n",
    "    x = tf.layers.batch_normalization(x, training=is_training)\n",
    "    x = tf.split(x, TIMESTEPS, 0)\n",
    "    rnn_cell = rnn.MultiRNNCell([LstmCell(HIDDEN_SIZE) for _ in range(NUM_LAYERS)])\n",
    "    outputs, states = rnn.static_rnn(rnn_cell, x, dtype=tf.float32)\n",
    "    y=tf.nn.sigmoid(tf.matmul(outputs[-1], weights['out']) + biases['out'])\n",
    "    cache={'x':x,'outputs':outputs,'states':states}\n",
    "    return y,cache"
   ]
  },
  {
   "cell_type": "code",
   "execution_count": null,
   "metadata": {
    "collapsed": false
   },
   "outputs": [],
   "source": [
    "def prepbatch(BATCH_SIZE,INDEX_WEIGHT):\n",
    "    batch_xs, batch_ys = mnist.train.next_batch(BATCH_SIZE)\n",
    "    inp=[]\n",
    "    tran=[]\n",
    "    ind=np.zeros(3)\n",
    "    for i in range(len(batch_xs)):\n",
    "        t_=batch_xs[i].reshape(28,28)\n",
    "        t_=t_.reshape(-1)\n",
    "        tran.append(t_)\n",
    "        z=ind\n",
    "        z[0]=INDEX_WEIGHT\n",
    "        z=np.tile(z,28).reshape(28,-1)\n",
    "        inp_=np.append(batch_xs[i].reshape(28,28),z,axis=1)\n",
    "        inp.append(inp_)\n",
    "    for i in range(len(batch_xs)):\n",
    "        t_=batch_xs[i][::-1].reshape(28,28)\n",
    "        t_=t_.reshape(-1)\n",
    "        tran.append(t_)\n",
    "        z=ind\n",
    "        z[1]=INDEX_WEIGHT\n",
    "        z=np.tile(z,28).reshape(28,-1)\n",
    "        inp_=np.append(batch_xs[i].reshape(28,28),z,axis=1)\n",
    "        inp.append(inp_)\n",
    "    for i in range(len(batch_xs)):\n",
    "        im=batch_xs[i].reshape(28,28)\n",
    "        im_=np.zeros((im.shape[1],im.shape[0]))\n",
    "        for j in range(im.shape[0]):\n",
    "            im_[:,-j]=im[j]\n",
    "        t_=im_\n",
    "        t_=t_.reshape(-1)\n",
    "        tran.append(t_)\n",
    "        z=ind\n",
    "        z[2]=INDEX_WEIGHT\n",
    "        z=np.tile(z,28).reshape(28,-1)\n",
    "        inp_=np.append(batch_xs[i].reshape(28,28),z,axis=1)\n",
    "        inp.append(inp_)\n",
    "    inp=np.array(inp).reshape(-1,28,31)\n",
    "    tran=np.array(tran).reshape(-1,784)\n",
    "    return inp,tran"
   ]
  },
  {
   "cell_type": "code",
   "execution_count": null,
   "metadata": {
    "collapsed": true
   },
   "outputs": [],
   "source": [
    "global_step = tf.Variable(0)\n",
    "learning_rate = tf.train.exponential_decay(0.001,global_step,2000, 0.98, staircase=True) "
   ]
  },
  {
   "cell_type": "code",
   "execution_count": null,
   "metadata": {
    "collapsed": false
   },
   "outputs": [],
   "source": [
    "x = tf.placeholder(\"float\", [None, TIMESTEPS, INPUT_SIZE])\n",
    "labels=tf.placeholder(tf.float32, [None, 784])\n",
    "\n",
    "weights = {\n",
    "    'out': tf.Variable(tf.random_normal([HIDDEN_SIZE, OUTPUT_SIZE])),\n",
    "    'in': tf.Variable(tf.random_normal([INPUT_SIZE, HIDDEN_SIZE]))\n",
    "}\n",
    "biases = {\n",
    "    'out': tf.Variable(tf.random_normal([OUTPUT_SIZE])),\n",
    "    'in': tf.Variable(tf.random_normal([HIDDEN_SIZE]))\n",
    "}\n",
    "\n",
    "sess = tf.InteractiveSession()\n",
    "y,cache = RNN_onehot_in(x, weights, biases, HIDDEN_SIZE, INPUT_SIZE, TIMESTEPS, NUM_LAYERS,is_training)\n",
    "loss=tf.losses.mean_squared_error(labels,y)\n",
    "with tf.control_dependencies(tf.get_collection(tf.GraphKeys.UPDATE_OPS)):\n",
    "    optimizer = tf.train.AdamOptimizer(learning_rate=learning_rate).minimize(loss,global_step=global_step)\n",
    "init = tf.global_variables_initializer()\n",
    "sess.run(init)"
   ]
  },
  {
   "cell_type": "code",
   "execution_count": null,
   "metadata": {
    "collapsed": true
   },
   "outputs": [],
   "source": [
    "def showtrain(num,INDEX_WEIGHT):\n",
    "    for j in range(num):\n",
    "        print('TRAIN SET:')\n",
    "        batch_xs,unuse=mnist.train.next_batch(1)\n",
    "        newimg=batch_xs.reshape(-1)\n",
    "        ind=np.zeros(3)\n",
    "        plt.subplot(231)\n",
    "        plt.imshow(newimg.reshape(28,28),cmap='gray')\n",
    "        z=ind\n",
    "        z[0]=INDEX_WEIGHT\n",
    "        z=np.tile(z,28).reshape(28,-1)\n",
    "        inpt=np.append(newimg.reshape(28,28),z,axis=1)\n",
    "        inpt=inpt.reshape(1,28,-1)\n",
    "        oupt=sess.run(y,feed_dict={x:inpt,is_training:False})\n",
    "        plt.subplot(234)\n",
    "        plt.imshow(oupt.reshape(28,28),cmap='gray')\n",
    "        newimg1=newimg[::-1].reshape(28,28)\n",
    "        newimg1=newimg1.reshape(-1)\n",
    "        plt.subplot(232)\n",
    "        plt.imshow(newimg1.reshape(28,28),cmap='gray')\n",
    "        z=ind\n",
    "        z[1]=INDEX_WEIGHT\n",
    "        z=np.tile(z,28).reshape(28,-1)\n",
    "        inpt=np.append(newimg.reshape(28,28),z,axis=1)\n",
    "        inpt=inpt.reshape(1,28,-1)\n",
    "        oupt=sess.run(y,feed_dict={x:inpt,is_training:False})\n",
    "        plt.subplot(235)\n",
    "        plt.imshow(oupt.reshape(28,28),cmap='gray')\n",
    "        im=newimg.reshape(28,28)\n",
    "        im_=np.zeros((im.shape[1],im.shape[0]))\n",
    "        for i in range(im.shape[0]):\n",
    "            im_[:,-i]=im[i]\n",
    "        plt.subplot(233)\n",
    "        plt.imshow(im_.reshape(28,28),cmap='gray')\n",
    "        z=ind\n",
    "        z[2]=INDEX_WEIGHT\n",
    "        z=np.tile(z,28).reshape(28,-1)\n",
    "        inpt=np.append(newimg.reshape(28,28),z,axis=1)\n",
    "        inpt=inpt.reshape(1,28,-1)\n",
    "        oupt=sess.run(y,feed_dict={x:inpt,is_training:False})\n",
    "        plt.subplot(236)\n",
    "        plt.imshow(oupt.reshape(28,28),cmap='gray')\n",
    "        plt.show()\n",
    "def showtest(num,INDEX_WEIGHT):\n",
    "    print('TEST SET:')\n",
    "    for j in range(num):\n",
    "        newimg,lb=mnist.test.next_batch(1)\n",
    "        newimg=newimg.reshape(-1)\n",
    "        ind=np.zeros(3)\n",
    "        #print('GROUND TRUTH1:')\n",
    "        #showimg(newimg.reshape(28,28))\n",
    "        plt.subplot(231)\n",
    "        plt.imshow(newimg.reshape(28,28),cmap='gray')\n",
    "        #print('TRANS1:')\n",
    "        z=ind\n",
    "        z[0]=INDEX_WEIGHT\n",
    "        z=np.tile(z,28).reshape(28,-1)\n",
    "        inpt=np.append(newimg.reshape(28,28),z,axis=1)\n",
    "        inpt=inpt.reshape(1,28,-1)\n",
    "        oupt=sess.run(y,feed_dict={x:inpt,is_training:False})\n",
    "        plt.subplot(234)\n",
    "        plt.imshow(oupt.reshape(28,28),cmap='gray')\n",
    "        #showimg(oupt.reshape(28,28))\n",
    "        #print('GROUND TRUTH2:')\n",
    "        newimg1=newimg[::-1].reshape(28,28)\n",
    "        newimg1=newimg1.reshape(-1)\n",
    "        #showimg(newimg1.reshape(28,28))\n",
    "        plt.subplot(232)\n",
    "        plt.imshow(newimg1.reshape(28,28),cmap='gray')\n",
    "        #print('TRANS2:')\n",
    "        z=ind\n",
    "        z[1]=INDEX_WEIGHT\n",
    "        z=np.tile(z,28).reshape(28,-1)\n",
    "        inpt=np.append(newimg.reshape(28,28),z,axis=1)\n",
    "        inpt=inpt.reshape(1,28,-1)\n",
    "        oupt=sess.run(y,feed_dict={x:inpt,is_training:False})\n",
    "        #showimg(oupt.reshape(28,28))\n",
    "        plt.subplot(235)\n",
    "        plt.imshow(oupt.reshape(28,28),cmap='gray')\n",
    "        #print('GROUND TRUTH3:')\n",
    "        im=newimg.reshape(28,28)\n",
    "        im_=np.zeros((im.shape[1],im.shape[0]))\n",
    "        for i in range(im.shape[0]):\n",
    "            im_[:,-i]=im[i]\n",
    "        #showimg(im_)\n",
    "        plt.subplot(233)\n",
    "        plt.imshow(im_.reshape(28,28),cmap='gray')\n",
    "        #print('TRANS3:')\n",
    "        z=ind\n",
    "        z[2]=INDEX_WEIGHT\n",
    "        z=np.tile(z,28).reshape(28,-1)\n",
    "        inpt=np.append(newimg.reshape(28,28),z,axis=1)\n",
    "        inpt=inpt.reshape(1,28,-1)\n",
    "        oupt=sess.run(y,feed_dict={x:inpt,is_training:False})\n",
    "        #showimg(oupt.reshape(28,28))\n",
    "        plt.subplot(236)\n",
    "        plt.imshow(oupt.reshape(28,28),cmap='gray')\n",
    "        plt.show()"
   ]
  },
  {
   "cell_type": "code",
   "execution_count": null,
   "metadata": {
    "collapsed": false,
    "scrolled": true
   },
   "outputs": [],
   "source": [
    "cost=1\n",
    "i=0\n",
    "start_time=time.time()\n",
    "while cost>0.000001:\n",
    "    inp,tran=prepbatch(BATCH_SIZE,INDEX_WEIGHT)\n",
    "    unuse,cost=sess.run([optimizer,loss],feed_dict={x:inp,labels:tran,is_training:True})\n",
    "    if i % 1000==0:\n",
    "        print(cost)\n",
    "    if i==500:\n",
    "        tpi=(time.time() - start_time)/500\n",
    "        print('TPI:'+str(tpi)+'sec')\n",
    "    if i%5000==0:\n",
    "        showtrain(2,INDEX_WEIGHT)\n",
    "        showtest(2,INDEX_WEIGHT)\n",
    "\n",
    "    i+=1\n",
    "print('ITERATION:'+str(i))\n",
    "print(\"Elapsed time: \", elapsed(time.time() - start_time))"
   ]
  },
  {
   "cell_type": "code",
   "execution_count": null,
   "metadata": {
    "collapsed": false
   },
   "outputs": [],
   "source": [
    "print('IMAGE_TRAINING_SET:')\n",
    "showimg(newimg.reshape(28,28))\n",
    "print('GROUND TRUTH1:')\n",
    "showimg(newimg.reshape(28,28))\n",
    "print('TRANS1:')\n",
    "z=ind\n",
    "z[0]=1\n",
    "z=np.tile(z,28).reshape(28,-1)\n",
    "inpt=np.append(newimg.reshape(28,28),z,axis=1)\n",
    "inpt=inpt.reshape(1,28,-1)\n",
    "oupt=sess.run(y,feed_dict={x:inpt})\n",
    "showimg(oupt.reshape(28,28))\n",
    "print('GROUND TRUTH2:')\n",
    "newimg1=newimg[::-1].reshape(28,28)\n",
    "newimg1=newimg1.reshape(-1)\n",
    "showimg(newimg1.reshape(28,28))\n",
    "print('TRANS2:')\n",
    "z=ind\n",
    "z[1]=1\n",
    "z=np.tile(z,28).reshape(28,-1)\n",
    "inpt=np.append(newimg.reshape(28,28),z,axis=1)\n",
    "inpt=inpt.reshape(1,28,-1)\n",
    "oupt=sess.run(y,feed_dict={x:inpt})\n",
    "showimg(oupt.reshape(28,28))\n",
    "print('GROUND TRUTH3:')\n",
    "im=newimg.reshape(28,28)\n",
    "im_=np.zeros((im.shape[1],im.shape[0]))\n",
    "for i in range(im.shape[0]):\n",
    "    im_[:,-i]=im[i]\n",
    "showimg(im_)\n",
    "print('TRANS3:')\n",
    "z=ind\n",
    "z[2]=1\n",
    "z=np.tile(z,28).reshape(28,-1)\n",
    "inpt=np.append(newimg.reshape(28,28),z,axis=1)\n",
    "inpt=inpt.reshape(1,28,-1)\n",
    "oupt=sess.run(y,feed_dict={x:inpt})\n",
    "showimg(oupt.reshape(28,28))"
   ]
  },
  {
   "cell_type": "code",
   "execution_count": null,
   "metadata": {
    "collapsed": true
   },
   "outputs": [],
   "source": [
    "newimg,lb=mnist.test.next_batch(1)\n",
    "newimg=newimg.reshape(-1)"
   ]
  },
  {
   "cell_type": "code",
   "execution_count": null,
   "metadata": {
    "collapsed": false
   },
   "outputs": [],
   "source": [
    "\n",
    "ind=np.zeros(3)\n",
    "print('IMAGE_TEST_SET:')\n",
    "showimg(newimg.reshape(28,28))\n",
    "print('GROUND TRUTH1:')\n",
    "showimg(newimg.reshape(28,28))\n",
    "print('TRANS1:')\n",
    "z=ind\n",
    "z[0]=1\n",
    "z=np.tile(z,28).reshape(28,-1)\n",
    "inpt=np.append(newimg.reshape(28,28),z,axis=1)\n",
    "inpt=inpt.reshape(1,28,-1)\n",
    "oupt=sess.run(y,feed_dict={x:inpt})\n",
    "showimg(oupt.reshape(28,28))\n",
    "print('GROUND TRUTH2:')\n",
    "newimg1=newimg[::-1].reshape(28,28)\n",
    "newimg1=newimg1.reshape(-1)\n",
    "showimg(newimg1.reshape(28,28))\n",
    "print('TRANS2:')\n",
    "z=ind\n",
    "z[1]=1\n",
    "z=np.tile(z,28).reshape(28,-1)\n",
    "inpt=np.append(newimg.reshape(28,28),z,axis=1)\n",
    "inpt=inpt.reshape(1,28,-1)\n",
    "oupt=sess.run(y,feed_dict={x:inpt})\n",
    "showimg(oupt.reshape(28,28))\n",
    "print('GROUND TRUTH3:')\n",
    "im=newimg.reshape(28,28)\n",
    "im_=np.zeros((im.shape[1],im.shape[0]))\n",
    "for i in range(im.shape[0]):\n",
    "    im_[:,-i]=im[i]\n",
    "showimg(im_)\n",
    "print('TRANS3:')\n",
    "z=ind\n",
    "z[2]=1\n",
    "z=np.tile(z,28).reshape(28,-1)\n",
    "inpt=np.append(newimg.reshape(28,28),z,axis=1)\n",
    "inpt=inpt.reshape(1,28,-1)\n",
    "oupt=sess.run(y,feed_dict={x:inpt})\n",
    "showimg(oupt.reshape(28,28))\n"
   ]
  },
  {
   "cell_type": "code",
   "execution_count": null,
   "metadata": {
    "collapsed": true
   },
   "outputs": [],
   "source": [
    "ind=np.zeros(3)\n",
    "ind[0]=1"
   ]
  },
  {
   "cell_type": "code",
   "execution_count": null,
   "metadata": {
    "collapsed": false
   },
   "outputs": [],
   "source": [
    "print(np.tile(ind,3))\n",
    "ind=np.tile(ind,3)\n"
   ]
  },
  {
   "cell_type": "code",
   "execution_count": null,
   "metadata": {
    "collapsed": false
   },
   "outputs": [],
   "source": [
    "ind=ind.reshape(3,3)"
   ]
  },
  {
   "cell_type": "code",
   "execution_count": null,
   "metadata": {
    "collapsed": false
   },
   "outputs": [],
   "source": [
    "ind"
   ]
  },
  {
   "cell_type": "code",
   "execution_count": null,
   "metadata": {
    "collapsed": false
   },
   "outputs": [],
   "source": [
    "ind.repeat(3).shape"
   ]
  },
  {
   "cell_type": "code",
   "execution_count": null,
   "metadata": {
    "collapsed": true
   },
   "outputs": [],
   "source": []
  }
 ],
 "metadata": {
  "anaconda-cloud": {},
  "kernelspec": {
   "display_name": "Python [conda env:tensorflow]",
   "language": "python",
   "name": "conda-env-tensorflow-py"
  },
  "language_info": {
   "codemirror_mode": {
    "name": "ipython",
    "version": 3
   },
   "file_extension": ".py",
   "mimetype": "text/x-python",
   "name": "python",
   "nbconvert_exporter": "python",
   "pygments_lexer": "ipython3",
   "version": "3.5.4"
  }
 },
 "nbformat": 4,
 "nbformat_minor": 1
}
