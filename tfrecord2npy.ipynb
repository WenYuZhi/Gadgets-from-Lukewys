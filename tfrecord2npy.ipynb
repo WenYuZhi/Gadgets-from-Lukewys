{
 "cells": [
  {
   "cell_type": "markdown",
   "metadata": {},
   "source": [
    "Magenta的数据集为tfrecord格式。tfrecord格式为Tensorflow特有的数据格式，能够将数据和标签二进制存储在一起,并实现高效读写。对于tfrecord的更多介绍，见：<https://www.tensorflow.org/tutorials/load_data/tf-records>。\n",
    "\n",
    "但是，对于tfrecord的读操作需要知道目标数据的数据结构。并且，在读取时，需要用到tf.train.string_input_producer进行队列操作，见：<https://www.tensorflow.org/api_guides/python/reading_data>。如果你认为这种读写数据的方式不利于调试的话（至少我这么认为），这里给出了一个将tfrecord文件转存为npy文件的代码。"
   ]
  },
  {
   "cell_type": "code",
   "execution_count": 1,
   "metadata": {
    "collapsed": true
   },
   "outputs": [],
   "source": [
    "import tensorflow as tf\n",
    "import magenta\n",
    "import os\n",
    "import numpy as np"
   ]
  },
  {
   "cell_type": "code",
   "execution_count": 2,
   "metadata": {
    "collapsed": true
   },
   "outputs": [],
   "source": [
    "file_list=[r'E:\\Magenta\\Dataset\\melody_rnn_bach\\training_melodies.tfrecord',\n",
    "           r'E:\\Magenta\\Dataset\\melody_rnn_jazz\\training_melodies.tfrecord']\n",
    "\n",
    "sess=tf.Session()\n",
    "name_list=[r'bach.npy',\n",
    "           r'jazz.npy']"
   ]
  },
  {
   "cell_type": "code",
   "execution_count": 3,
   "metadata": {
    "collapsed": true
   },
   "outputs": [],
   "source": [
    "def count_record(file_list):\n",
    "    count_list=[]\n",
    "    for fn in file_list:\n",
    "        c = 0\n",
    "        for record in tf.python_io.tf_record_iterator(fn):\n",
    "            c += 1\n",
    "        print(c)\n",
    "        count_list.append(c)\n",
    "    return count_list"
   ]
  },
  {
   "cell_type": "code",
   "execution_count": 4,
   "metadata": {
    "collapsed": false
   },
   "outputs": [],
   "source": [
    "def tfrecord2npy(file,count):\n",
    "    #The first half of this function is in magenta.common.sequence_example_lib.get_padded_batch\n",
    "    input_size=38 #The amount of num_class in melody_rnn\n",
    "    label_shape=[] #Just for compatibility\n",
    "    file_queue = tf.train.string_input_producer(file)\n",
    "    reader = tf.TFRecordReader()\n",
    "    read_queue, serialized_example = reader.read(file_queue)\n",
    "\n",
    "    sequence_features = {\n",
    "        'inputs': tf.FixedLenSequenceFeature(shape=[input_size],\n",
    "                                             dtype=tf.float32),\n",
    "        'labels': tf.FixedLenSequenceFeature(shape=label_shape or [],\n",
    "                                             dtype=tf.int64)}\n",
    "\n",
    "    single_queue, sequence = tf.parse_single_sequence_example(\n",
    "        serialized_example, sequence_features=sequence_features)\n",
    "    \n",
    "    \n",
    "    data=[]\n",
    "    \n",
    "    #https://www.tensorflow.org/api_guides/python/reading_data\n",
    "    coord = tf.train.Coordinator()\n",
    "    threads = tf.train.start_queue_runners(sess, coord)\n",
    "    try:\n",
    "        for i in range (count):\n",
    "            seq=sess.run(sequence)\n",
    "            data.append(seq)\n",
    "    except tf.errors.OutOfRangeError:\n",
    "        print(\"done\")\n",
    "    finally:\n",
    "        coord.request_stop()\n",
    "    #coord.join(threads) #There would be some bugs when this line is added\n",
    "    return data"
   ]
  },
  {
   "cell_type": "code",
   "execution_count": 5,
   "metadata": {
    "collapsed": false
   },
   "outputs": [
    {
     "name": "stdout",
     "output_type": "stream",
     "text": [
      "1513\n",
      "1070\n"
     ]
    }
   ],
   "source": [
    "count_list=count_record(file_list)"
   ]
  },
  {
   "cell_type": "code",
   "execution_count": 6,
   "metadata": {
    "collapsed": false,
    "scrolled": true
   },
   "outputs": [
    {
     "name": "stdout",
     "output_type": "stream",
     "text": [
      "WARNING:tensorflow:From D:\\Anaconda3\\envs\\tensorflow\\lib\\site-packages\\tensorflow\\python\\training\\input.py:187: QueueRunner.__init__ (from tensorflow.python.training.queue_runner_impl) is deprecated and will be removed in a future version.\n",
      "Instructions for updating:\n",
      "To construct input pipelines, use the `tf.data` module.\n",
      "WARNING:tensorflow:From D:\\Anaconda3\\envs\\tensorflow\\lib\\site-packages\\tensorflow\\python\\training\\input.py:187: add_queue_runner (from tensorflow.python.training.queue_runner_impl) is deprecated and will be removed in a future version.\n",
      "Instructions for updating:\n",
      "To construct input pipelines, use the `tf.data` module.\n",
      "WARNING:tensorflow:From <ipython-input-4-638e922a8f85>:23: start_queue_runners (from tensorflow.python.training.queue_runner_impl) is deprecated and will be removed in a future version.\n",
      "Instructions for updating:\n",
      "To construct input pipelines, use the `tf.data` module.\n",
      "INFO:tensorflow:Error reported to Coordinator: <class 'tensorflow.python.framework.errors_impl.CancelledError'>, FIFOQueue '_1_input_producer' is closed.\n",
      "\t [[{{node input_producer/input_producer_EnqueueMany}} = QueueEnqueueManyV2[Tcomponents=[DT_STRING], timeout_ms=-1, _device=\"/job:localhost/replica:0/task:0/device:CPU:0\"](input_producer, input_producer/Identity/_9)]]\n"
     ]
    }
   ],
   "source": [
    "for i in range(len(file_list)):\n",
    "    path=[file_list[i]] \n",
    "    count=count_list[i]\n",
    "    data=tfrecord2npy(path,count)\n",
    "    np.save(name_list[i],data)"
   ]
  }
 ],
 "metadata": {
  "anaconda-cloud": {},
  "kernelspec": {
   "display_name": "Python [conda env:tensorflow]",
   "language": "python",
   "name": "conda-env-tensorflow-py"
  },
  "language_info": {
   "codemirror_mode": {
    "name": "ipython",
    "version": 3
   },
   "file_extension": ".py",
   "mimetype": "text/x-python",
   "name": "python",
   "nbconvert_exporter": "python",
   "pygments_lexer": "ipython3",
   "version": "3.5.4"
  }
 },
 "nbformat": 4,
 "nbformat_minor": 1
}
